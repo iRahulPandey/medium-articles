{
  "nbformat": 4,
  "nbformat_minor": 0,
  "metadata": {
    "colab": {
      "name": "Sankey Diagrams.ipynb",
      "provenance": [],
      "collapsed_sections": [],
      "authorship_tag": "ABX9TyPYUrrDZeWPDxqQ7JoxbTwd",
      "include_colab_link": true
    },
    "kernelspec": {
      "name": "python3",
      "display_name": "Python 3"
    },
    "language_info": {
      "name": "python"
    }
  },
  "cells": [
    {
      "cell_type": "markdown",
      "metadata": {
        "id": "view-in-github",
        "colab_type": "text"
      },
      "source": [
        "<a href=\"https://colab.research.google.com/github/iRahulPandey/medium-articles/blob/master/Sankey_Diagrams.ipynb\" target=\"_parent\"><img src=\"https://colab.research.google.com/assets/colab-badge.svg\" alt=\"Open In Colab\"/></a>"
      ]
    },
    {
      "cell_type": "code",
      "metadata": {
        "colab": {
          "base_uri": "https://localhost:8080/"
        },
        "id": "weo8SG5lROXt",
        "outputId": "3344788f-5624-47e8-a1eb-d7c1b713f45f"
      },
      "source": [
        "!pip install plotly\n",
        "\n",
        "# import libraries\n",
        "import json, urllib\n",
        "#import chart_studio.plotly as py\n",
        "import pandas as pd\n",
        "import numpy as np\n",
        "import plotly.graph_objs as go"
      ],
      "execution_count": 4,
      "outputs": [
        {
          "output_type": "stream",
          "text": [
            "Requirement already satisfied: plotly in /usr/local/lib/python3.7/dist-packages (3.10.0)\n",
            "Requirement already satisfied: pytz in /usr/local/lib/python3.7/dist-packages (from plotly) (2018.9)\n",
            "Requirement already satisfied: requests in /usr/local/lib/python3.7/dist-packages (from plotly) (2.23.0)\n",
            "Requirement already satisfied: six in /usr/local/lib/python3.7/dist-packages (from plotly) (1.15.0)\n",
            "Requirement already satisfied: nbformat>=4.2 in /usr/local/lib/python3.7/dist-packages (from plotly) (5.1.3)\n",
            "Requirement already satisfied: decorator>=4.0.6 in /usr/local/lib/python3.7/dist-packages (from plotly) (4.4.2)\n",
            "Requirement already satisfied: retrying>=1.3.3 in /usr/local/lib/python3.7/dist-packages (from plotly) (1.3.3)\n",
            "Requirement already satisfied: chardet<4,>=3.0.2 in /usr/local/lib/python3.7/dist-packages (from requests->plotly) (3.0.4)\n",
            "Requirement already satisfied: urllib3!=1.25.0,!=1.25.1,<1.26,>=1.21.1 in /usr/local/lib/python3.7/dist-packages (from requests->plotly) (1.24.3)\n",
            "Requirement already satisfied: certifi>=2017.4.17 in /usr/local/lib/python3.7/dist-packages (from requests->plotly) (2021.5.30)\n",
            "Requirement already satisfied: idna<3,>=2.5 in /usr/local/lib/python3.7/dist-packages (from requests->plotly) (2.10)\n",
            "Requirement already satisfied: ipython-genutils in /usr/local/lib/python3.7/dist-packages (from nbformat>=4.2->plotly) (0.2.0)\n",
            "Requirement already satisfied: jsonschema!=2.5.0,>=2.4 in /usr/local/lib/python3.7/dist-packages (from nbformat>=4.2->plotly) (2.6.0)\n",
            "Requirement already satisfied: traitlets>=4.1 in /usr/local/lib/python3.7/dist-packages (from nbformat>=4.2->plotly) (5.0.5)\n",
            "Requirement already satisfied: jupyter-core in /usr/local/lib/python3.7/dist-packages (from nbformat>=4.2->plotly) (4.7.1)\n"
          ],
          "name": "stdout"
        }
      ]
    },
    {
      "cell_type": "code",
      "metadata": {
        "id": "9tUJ3bYtSoJ1"
      },
      "source": [
        "# import data\n",
        "df = pd.read_excel('Project.xlsx')"
      ],
      "execution_count": 5,
      "outputs": []
    },
    {
      "cell_type": "code",
      "metadata": {
        "id": "QASuTwzzUELR"
      },
      "source": [
        "# filter columns\n",
        "columns = ['End Date', 'Budget', 'Project type binary', 'Acronym', 'Suchwort',\n",
        "       'Projekt-TYP\\nLeitprojekt\\nGrundlagenforschung\\nPartnerprojekt',\n",
        "       'Partner-category', 'Partner_short']\n",
        "\n",
        "df_filtered = df[columns].copy()"
      ],
      "execution_count": 6,
      "outputs": []
    },
    {
      "cell_type": "code",
      "metadata": {
        "id": "l8bfxf3i1F7s"
      },
      "source": [
        "df_filtered['Year'] = pd.to_datetime(df_filtered['End Date']).dt.year\n",
        "#df_filtered.drop(columns= 'End Date')"
      ],
      "execution_count": 7,
      "outputs": []
    },
    {
      "cell_type": "code",
      "metadata": {
        "colab": {
          "base_uri": "https://localhost:8080/"
        },
        "id": "W9yF87uK8yAa",
        "outputId": "61d4bf21-79bb-4746-8358-d10ac1f51fd4"
      },
      "source": [
        "df_filtered.columns"
      ],
      "execution_count": 8,
      "outputs": [
        {
          "output_type": "execute_result",
          "data": {
            "text/plain": [
              "Index(['End Date', 'Budget', 'Project type binary', 'Acronym', 'Suchwort',\n",
              "       'Projekt-TYP\\nLeitprojekt\\nGrundlagenforschung\\nPartnerprojekt',\n",
              "       'Partner-category', 'Partner_short', 'Year'],\n",
              "      dtype='object')"
            ]
          },
          "metadata": {
            "tags": []
          },
          "execution_count": 8
        }
      ]
    },
    {
      "cell_type": "code",
      "metadata": {
        "colab": {
          "base_uri": "https://localhost:8080/",
          "height": 204
        },
        "id": "RWk9ryo1Jhx9",
        "outputId": "7d25cde9-016d-4495-dda0-837b9c23f1ef"
      },
      "source": [
        "df_filtered.head()"
      ],
      "execution_count": 9,
      "outputs": [
        {
          "output_type": "execute_result",
          "data": {
            "text/html": [
              "<div>\n",
              "<style scoped>\n",
              "    .dataframe tbody tr th:only-of-type {\n",
              "        vertical-align: middle;\n",
              "    }\n",
              "\n",
              "    .dataframe tbody tr th {\n",
              "        vertical-align: top;\n",
              "    }\n",
              "\n",
              "    .dataframe thead th {\n",
              "        text-align: right;\n",
              "    }\n",
              "</style>\n",
              "<table border=\"1\" class=\"dataframe\">\n",
              "  <thead>\n",
              "    <tr style=\"text-align: right;\">\n",
              "      <th></th>\n",
              "      <th>End Date</th>\n",
              "      <th>Budget</th>\n",
              "      <th>Project type binary</th>\n",
              "      <th>Acronym</th>\n",
              "      <th>Suchwort</th>\n",
              "      <th>Projekt-TYP\\nLeitprojekt\\nGrundlagenforschung\\nPartnerprojekt</th>\n",
              "      <th>Partner-category</th>\n",
              "      <th>Partner_short</th>\n",
              "      <th>Year</th>\n",
              "    </tr>\n",
              "  </thead>\n",
              "  <tbody>\n",
              "    <tr>\n",
              "      <th>0</th>\n",
              "      <td>2024-08-31</td>\n",
              "      <td>179418.67</td>\n",
              "      <td>1</td>\n",
              "      <td>H2Demo</td>\n",
              "      <td>Elektrolyse</td>\n",
              "      <td>Grundlagenforschung</td>\n",
              "      <td>Industry</td>\n",
              "      <td>Plasmetrex GmbH, Berlin</td>\n",
              "      <td>2024</td>\n",
              "    </tr>\n",
              "    <tr>\n",
              "      <th>1</th>\n",
              "      <td>2024-02-29</td>\n",
              "      <td>1338743.06</td>\n",
              "      <td>1</td>\n",
              "      <td>H2Meer</td>\n",
              "      <td>Elektrolyse</td>\n",
              "      <td>Grundlagenforschung</td>\n",
              "      <td>Research</td>\n",
              "      <td>TU-Berlin Chemie</td>\n",
              "      <td>2024</td>\n",
              "    </tr>\n",
              "    <tr>\n",
              "      <th>2</th>\n",
              "      <td>2024-02-29</td>\n",
              "      <td>720118.15</td>\n",
              "      <td>1</td>\n",
              "      <td>H2Meer</td>\n",
              "      <td>Elektrolyse</td>\n",
              "      <td>Grundlagenforschung</td>\n",
              "      <td>Research</td>\n",
              "      <td>Fraunhofer IFAM, Dresden</td>\n",
              "      <td>2024</td>\n",
              "    </tr>\n",
              "    <tr>\n",
              "      <th>3</th>\n",
              "      <td>2024-02-29</td>\n",
              "      <td>411480.09</td>\n",
              "      <td>1</td>\n",
              "      <td>H2Meer</td>\n",
              "      <td>Elektrolyse</td>\n",
              "      <td>Grundlagenforschung</td>\n",
              "      <td>Research</td>\n",
              "      <td>FZJ-IEK11, Erlangen</td>\n",
              "      <td>2024</td>\n",
              "    </tr>\n",
              "    <tr>\n",
              "      <th>4</th>\n",
              "      <td>2024-02-29</td>\n",
              "      <td>153976.50</td>\n",
              "      <td>1</td>\n",
              "      <td>H2Meer</td>\n",
              "      <td>Elektrolyse</td>\n",
              "      <td>Grundlagenforschung</td>\n",
              "      <td>Industry</td>\n",
              "      <td>Alantum Europe GmbH, Munich</td>\n",
              "      <td>2024</td>\n",
              "    </tr>\n",
              "  </tbody>\n",
              "</table>\n",
              "</div>"
            ],
            "text/plain": [
              "    End Date      Budget  ...                Partner_short  Year\n",
              "0 2024-08-31   179418.67  ...      Plasmetrex GmbH, Berlin  2024\n",
              "1 2024-02-29  1338743.06  ...             TU-Berlin Chemie  2024\n",
              "2 2024-02-29   720118.15  ...     Fraunhofer IFAM, Dresden  2024\n",
              "3 2024-02-29   411480.09  ...          FZJ-IEK11, Erlangen  2024\n",
              "4 2024-02-29   153976.50  ...  Alantum Europe GmbH, Munich  2024\n",
              "\n",
              "[5 rows x 9 columns]"
            ]
          },
          "metadata": {
            "tags": []
          },
          "execution_count": 9
        }
      ]
    },
    {
      "cell_type": "code",
      "metadata": {
        "id": "3-xZ-308M-44"
      },
      "source": [
        "# 2023\n",
        "df_2023 = df_filtered.loc[df_filtered['Year'] == 2023]\n",
        "\n",
        "# 2024\n",
        "df_2024 = df_filtered.loc[df_filtered['Year'] == 2024]"
      ],
      "execution_count": 23,
      "outputs": []
    },
    {
      "cell_type": "code",
      "metadata": {
        "id": "f_LDDzxIeCs-"
      },
      "source": [
        "# Research\n",
        "df_Research = df_filtered.loc[df_filtered['Partner-category'] == 'Research']\n",
        "\n",
        "# Industry\n",
        "df_Industry = df_filtered.loc[df_filtered['Partner-category'] == 'Industry']"
      ],
      "execution_count": 68,
      "outputs": []
    },
    {
      "cell_type": "code",
      "metadata": {
        "colab": {
          "base_uri": "https://localhost:8080/"
        },
        "id": "88rdmgEbewJN",
        "outputId": "f30bf2b5-b4de-4cbe-edd4-e5e6a8f3c1d1"
      },
      "source": [
        "# industry/research projects in 2023 and 2024\n",
        "print(df_Research.Budget.groupby(df_Research['Year']).sum())\n",
        "print(df_Industry.Budget.groupby(df_Industry['Year']).sum())"
      ],
      "execution_count": 69,
      "outputs": [
        {
          "output_type": "stream",
          "text": [
            "Year\n",
            "2023     2637569.82\n",
            "2024    16773888.01\n",
            "Name: Budget, dtype: float64\n",
            "Year\n",
            "2023     133868.10\n",
            "2024    1345728.79\n",
            "Name: Budget, dtype: float64\n"
          ],
          "name": "stdout"
        }
      ]
    },
    {
      "cell_type": "code",
      "metadata": {
        "colab": {
          "base_uri": "https://localhost:8080/"
        },
        "id": "s7f19yELgPPB",
        "outputId": "b5a32f97-d9b5-4a9f-c76e-d26b6c3e3edf"
      },
      "source": [
        "# industry/research projects in 2023 - Suchwort\n",
        "print(df_Research.loc[df_Research['Year'] == 2023].Budget.groupby(df_Research['Suchwort']).sum())\n",
        "print(df_Industry.loc[df_Industry['Year'] == 2023].Budget.groupby(df_Industry['Suchwort']).sum())\n",
        "print(df_Research.loc[df_Research['Year'] == 2023].Budget.groupby(df_Research['Suchwort']).sum()+df_Industry.loc[df_Industry['Year'] == 2023].Budget.groupby(df_Industry['Suchwort']).sum())\n",
        "#print(df_2023.loc[df_2023['Partner-category'] == 'Research'].Budget.groupby(df_2023['Suchwort']).sum())"
      ],
      "execution_count": 74,
      "outputs": [
        {
          "output_type": "stream",
          "text": [
            "Suchwort\n",
            "Elektrolyse    2637569.82\n",
            "Name: Budget, dtype: float64\n",
            "Suchwort\n",
            "Elektrolyse    133868.1\n",
            "Name: Budget, dtype: float64\n",
            "Suchwort\n",
            "Elektrolyse    2771437.92\n",
            "Name: Budget, dtype: float64\n"
          ],
          "name": "stdout"
        }
      ]
    },
    {
      "cell_type": "code",
      "metadata": {
        "colab": {
          "base_uri": "https://localhost:8080/"
        },
        "id": "c4PgfZAhi-QZ",
        "outputId": "853ec55b-b993-46c9-95ad-e2488775fc36"
      },
      "source": [
        "# industry/research projects in 2024 - Suchwort\n",
        "print(df_Research.loc[df_Research['Year'] == 2024].Budget.groupby(df_Research['Suchwort']).sum())\n",
        "print(df_Industry.loc[df_Industry['Year'] == 2024].Budget.groupby(df_Industry['Suchwort']).sum())\n",
        "print(df_Research.loc[df_Research['Year'] == 2024].Budget.groupby(df_Research['Suchwort']).sum()+df_Industry.loc[df_Industry['Year'] == 2024].Budget.groupby(df_Industry['Suchwort']).sum())\n"
      ],
      "execution_count": 77,
      "outputs": [
        {
          "output_type": "stream",
          "text": [
            "Suchwort\n",
            "Elektrolyse    12751155.98\n",
            "Wasserstoff     4022732.03\n",
            "Name: Budget, dtype: float64\n",
            "Suchwort\n",
            "Elektrolyse    1004922.07\n",
            "Wasserstoff     340806.72\n",
            "Name: Budget, dtype: float64\n",
            "Suchwort\n",
            "Elektrolyse    13756078.05\n",
            "Wasserstoff     4363538.75\n",
            "Name: Budget, dtype: float64\n"
          ],
          "name": "stdout"
        }
      ]
    },
    {
      "cell_type": "code",
      "metadata": {
        "colab": {
          "base_uri": "https://localhost:8080/"
        },
        "id": "7jDRSdTmkZjK",
        "outputId": "b459dd68-faa5-4913-dc99-26bd15782d9c"
      },
      "source": [
        "# industry/research projects in Electrolysis - Acronym\n",
        "print(df_Research.loc[df_Research['Suchwort'] == 'Elektrolyse'].Budget.groupby(df_Research['Acronym']).sum())\n",
        "print(df_Industry.loc[df_Industry['Suchwort'] == 'Elektrolyse'].Budget.groupby(df_Industry['Acronym']).sum())\n",
        "print(df_Research.loc[df_Research['Suchwort'] == 'Elektrolyse'].Budget.groupby(df_Research['Acronym']).sum()+df_Industry.loc[df_Industry['Suchwort'] == 'Elektrolyse'].Budget.groupby(df_Industry['Acronym']).sum())"
      ],
      "execution_count": 80,
      "outputs": [
        {
          "output_type": "stream",
          "text": [
            "Acronym\n",
            "AEMready             3838513.63\n",
            "CarbonCycleMeOH       726043.08\n",
            "FemtoPEM             1202444.48\n",
            "H2Meer               3050729.99\n",
            "PowerMem             1911526.74\n",
            "SOC-Degradation_2    4659467.88\n",
            "Name: Budget, dtype: float64\n",
            "Acronym\n",
            "AEMready             408060.10\n",
            "CarbonCycleMeOH      133868.10\n",
            "H2Demo               179418.67\n",
            "H2Meer               153976.50\n",
            "SOC-Degradation_2    263466.80\n",
            "Name: Budget, dtype: float64\n",
            "Acronym\n",
            "AEMready             4246573.73\n",
            "CarbonCycleMeOH       859911.18\n",
            "FemtoPEM                    NaN\n",
            "H2Demo                      NaN\n",
            "H2Meer               3204706.49\n",
            "PowerMem                    NaN\n",
            "SOC-Degradation_2    4922934.68\n",
            "Name: Budget, dtype: float64\n"
          ],
          "name": "stdout"
        }
      ]
    },
    {
      "cell_type": "code",
      "metadata": {
        "colab": {
          "base_uri": "https://localhost:8080/"
        },
        "id": "33o42mz_oMu4",
        "outputId": "f93fae03-07ba-4f2f-d415-07989199ae41"
      },
      "source": [
        "# industry/research projects in Wasserstoff - Acronym\n",
        "print(df_Research.loc[df_Research['Suchwort'] == 'Wasserstoff'].Budget.groupby(df_Research['Acronym']).sum())\n",
        "print(df_Industry.loc[df_Industry['Suchwort'] == 'Wasserstoff'].Budget.groupby(df_Industry['Acronym']).sum())\n",
        "print(df_Research.loc[df_Research['Suchwort'] == 'Wasserstoff'].Budget.groupby(df_Research['Acronym']).sum()+df_Industry.loc[df_Industry['Suchwort'] == 'Wasserstoff'].Budget.groupby(df_Industry['Acronym']).sum())"
      ],
      "execution_count": 82,
      "outputs": [
        {
          "output_type": "stream",
          "text": [
            "Acronym\n",
            "InnoSyn    1968383.53\n",
            "NEXplas    2054348.50\n",
            "Name: Budget, dtype: float64\n",
            "Acronym\n",
            "NEXplas    340806.72\n",
            "Name: Budget, dtype: float64\n",
            "Acronym\n",
            "InnoSyn           NaN\n",
            "NEXplas    2395155.22\n",
            "Name: Budget, dtype: float64\n"
          ],
          "name": "stdout"
        }
      ]
    },
    {
      "cell_type": "code",
      "metadata": {
        "colab": {
          "base_uri": "https://localhost:8080/"
        },
        "id": "tk3fI0NjqIoe",
        "outputId": "9da4c44f-f6c4-4b04-f329-3a54a51fb238"
      },
      "source": [
        "# industry/research projects in Acronym - AEMready\n",
        "print(df_Research.loc[df_Research['Acronym'] == 'AEMready'].Budget.groupby(df_Research['Partner_short']).sum())\n",
        "print(df_Industry.loc[df_Industry['Acronym'] == 'AEMready'].Budget.groupby(df_Industry['Partner_short']).sum())\n",
        "print(df_Research.loc[df_Research['Acronym'] == 'AEMready'].Budget.groupby(df_Research['Partner_short']).sum()+df_Industry.loc[df_Industry['Acronym'] == 'AEMready'].Budget.groupby(df_Industry['Partner_short']).sum())"
      ],
      "execution_count": 86,
      "outputs": [
        {
          "output_type": "stream",
          "text": [
            "Partner_short\n",
            "ALU-Freiburg      1445205.39\n",
            "Chemnitz Univ.     784339.20\n",
            "TU-Berlin         1608969.04\n",
            "Name: Budget, dtype: float64\n",
            "Partner_short\n",
            "Siemens Energy, Erlangen    408060.1\n",
            "Name: Budget, dtype: float64\n",
            "Partner_short\n",
            "ALU-Freiburg               NaN\n",
            "Chemnitz Univ.             NaN\n",
            "Siemens Energy, Erlangen   NaN\n",
            "TU-Berlin                  NaN\n",
            "Name: Budget, dtype: float64\n"
          ],
          "name": "stdout"
        }
      ]
    },
    {
      "cell_type": "code",
      "metadata": {
        "colab": {
          "base_uri": "https://localhost:8080/"
        },
        "id": "J7oEepBJtRTT",
        "outputId": "cd913819-f37f-472d-8800-cc778f990ac0"
      },
      "source": [
        "# industry/research projects in Acronym - CarbonCycleMeOH\n",
        "print(df_Research.loc[df_Research['Acronym'] == 'CarbonCycleMeOH'].Budget.groupby(df_Research['Partner_short']).sum())\n",
        "print(df_Industry.loc[df_Industry['Acronym'] == 'CarbonCycleMeOH'].Budget.groupby(df_Industry['Partner_short']).sum())"
      ],
      "execution_count": 87,
      "outputs": [
        {
          "output_type": "stream",
          "text": [
            "Partner_short\n",
            "Fraunhofer IKTS Dresden      361135.61\n",
            "Fraunhofer ISI, Karlsruhe    364907.47\n",
            "Name: Budget, dtype: float64\n",
            "Partner_short\n",
            "Nouryon Industrial Chemicals GmbH (Hoechst?)    101170.73\n",
            "envia THERM GmbH, Bitterfeld-Wolfen              32697.37\n",
            "Name: Budget, dtype: float64\n"
          ],
          "name": "stdout"
        }
      ]
    },
    {
      "cell_type": "code",
      "metadata": {
        "colab": {
          "base_uri": "https://localhost:8080/"
        },
        "id": "yLl5ZFNGvFPI",
        "outputId": "be8c4eec-9c5e-42d5-a7d4-6f079af7e350"
      },
      "source": [
        "# industry/research projects in Acronym - FemtoPEM\n",
        "print(df_Research.loc[df_Research['Acronym'] == 'FemtoPEM'].Budget.groupby(df_Research['Partner_short']).sum())\n",
        "print(df_Industry.loc[df_Industry['Acronym'] == 'FemtoPEM'].Budget.groupby(df_Industry['Partner_short']).sum())"
      ],
      "execution_count": 89,
      "outputs": [
        {
          "output_type": "stream",
          "text": [
            "Partner_short\n",
            "Clausthal Univ. Energy StorageTechnologies (EST)                         342589.29\n",
            "ISFH Emmerthal                                                           384802.73\n",
            "Leibniz University Hanover - Institute for Electrical Energy Systems     475052.46\n",
            "Name: Budget, dtype: float64\n",
            "Series([], Name: Budget, dtype: float64)\n"
          ],
          "name": "stdout"
        }
      ]
    },
    {
      "cell_type": "code",
      "metadata": {
        "colab": {
          "base_uri": "https://localhost:8080/"
        },
        "id": "AuzQ4GTrw8s1",
        "outputId": "cf96db38-41ff-43a1-b794-23b9d70bb6eb"
      },
      "source": [
        "# industry/research projects in Acronym - H2Meer\n",
        "print(df_Research.loc[df_Research['Acronym'] == 'H2Meer'].Budget.groupby(df_Research['Partner_short']).sum())\n",
        "print(df_Industry.loc[df_Industry['Acronym'] == 'H2Meer'].Budget.groupby(df_Industry['Partner_short']).sum())"
      ],
      "execution_count": 91,
      "outputs": [
        {
          "output_type": "stream",
          "text": [
            "Partner_short\n",
            "FZJ-IEK11, Erlangen                       411480.09\n",
            "Fraunhofer IFAM, Dresden                  720118.15\n",
            "Hahn Schickard Gesellscahft, Freiburg     580388.69\n",
            "TU-Berlin Chemie                         1338743.06\n",
            "Name: Budget, dtype: float64\n",
            "Partner_short\n",
            "Alantum Europe GmbH, Munich    153976.5\n",
            "Name: Budget, dtype: float64\n"
          ],
          "name": "stdout"
        }
      ]
    },
    {
      "cell_type": "code",
      "metadata": {
        "colab": {
          "base_uri": "https://localhost:8080/"
        },
        "id": "pSQaD-aAzr4o",
        "outputId": "5f3b3381-1917-4730-a82b-919e54519dfa"
      },
      "source": [
        "# industry/research projects in Acronym - PowerMem\n",
        "print(df_Research.loc[df_Research['Acronym'] == 'PowerMem'].Budget.groupby(df_Research['Partner_short']).sum())\n",
        "print(df_Industry.loc[df_Industry['Acronym'] == 'PowerMem'].Budget.groupby(df_Industry['Partner_short']).sum())"
      ],
      "execution_count": 93,
      "outputs": [
        {
          "output_type": "stream",
          "text": [
            "Partner_short\n",
            "FZJ-IEK11, Erlangen                                                      1209144.13\n",
            "Leibniz University Hanover - Institute for Electrical Energy Systems      702382.61\n",
            "Name: Budget, dtype: float64\n",
            "Series([], Name: Budget, dtype: float64)\n"
          ],
          "name": "stdout"
        }
      ]
    },
    {
      "cell_type": "code",
      "metadata": {
        "colab": {
          "base_uri": "https://localhost:8080/"
        },
        "id": "cqEtIVUw2n5I",
        "outputId": "836c2ae8-63fc-48db-8e80-170cc161025f"
      },
      "source": [
        "# industry/research projects in Acronym - SOC-Degradation_2\n",
        "print(df_Research.loc[df_Research['Acronym'] == 'SOC-Degradation_2'].Budget.groupby(df_Research['Partner_short']).sum())\n",
        "print(df_Industry.loc[df_Industry['Acronym'] == 'SOC-Degradation_2'].Budget.groupby(df_Industry['Partner_short']).sum())"
      ],
      "execution_count": 96,
      "outputs": [
        {
          "output_type": "stream",
          "text": [
            "Partner_short\n",
            "DLR Stuttgart               648368.05\n",
            "FZJ-IEK9, Jülich           2210683.10\n",
            "Fraunhofer IKTS Dresden    1126027.11\n",
            "KIT - IAM-ET                674389.62\n",
            "Name: Budget, dtype: float64\n",
            "Partner_short\n",
            "Hexis GmbH, Konstanz                                           89768.81\n",
            "KERAFOL Keramische Folien GmbH & Co. KG, Eschenbach idOPf.     40156.07\n",
            "SOLIDpower GmbH, Heinsberg                                     25000.00\n",
            "SunFire GmbH, Dresden                                         108541.92\n",
            "Name: Budget, dtype: float64\n"
          ],
          "name": "stdout"
        }
      ]
    },
    {
      "cell_type": "code",
      "metadata": {
        "colab": {
          "base_uri": "https://localhost:8080/"
        },
        "id": "q6jNTAxd7x3o",
        "outputId": "78e97d4f-80a8-4614-de0c-342d501d9eb8"
      },
      "source": [
        "# industry/research projects in Acronym - H2Demo\n",
        "print(df_Research.loc[df_Research['Acronym'] == 'H2Demo'].Budget.groupby(df_Research['Partner_short']).sum())\n",
        "print(df_Industry.loc[df_Industry['Acronym'] == 'H2Demo'].Budget.groupby(df_Industry['Partner_short']).sum())"
      ],
      "execution_count": 98,
      "outputs": [
        {
          "output_type": "stream",
          "text": [
            "Series([], Name: Budget, dtype: float64)\n",
            "Partner_short\n",
            "Plasmetrex GmbH, Berlin    179418.67\n",
            "Name: Budget, dtype: float64\n"
          ],
          "name": "stdout"
        }
      ]
    },
    {
      "cell_type": "code",
      "metadata": {
        "colab": {
          "base_uri": "https://localhost:8080/"
        },
        "id": "cxHlujgc8utn",
        "outputId": "7965a034-5954-47c8-919c-3ed32c1cd542"
      },
      "source": [
        "# industry/research projects in Acronym - InnoSyn\n",
        "print(df_Research.loc[df_Research['Acronym'] == 'InnoSyn'].Budget.groupby(df_Research['Partner_short']).sum())\n",
        "print(df_Industry.loc[df_Industry['Acronym'] == 'InnoSyn'].Budget.groupby(df_Industry['Partner_short']).sum())"
      ],
      "execution_count": 100,
      "outputs": [
        {
          "output_type": "stream",
          "text": [
            "Partner_short\n",
            "KIT - DVGW                                      558676.15\n",
            "KIT - Fuel Technology                          1107729.14\n",
            "Leibniz Institute for Catalysis eV, Rostock     301978.24\n",
            "Name: Budget, dtype: float64\n",
            "Series([], Name: Budget, dtype: float64)\n"
          ],
          "name": "stdout"
        }
      ]
    },
    {
      "cell_type": "code",
      "metadata": {
        "colab": {
          "base_uri": "https://localhost:8080/"
        },
        "id": "jbn4tKUq-hKv",
        "outputId": "d0880d8d-c61f-4df7-df2f-580b3dd96bc5"
      },
      "source": [
        "# industry/research projects in Acronym - NEXplas\n",
        "print(df_Research.loc[df_Research['Acronym'] == 'NEXplas'].Budget.groupby(df_Research['Partner_short']).sum())\n",
        "print(df_Industry.loc[df_Industry['Acronym'] == 'NEXplas'].Budget.groupby(df_Industry['Partner_short']).sum())"
      ],
      "execution_count": 102,
      "outputs": [
        {
          "output_type": "stream",
          "text": [
            "Partner_short\n",
            "Fraunhofer IGB Stuttgart             643347.49\n",
            "Univ. Darmstadt, Material Science    597945.46\n",
            "Univ. Stuttgart IGVP                 813055.55\n",
            "Name: Budget, dtype: float64\n",
            "Partner_short\n",
            "Evonik Operations GmbH, Marl             47879.34\n",
            "Muegge GmbH, Reichelsheim (Odenwald)    292927.38\n",
            "Name: Budget, dtype: float64\n"
          ],
          "name": "stdout"
        }
      ]
    },
    {
      "cell_type": "code",
      "metadata": {
        "colab": {
          "base_uri": "https://localhost:8080/",
          "height": 837
        },
        "id": "FFqY8sP4fKIG",
        "outputId": "aefcbbad-8e72-42cc-c2ca-52c3c8adc9a4"
      },
      "source": [
        "color_node = [\n",
        "'#ff8600', '#386641',\n",
        "'#EAA24C', '#edae49', \n",
        "'#3772FF', '#DC2F02',\n",
        "'#3772FF', '#3772FF', '#3772FF', '#3772FF', '#3772FF', '#3772FF', '#3772FF', '#DC2F02', '#DC2F02',\n",
        "'#3772FF', '#3772FF', '#3772FF', '#3772FF', '#3772FF', '#3772FF', '#3772FF', '#3772FF', '#3772FF','#3772FF', '#3772FF', '#3772FF', '#3772FF', '#3772FF', '#3772FF', '#3772FF', '#3772FF', '#3772FF','#3772FF', '#DC2F02', '#DC2F02', '#DC2F02', '#DC2F02', '#DC2F02', '#DC2F02', '#DC2F02', '#DC2F02','#DC2F02', '#DC2F02', '#DC2F02', '#DC2F02', '#DC2F02']\n",
        "\n",
        "color_link = [\n",
        "'rgba(243, 156, 6, 0.2)', 'rgba(243, 156, 6, 0.2)',  'rgba(32, 115, 46, 0.2)',  'rgba(32, 115, 46, 0.2)',\n",
        "'rgba(249, 208, 46, 0.2)', 'rgba(249, 208, 46, 0.4)',  'rgba(249, 208, 46, 0.4)',\n",
        "'rgba(5, 138, 255, 0.2)', 'rgba(5, 138, 255, 0.2)', 'rgba(5, 138, 255, 0.2)', 'rgba(5, 138, 255, 0.2)', 'rgba(5, 138, 255, 0.2)', 'rgba(5, 138, 255, 0.2)', 'rgba(5, 138, 255, 0.2)', 'rgba(218, 77, 81, 0.2)', 'rgba(218, 77, 81, 0.2)',\n",
        "'rgba(5, 138, 255, 0.2)', 'rgba(5, 138, 255, 0.2)', 'rgba(5, 138, 255, 0.2)', 'rgba(5, 138, 255, 0.2)', 'rgba(5, 138, 255, 0.2)', 'rgba(5, 138, 255, 0.2)', 'rgba(5, 138, 255, 0.2)', 'rgba(5, 138, 255, 0.2)', 'rgba(5, 138, 255, 0.2)', 'rgba(5, 138, 255, 0.2)', \n",
        "'rgba(5, 138, 255, 0.2)', 'rgba(5, 138, 255, 0.2)', 'rgba(5, 138, 255, 0.2)', 'rgba(5, 138, 255, 0.2)', 'rgba(5, 138, 255, 0.2)', 'rgba(5, 138, 255, 0.2)', 'rgba(5, 138, 255, 0.2)', 'rgba(5, 138, 255, 0.2)', 'rgba(5, 138, 255, 0.2)', 'rgba(5, 138, 255, 0.2)', \n",
        "'rgba(5, 138, 255, 0.2)', 'rgba(5, 138, 255, 0.2)', 'rgba(5, 138, 255, 0.2)', 'rgba(5, 138, 255, 0.2)', 'rgba(5, 138, 255, 0.2)', 'rgba(5, 138, 255, 0.2)', 'rgba(5, 138, 255, 0.2)',\n",
        "'rgba(218, 77, 81, 0.2)', 'rgba(218, 77, 81, 0.2)', 'rgba(218, 77, 81, 0.2)', 'rgba(218, 77, 81, 0.2)', 'rgba(218, 77, 81, 0.2)', 'rgba(218, 77, 81, 0.2)', 'rgba(218, 77, 81, 0.2)', 'rgba(218, 77, 81, 0.2)',]\n",
        "\n",
        "\n",
        "fig = go.Figure(data=[go.Sankey(\n",
        "    arrangement = \"snap\",\n",
        "    \n",
        "    node = dict(\n",
        "      pad = 12,\n",
        "      thickness = 15,\n",
        "      color = color_node,\n",
        "      line = dict(color = \"black\", width = 0.3),\n",
        "      label = [\"Industry\", \"Research\", \"2023\", \"2024\", \"Elektrolyse\", \"Wasserstoff\", \"AEMready\", \"CarbonCycleMeOH\", \"FemtoPEM\", \"H2Meer\", \"PowerMem\", \"SOC-Degradation_2\", \"H2Demo\", \"InnoSyn\", \"NEXplas\",\n",
        "               \"ALU-Freiburg\", \n",
        "               \"Chemnitz Univ.\", \n",
        "               \"TU-Berlin\", \n",
        "               \"Siemens Energy, Erlangen\", \n",
        "               \"Fraunhofer IKTS Dresden\", \n",
        "               \"Fraunhofer ISI, Karlsruhe\", \n",
        "               \"Nouryon Industrial Chemicals GmbH (Hoechst?)\",\n",
        "               \"envia THERM GmbH, Bitterfeld-Wolfen\", \n",
        "               \"Clausthal Univ. Energy StorageTechnologies (EST)\", \n",
        "               \"ISFH Emmerthal\", \n",
        "               \"Leibniz University Hanover - Institute for Electrical Energy Systems\",\n",
        "               \"FZJ-IEK11, Erlangen\", \n",
        "               \"Fraunhofer IFAM, Dresden\", \n",
        "               \"Hahn Schickard Gesellscahft, Freiburg\", \n",
        "               \"TU-Berlin Chemie\", \n",
        "               \"Alantum Europe GmbH, Munich\",\n",
        "               \"DLR Stuttgart\",\n",
        "               \"FZJ-IEK9, Jülich\",\n",
        "               \"KIT - IAM-ET\",\n",
        "               \"Hexis GmbH, Konstanz\",\n",
        "               \"KERAFOL Keramische Folien GmbH & Co. KG, Eschenbach idOPf.\",\n",
        "               \"SOLIDpower GmbH, Heinsberg\",\n",
        "               \"SunFire GmbH, Dresden\",\n",
        "               \"Plasmetrex GmbH, Berlin\",\n",
        "               \"KIT - DVGW\",\n",
        "               \"KIT - Fuel Technology\",\n",
        "               \"Leibniz Institute for Catalysis eV, Rostock\",\n",
        "               \"Fraunhofer IGB Stuttgart\",\n",
        "               \"Univ. Darmstadt, Material Science\",\n",
        "               \"Univ. Stuttgart IGVP\",\n",
        "               \"Evonik Operations GmbH, Marl\",\n",
        "               \"Muegge GmbH, Reichelsheim (Odenwald)\",\n",
        "               ],\n",
        "               \n",
        "      #color = \"blue\"\n",
        "      x =  [0, 0, 0.15, 0.15, 0.3, 0.3, 0.5, 0.5, 0.5, 0.5, 0.5, 0.5, 0.5, 0.5, 0.5, \n",
        "            1, 1, 1, 1, 1, 1, 1, 1, 1, 1, \n",
        "            1, 1, 1, 1, 1, 1, 1, 1, 1, 1, \n",
        "            1, 1, 1, 1, 1, 1, 1, 1, 1, 1, 1, 1],\n",
        "      y = [0.8, 0.8, 1, 0.4, 0.55, 0.75,-1, -0.9, -0.8, -0.7, -0.6, -0.5, -0.4, 0.75, 1, \n",
        "           -1, -0.999, -0.998, -0.997, -0.996, -0.995, -0.994, -0.993, -0.992, -0.991, \n",
        "           -0.99, -0.989, -0.988, -0.987, -0.986, -0.985, -0.984, -0.983, -0.982, -0.981, \n",
        "           -0.98, -0.979, -0.978, -0.977, -0.976, -0.975, -0.974, -0.973, -0.972, -0.971, \n",
        "           -0.97, -0.969],\n",
        "    ),\n",
        "    textfont=dict(color=\"#2a3f5f\", size=14),\n",
        "    link = dict(\n",
        "      color=color_link,\n",
        "      \n",
        "      source = [0, 0, 1, 1, 2, 3, 3, 4, 4, 4, 4, 4, 4, 4, 5, 5, 6, 6, 6, 6, 7, 7, 7, 7, 8, 8, 8, 9, 9, 9, 9, 9, 10, 10, 11, 11, 11, 11, 11, 11, 11, 11, 12, 13, 13, 13, 14, 14, 14, 14, 14], \n",
        "      target = [2, 3, 2, 3, 4, 4, 5, 6, 7, 8, 9, 10, 11, 12, 13, 14, 15, 16, 17, 18, 19, 20, 21, 22, 23, 24, 25, 26, 27, 28, 29, 30, 25, 24, 31, 32, 19, 33, 34, 35, 36, 37, 38, 39, 40, 41, 42, 43, 44, 45, 46],\n",
        "      value = [133868.10, 1345728.79, 2637569.82, 16773888.01, 2771437.92, 13756078.05, 4363538.75, 4246573.73, 859911.18, 1202444.48, 3204706.49, 1911526.74, 4922934.68, 179418.67, 1968383.53, 2395155.22,\n",
        "               1445205.39, 784339.20, 1608969.04, 408060.1, 361135.61, 364907.47, 101170.73, 32697.37, 342589.29, 384802.73, 475052.46, 411480.09, 720118.15, 580388.69, 1338743.06, 153976.5,\n",
        "               1209144.13, 702382.61, 648368.05, 2210683.10, 1126027.11, 674389.62, 89768.81, 40156.07, 25000.00, 108541.92, 179418.67, 558676.15, 1107729.14, 301978.24,\n",
        "               643347.49, 597945.46, 813055.55, 47879.34, 292927.38], \n",
        "  ))])\n",
        "\n",
        "fig.layout.update(title_text=\"Project Type : Grundlagenforschung\", font=dict(size = 14, color='black', family='Arial, sans-serif'),\n",
        "    plot_bgcolor='black',\n",
        "    paper_bgcolor='white',\n",
        "    width=int(1500),\n",
        "    height=int(800))\n",
        "fig.show(renderer=\"colab\")\n",
        "fig.write_html(\"file.html\")"
      ],
      "execution_count": 332,
      "outputs": [
        {
          "output_type": "display_data",
          "data": {
            "text/html": [
              "<html>\n",
              "<head><meta charset=\"utf-8\" /></head>\n",
              "<body>\n",
              "    <div>\n",
              "            <script src=\"https://cdnjs.cloudflare.com/ajax/libs/mathjax/2.7.5/MathJax.js?config=TeX-AMS-MML_SVG\"></script><script type=\"text/javascript\">if (window.MathJax) {MathJax.Hub.Config({SVG: {font: \"STIX-Web\"}});}</script>\n",
              "                <script type=\"text/javascript\">window.PlotlyConfig = {MathJaxConfig: 'local'};</script>\n",
              "        <script src=\"https://cdn.plot.ly/plotly-latest.min.js\"></script>    \n",
              "            <div id=\"f879c977-2872-42c9-85ac-f963d9cd96b5\" class=\"plotly-graph-div\" style=\"height:800px; width:1500px;\"></div>\n",
              "            <script type=\"text/javascript\">\n",
              "                \n",
              "                    window.PLOTLYENV=window.PLOTLYENV || {};\n",
              "                    window.PLOTLYENV.BASE_URL='https://plot.ly';\n",
              "                    \n",
              "                if (document.getElementById(\"f879c977-2872-42c9-85ac-f963d9cd96b5\")) {\n",
              "                    Plotly.newPlot(\n",
              "                        'f879c977-2872-42c9-85ac-f963d9cd96b5',\n",
              "                        [{\"arrangement\": \"snap\", \"link\": {\"color\": [\"rgba(243, 156, 6, 0.2)\", \"rgba(243, 156, 6, 0.2)\", \"rgba(32, 115, 46, 0.2)\", \"rgba(32, 115, 46, 0.2)\", \"rgba(249, 208, 46, 0.2)\", \"rgba(249, 208, 46, 0.4)\", \"rgba(249, 208, 46, 0.4)\", \"rgba(5, 138, 255, 0.2)\", \"rgba(5, 138, 255, 0.2)\", \"rgba(5, 138, 255, 0.2)\", \"rgba(5, 138, 255, 0.2)\", \"rgba(5, 138, 255, 0.2)\", \"rgba(5, 138, 255, 0.2)\", \"rgba(5, 138, 255, 0.2)\", \"rgba(218, 77, 81, 0.2)\", \"rgba(218, 77, 81, 0.2)\", \"rgba(5, 138, 255, 0.2)\", \"rgba(5, 138, 255, 0.2)\", \"rgba(5, 138, 255, 0.2)\", \"rgba(5, 138, 255, 0.2)\", \"rgba(5, 138, 255, 0.2)\", \"rgba(5, 138, 255, 0.2)\", \"rgba(5, 138, 255, 0.2)\", \"rgba(5, 138, 255, 0.2)\", \"rgba(5, 138, 255, 0.2)\", \"rgba(5, 138, 255, 0.2)\", \"rgba(5, 138, 255, 0.2)\", \"rgba(5, 138, 255, 0.2)\", \"rgba(5, 138, 255, 0.2)\", \"rgba(5, 138, 255, 0.2)\", \"rgba(5, 138, 255, 0.2)\", \"rgba(5, 138, 255, 0.2)\", \"rgba(5, 138, 255, 0.2)\", \"rgba(5, 138, 255, 0.2)\", \"rgba(5, 138, 255, 0.2)\", \"rgba(5, 138, 255, 0.2)\", \"rgba(5, 138, 255, 0.2)\", \"rgba(5, 138, 255, 0.2)\", \"rgba(5, 138, 255, 0.2)\", \"rgba(5, 138, 255, 0.2)\", \"rgba(5, 138, 255, 0.2)\", \"rgba(5, 138, 255, 0.2)\", \"rgba(5, 138, 255, 0.2)\", \"rgba(218, 77, 81, 0.2)\", \"rgba(218, 77, 81, 0.2)\", \"rgba(218, 77, 81, 0.2)\", \"rgba(218, 77, 81, 0.2)\", \"rgba(218, 77, 81, 0.2)\", \"rgba(218, 77, 81, 0.2)\", \"rgba(218, 77, 81, 0.2)\", \"rgba(218, 77, 81, 0.2)\"], \"source\": [0, 0, 1, 1, 2, 3, 3, 4, 4, 4, 4, 4, 4, 4, 5, 5, 6, 6, 6, 6, 7, 7, 7, 7, 8, 8, 8, 9, 9, 9, 9, 9, 10, 10, 11, 11, 11, 11, 11, 11, 11, 11, 12, 13, 13, 13, 14, 14, 14, 14, 14], \"target\": [2, 3, 2, 3, 4, 4, 5, 6, 7, 8, 9, 10, 11, 12, 13, 14, 15, 16, 17, 18, 19, 20, 21, 22, 23, 24, 25, 26, 27, 28, 29, 30, 25, 24, 31, 32, 19, 33, 34, 35, 36, 37, 38, 39, 40, 41, 42, 43, 44, 45, 46], \"value\": [133868.1, 1345728.79, 2637569.82, 16773888.01, 2771437.92, 13756078.05, 4363538.75, 4246573.73, 859911.18, 1202444.48, 3204706.49, 1911526.74, 4922934.68, 179418.67, 1968383.53, 2395155.22, 1445205.39, 784339.2, 1608969.04, 408060.1, 361135.61, 364907.47, 101170.73, 32697.37, 342589.29, 384802.73, 475052.46, 411480.09, 720118.15, 580388.69, 1338743.06, 153976.5, 1209144.13, 702382.61, 648368.05, 2210683.1, 1126027.11, 674389.62, 89768.81, 40156.07, 25000.0, 108541.92, 179418.67, 558676.15, 1107729.14, 301978.24, 643347.49, 597945.46, 813055.55, 47879.34, 292927.38]}, \"node\": {\"color\": [\"#ff8600\", \"#386641\", \"#EAA24C\", \"#edae49\", \"#3772FF\", \"#DC2F02\", \"#3772FF\", \"#3772FF\", \"#3772FF\", \"#3772FF\", \"#3772FF\", \"#3772FF\", \"#3772FF\", \"#DC2F02\", \"#DC2F02\", \"#3772FF\", \"#3772FF\", \"#3772FF\", \"#3772FF\", \"#3772FF\", \"#3772FF\", \"#3772FF\", \"#3772FF\", \"#3772FF\", \"#3772FF\", \"#3772FF\", \"#3772FF\", \"#3772FF\", \"#3772FF\", \"#3772FF\", \"#3772FF\", \"#3772FF\", \"#3772FF\", \"#3772FF\", \"#DC2F02\", \"#DC2F02\", \"#DC2F02\", \"#DC2F02\", \"#DC2F02\", \"#DC2F02\", \"#DC2F02\", \"#DC2F02\", \"#DC2F02\", \"#DC2F02\", \"#DC2F02\", \"#DC2F02\", \"#DC2F02\"], \"label\": [\"Industry\", \"Research\", \"2023\", \"2024\", \"Elektrolyse\", \"Wasserstoff\", \"AEMready\", \"CarbonCycleMeOH\", \"FemtoPEM\", \"H2Meer\", \"PowerMem\", \"SOC-Degradation_2\", \"H2Demo\", \"InnoSyn\", \"NEXplas\", \"ALU-Freiburg\", \"Chemnitz Univ.\", \"TU-Berlin\", \"Siemens Energy, Erlangen\", \"Fraunhofer IKTS Dresden\", \"Fraunhofer ISI, Karlsruhe\", \"Nouryon Industrial Chemicals GmbH (Hoechst?)\", \"envia THERM GmbH, Bitterfeld-Wolfen\", \"Clausthal Univ. Energy StorageTechnologies (EST)\", \"ISFH Emmerthal\", \"Leibniz University Hanover - Institute for Electrical Energy Systems\", \"FZJ-IEK11, Erlangen\", \"Fraunhofer IFAM, Dresden\", \"Hahn Schickard Gesellscahft, Freiburg\", \"TU-Berlin Chemie\", \"Alantum Europe GmbH, Munich\", \"DLR Stuttgart\", \"FZJ-IEK9, J\\u00fclich\", \"KIT - IAM-ET\", \"Hexis GmbH, Konstanz\", \"KERAFOL Keramische Folien GmbH & Co. KG, Eschenbach idOPf.\", \"SOLIDpower GmbH, Heinsberg\", \"SunFire GmbH, Dresden\", \"Plasmetrex GmbH, Berlin\", \"KIT - DVGW\", \"KIT - Fuel Technology\", \"Leibniz Institute for Catalysis eV, Rostock\", \"Fraunhofer IGB Stuttgart\", \"Univ. Darmstadt, Material Science\", \"Univ. Stuttgart IGVP\", \"Evonik Operations GmbH, Marl\", \"Muegge GmbH, Reichelsheim (Odenwald)\"], \"line\": {\"color\": \"black\", \"width\": 0.3}, \"pad\": 12, \"thickness\": 15, \"x\": [0, 0, 0.15, 0.15, 0.3, 0.3, 0.5, 0.5, 0.5, 0.5, 0.5, 0.5, 0.5, 0.5, 0.5, 1, 1, 1, 1, 1, 1, 1, 1, 1, 1, 1, 1, 1, 1, 1, 1, 1, 1, 1, 1, 1, 1, 1, 1, 1, 1, 1, 1, 1, 1, 1, 1], \"y\": [0.8, 0.8, 1, 0.4, 0.55, 0.75, -1, -0.9, -0.8, -0.7, -0.6, -0.5, -0.4, 0.75, 1, -1, -0.999, -0.998, -0.997, -0.996, -0.995, -0.994, -0.993, -0.992, -0.991, -0.99, -0.989, -0.988, -0.987, -0.986, -0.985, -0.984, -0.983, -0.982, -0.981, -0.98, -0.979, -0.978, -0.977, -0.976, -0.975, -0.974, -0.973, -0.972, -0.971, -0.97, -0.969]}, \"textfont\": {\"color\": \"#2a3f5f\", \"size\": 14}, \"type\": \"sankey\", \"uid\": \"d97c41e0-1b42-420f-a310-e01f0f8986ce\"}],\n",
              "                        {\"font\": {\"color\": \"black\", \"family\": \"Arial, sans-serif\", \"size\": 14}, \"height\": 800, \"paper_bgcolor\": \"white\", \"plot_bgcolor\": \"black\", \"title\": {\"text\": \"Project Type : Grundlagenforschung\"}, \"width\": 1500},\n",
              "                        {\"plotlyServerURL\": \"https://plot.ly\", \"responsive\": true}\n",
              "                    ).then(function(){\n",
              "                            \n",
              "var gd = document.getElementById('f879c977-2872-42c9-85ac-f963d9cd96b5');\n",
              "var x = new MutationObserver(function (mutations, observer) {{\n",
              "        var display = window.getComputedStyle(gd).display;\n",
              "        if (!display || display === 'none') {{\n",
              "            console.log([gd, 'removed!']);\n",
              "            Plotly.purge(gd);\n",
              "            observer.disconnect();\n",
              "        }}\n",
              "}});\n",
              "\n",
              "// Listen for the removal of the full notebook cells\n",
              "var notebookContainer = gd.closest('#notebook-container');\n",
              "if (notebookContainer) {{\n",
              "    x.observe(notebookContainer, {childList: true});\n",
              "}}\n",
              "\n",
              "// Listen for the clearing of the current output cell\n",
              "var outputEl = gd.closest('.output');\n",
              "if (outputEl) {{\n",
              "    x.observe(outputEl, {childList: true});\n",
              "}}\n",
              "\n",
              "                        })\n",
              "                };\n",
              "                \n",
              "            </script>\n",
              "        </div>\n",
              "</body>\n",
              "</html>"
            ]
          },
          "metadata": {
            "tags": []
          }
        }
      ]
    },
    {
      "cell_type": "code",
      "metadata": {
        "colab": {
          "base_uri": "https://localhost:8080/"
        },
        "id": "dssHdSAFMZiD",
        "outputId": "60ffdd1e-8f41-453f-e261-a6ffd04924be"
      },
      "source": [
        "# industry/research projects in 2023 and 2024\n",
        "print(df_2023.Budget.groupby(df_2023['Partner-category']).sum())\n",
        "print(df_2024.Budget.groupby(df_2024['Partner-category']).sum())"
      ],
      "execution_count": 55,
      "outputs": [
        {
          "output_type": "stream",
          "text": [
            "Partner-category\n",
            "Industry     133868.10\n",
            "Research    2637569.82\n",
            "Name: Budget, dtype: float64\n",
            "Partner-category\n",
            "Industry     1345728.79\n",
            "Research    16773888.01\n",
            "Name: Budget, dtype: float64\n"
          ],
          "name": "stdout"
        }
      ]
    },
    {
      "cell_type": "code",
      "metadata": {
        "colab": {
          "base_uri": "https://localhost:8080/"
        },
        "id": "kRjnq5CtOrwR",
        "outputId": "4ef7df78-dbf3-45f2-e819-8575e6d180ab"
      },
      "source": [
        "# industry/research projects in 2023 - Suchwort\n",
        "print(df_2023.loc[df_2023['Partner-category'] == 'Industry'].Budget.groupby(df_2023['Suchwort']).sum())\n",
        "print(df_2023.loc[df_2023['Partner-category'] == 'Research'].Budget.groupby(df_2023['Suchwort']).sum())"
      ],
      "execution_count": 61,
      "outputs": [
        {
          "output_type": "stream",
          "text": [
            "Suchwort\n",
            "Elektrolyse    133868.1\n",
            "Name: Budget, dtype: float64\n",
            "Suchwort\n",
            "Elektrolyse    2637569.82\n",
            "Name: Budget, dtype: float64\n"
          ],
          "name": "stdout"
        }
      ]
    },
    {
      "cell_type": "code",
      "metadata": {
        "colab": {
          "base_uri": "https://localhost:8080/"
        },
        "id": "YjEWUXVcbt7m",
        "outputId": "d4465639-755c-419e-af11-fb102b0aaa8a"
      },
      "source": [
        "# industry/research projects in 2024 - Suchwort\n",
        "print(df_2024.loc[df_2024['Partner-category'] == 'Industry'].Budget.groupby(df_2024['Suchwort']).sum())\n",
        "print(df_2024.loc[df_2024['Partner-category'] == 'Research'].Budget.groupby(df_2024['Suchwort']).sum())"
      ],
      "execution_count": 65,
      "outputs": [
        {
          "output_type": "stream",
          "text": [
            "Suchwort\n",
            "Elektrolyse    1004922.07\n",
            "Wasserstoff     340806.72\n",
            "Name: Budget, dtype: float64\n",
            "Suchwort\n",
            "Elektrolyse    12751155.98\n",
            "Wasserstoff     4022732.03\n",
            "Name: Budget, dtype: float64\n"
          ],
          "name": "stdout"
        }
      ]
    },
    {
      "cell_type": "code",
      "metadata": {
        "colab": {
          "base_uri": "https://localhost:8080/",
          "height": 542
        },
        "id": "K4XdzGMvPo_5",
        "outputId": "ecc41c4f-a1e9-4c0a-8081-cbf6bc438e65"
      },
      "source": [
        "fig = go.Figure(data=[go.Sankey(\n",
        "    node = dict(\n",
        "      pad = 15,\n",
        "      thickness = 20,\n",
        "      line = dict(color = \"black\", width = 0.5),\n",
        "      label = [\"2023\", \"2024\", \"Industry\", \"Research\", \"Elektrolyse\", \"Wasserstoff\"],\n",
        "      color = \"blue\"\n",
        "    ),\n",
        "    link = dict(\n",
        "      source = [0, 0, 1, 1, 2, 3, 2, 3, 2, 3], # indices correspond to labels, eg A1, A2, A1, B1, ...\n",
        "      target = [2, 3, 2, 3, 4, 4, 4, 4, 5, 5],\n",
        "      value = [133868.10, 2637569.82, 1345728.79, 16773888.01, 133868.1, 2637569.82, 1004922.07, 12751155.98, 340806.72, 4022732.03]\n",
        "  ))])\n",
        "\n",
        "fig.layout.update(title_text=\"\", font_size=10)\n",
        "fig.show(renderer=\"colab\")\n",
        "\n"
      ],
      "execution_count": 67,
      "outputs": [
        {
          "output_type": "display_data",
          "data": {
            "text/html": [
              "<html>\n",
              "<head><meta charset=\"utf-8\" /></head>\n",
              "<body>\n",
              "    <div>\n",
              "            <script src=\"https://cdnjs.cloudflare.com/ajax/libs/mathjax/2.7.5/MathJax.js?config=TeX-AMS-MML_SVG\"></script><script type=\"text/javascript\">if (window.MathJax) {MathJax.Hub.Config({SVG: {font: \"STIX-Web\"}});}</script>\n",
              "                <script type=\"text/javascript\">window.PlotlyConfig = {MathJaxConfig: 'local'};</script>\n",
              "        <script src=\"https://cdn.plot.ly/plotly-latest.min.js\"></script>    \n",
              "            <div id=\"f537e182-6606-418d-bdbe-8f8a1c514b25\" class=\"plotly-graph-div\" style=\"height:525px; width:100%;\"></div>\n",
              "            <script type=\"text/javascript\">\n",
              "                \n",
              "                    window.PLOTLYENV=window.PLOTLYENV || {};\n",
              "                    window.PLOTLYENV.BASE_URL='https://plot.ly';\n",
              "                    \n",
              "                if (document.getElementById(\"f537e182-6606-418d-bdbe-8f8a1c514b25\")) {\n",
              "                    Plotly.newPlot(\n",
              "                        'f537e182-6606-418d-bdbe-8f8a1c514b25',\n",
              "                        [{\"link\": {\"source\": [0, 0, 1, 1, 2, 3, 2, 3, 2, 3], \"target\": [2, 3, 2, 3, 4, 4, 4, 4, 5, 5], \"value\": [133868.1, 2637569.82, 1345728.79, 16773888.01, 133868.1, 2637569.82, 1004922.07, 12751155.98, 340806.72, 4022732.03]}, \"node\": {\"color\": \"blue\", \"label\": [\"2023\", \"2024\", \"Industry\", \"Research\", \"Elektrolyse\", \"Wasserstoff\"], \"line\": {\"color\": \"black\", \"width\": 0.5}, \"pad\": 15, \"thickness\": 20}, \"type\": \"sankey\", \"uid\": \"2a52460d-c927-4843-ae43-df6a0cae7737\"}],\n",
              "                        {\"font\": {\"size\": 10}, \"title\": {\"text\": \"\"}},\n",
              "                        {\"plotlyServerURL\": \"https://plot.ly\", \"responsive\": true}\n",
              "                    ).then(function(){\n",
              "                            \n",
              "var gd = document.getElementById('f537e182-6606-418d-bdbe-8f8a1c514b25');\n",
              "var x = new MutationObserver(function (mutations, observer) {{\n",
              "        var display = window.getComputedStyle(gd).display;\n",
              "        if (!display || display === 'none') {{\n",
              "            console.log([gd, 'removed!']);\n",
              "            Plotly.purge(gd);\n",
              "            observer.disconnect();\n",
              "        }}\n",
              "}});\n",
              "\n",
              "// Listen for the removal of the full notebook cells\n",
              "var notebookContainer = gd.closest('#notebook-container');\n",
              "if (notebookContainer) {{\n",
              "    x.observe(notebookContainer, {childList: true});\n",
              "}}\n",
              "\n",
              "// Listen for the clearing of the current output cell\n",
              "var outputEl = gd.closest('.output');\n",
              "if (outputEl) {{\n",
              "    x.observe(outputEl, {childList: true});\n",
              "}}\n",
              "\n",
              "                        })\n",
              "                };\n",
              "                \n",
              "            </script>\n",
              "        </div>\n",
              "</body>\n",
              "</html>"
            ]
          },
          "metadata": {
            "tags": []
          }
        }
      ]
    },
    {
      "cell_type": "code",
      "metadata": {
        "colab": {
          "base_uri": "https://localhost:8080/",
          "height": 542
        },
        "id": "WLKfyDlvQAW8",
        "outputId": "745b75c8-d91e-4b6a-baea-063f720c78cf"
      },
      "source": [
        "import plotly.graph_objs as go\n",
        "\n",
        "\n",
        "import urllib, json\n",
        "\n",
        "url = 'https://raw.githubusercontent.com/plotly/plotly.js/master/test/image/mocks/sankey_energy.json'\n",
        "response = urllib.request.urlopen(url)\n",
        "data = json.loads(response.read())\n",
        "\n",
        "# override gray link colors with 'source' colors\n",
        "opacity = 0.4\n",
        "# change 'magenta' to its 'rgba' value to add opacity\n",
        "data['data'][0]['node']['color'] = ['rgba(255,0,255, 0.8)' if color == \"magenta\" else color for color in data['data'][0]['node']['color']]\n",
        "data['data'][0]['link']['color'] = [data['data'][0]['node']['color'][src].replace(\"0.8\", str(opacity))\n",
        "                                    for src in data['data'][0]['link']['source']]\n",
        "\n",
        "fig = go.Figure(data=[go.Sankey(\n",
        "    valueformat = \".0f\",\n",
        "    valuesuffix = \"TWh\",\n",
        "    # Define nodes\n",
        "    node = dict(\n",
        "      pad = 15,\n",
        "      thickness = 15,\n",
        "      line = dict(color = \"black\", width = 0.5),\n",
        "      label =  data['data'][0]['node']['label'],\n",
        "      color =  data['data'][0]['node']['color']\n",
        "    ),\n",
        "    # Add links\n",
        "    link = dict(\n",
        "      source =  data['data'][0]['link']['source'],\n",
        "      target =  data['data'][0]['link']['target'],\n",
        "      value =  data['data'][0]['link']['value'],\n",
        "      label =  data['data'][0]['link']['label'],\n",
        "      color =  data['data'][0]['link']['color']\n",
        "))])\n",
        "\n",
        "fig.layout.update(title_text=\"Energy forecast for 2050<br>Source: Department of Energy & Climate Change, Tom Counsell via <a href='https://bost.ocks.org/mike/sankey/'>Mike Bostock</a>\",\n",
        "                  font_size=10)\n",
        "fig.show(renderer=\"colab\")"
      ],
      "execution_count": 50,
      "outputs": [
        {
          "output_type": "display_data",
          "data": {
            "text/html": [
              "<html>\n",
              "<head><meta charset=\"utf-8\" /></head>\n",
              "<body>\n",
              "    <div>\n",
              "            <script src=\"https://cdnjs.cloudflare.com/ajax/libs/mathjax/2.7.5/MathJax.js?config=TeX-AMS-MML_SVG\"></script><script type=\"text/javascript\">if (window.MathJax) {MathJax.Hub.Config({SVG: {font: \"STIX-Web\"}});}</script>\n",
              "                <script type=\"text/javascript\">window.PlotlyConfig = {MathJaxConfig: 'local'};</script>\n",
              "        <script src=\"https://cdn.plot.ly/plotly-latest.min.js\"></script>    \n",
              "            <div id=\"304d1518-169f-462b-b924-43f466ee5d8b\" class=\"plotly-graph-div\" style=\"height:525px; width:100%;\"></div>\n",
              "            <script type=\"text/javascript\">\n",
              "                \n",
              "                    window.PLOTLYENV=window.PLOTLYENV || {};\n",
              "                    window.PLOTLYENV.BASE_URL='https://plot.ly';\n",
              "                    \n",
              "                if (document.getElementById(\"304d1518-169f-462b-b924-43f466ee5d8b\")) {\n",
              "                    Plotly.newPlot(\n",
              "                        '304d1518-169f-462b-b924-43f466ee5d8b',\n",
              "                        [{\"link\": {\"color\": [\"rgba(31, 119, 180, 0.4)\", \"rgba(255, 127, 14, 0.4)\", \"rgba(255, 127, 14, 0.4)\", \"rgba(255, 127, 14, 0.4)\", \"rgba(255, 127, 14, 0.4)\", \"rgba(227, 119, 194, 0.4)\", \"rgba(127, 127, 127, 0.4)\", \"rgba(188, 189, 34, 0.4)\", \"rgba(31, 119, 180, 0.4)\", \"rgba(23, 190, 207, 0.4)\", \"rgba(255, 127, 14, 0.4)\", \"rgba(255, 127, 14, 0.4)\", \"rgba(255, 127, 14, 0.4)\", \"rgba(140, 86, 75, 0.4)\", \"rgba(140, 86, 75, 0.4)\", \"rgba(140, 86, 75, 0.4)\", \"rgba(140, 86, 75, 0.4)\", \"rgba(140, 86, 75, 0.4)\", \"rgba(140, 86, 75, 0.4)\", \"rgba(140, 86, 75, 0.4)\", \"rgba(140, 86, 75, 0.4)\", \"rgba(140, 86, 75, 0.4)\", \"rgba(140, 86, 75, 0.4)\", \"rgba(140, 86, 75, 0.4)\", \"rgba(214, 39, 40, 0.4)\", \"rgba(140, 86, 75, 0.4)\", \"rgba(140, 86, 75, 0.4)\", \"rgba(140, 86, 75, 0.4)\", \"rgba(140, 86, 75, 0.4)\", \"rgba(140, 86, 75, 0.4)\", \"rgba(140, 86, 75, 0.4)\", \"rgba(127, 127, 127, 0.4)\", \"rgba(127, 127, 127, 0.4)\", \"rgba(127, 127, 127, 0.4)\", \"rgba(188, 189, 34, 0.4)\", \"rgba(23, 190, 207, 0.4)\", \"rgba(44, 160, 44, 0.4)\", \"rgba(44, 160, 44, 0.4)\", \"rgba(44, 160, 44, 0.4)\", \"rgba(44, 160, 44, 0.4)\", \"rgba(44, 160, 44, 0.4)\", \"rgba(44, 160, 44, 0.4)\", \"rgba(44, 160, 44, 0.4)\", \"rgba(44, 160, 44, 0.4)\", \"rgba(148, 103, 189, 0.4)\", \"rgba(148, 103, 189, 0.4)\", \"rgba(255,0,255, 0.4)\", \"rgba(255,0,255, 0.4)\", \"rgba(227, 119, 194, 0.4)\", \"rgba(188, 189, 34, 0.4)\", \"rgba(127, 127, 127, 0.4)\", \"rgba(23, 190, 207, 0.4)\", \"rgba(23, 190, 207, 0.4)\", \"rgba(31, 119, 180, 0.4)\", \"rgba(31, 119, 180, 0.4)\", \"rgba(255, 127, 14, 0.4)\", \"rgba(44, 160, 44, 0.4)\", \"rgba(214, 39, 40, 0.4)\", \"rgba(214, 39, 40, 0.4)\", \"rgba(148, 103, 189, 0.4)\", \"rgba(148, 103, 189, 0.4)\", \"rgba(148, 103, 189, 0.4)\", \"rgba(227, 119, 194, 0.4)\", \"rgba(227, 119, 194, 0.4)\", \"rgba(227, 119, 194, 0.4)\", \"rgba(148, 103, 189, 0.4)\", \"rgba(140, 86, 75, 0.4)\", \"rgba(227, 119, 194, 0.4)\", \"rgba(127, 127, 127, 0.4)\", \"rgba(255,0,255, 0.4)\", \"rgba(255,0,255, 0.4)\"], \"label\": [\"stream 1\", \"\", \"\", \"\", \"stream 1\", \"\", \"\", \"\", \"\", \"\", \"\", \"\", \"\", \"\", \"\", \"\", \"\", \"\", \"\", \"\", \"\", \"\", \"\", \"\", \"\", \"\", \"\", \"\", \"\", \"\", \"stream 1\", \"\", \"\", \"\", \"\", \"\", \"\", \"\", \"\", \"\", \"\", \"\", \"\", \"\", \"\", \"\", \"Old generation plant (made-up)\", \"New generation plant (made-up)\", \"\", \"\", \"\", \"\", \"\", \"\", \"\", \"\", \"\", \"\", \"\", \"\", \"\", \"\", \"\", \"\", \"\", \"\", \"\", \"\", \"\", \"\", \"\"], \"source\": [0, 1, 1, 1, 1, 6, 7, 8, 10, 9, 11, 11, 11, 15, 15, 15, 15, 15, 15, 15, 15, 15, 15, 15, 23, 25, 5, 5, 5, 5, 5, 27, 17, 17, 28, 29, 2, 2, 2, 2, 2, 2, 2, 2, 34, 24, 35, 35, 36, 38, 37, 39, 39, 40, 40, 41, 42, 43, 43, 4, 4, 4, 26, 26, 26, 44, 45, 46, 47, 35, 35], \"target\": [1, 2, 3, 4, 5, 2, 4, 9, 9, 4, 12, 13, 14, 16, 14, 17, 12, 18, 19, 13, 3, 20, 21, 22, 24, 24, 13, 3, 26, 19, 12, 15, 28, 3, 18, 15, 12, 30, 18, 31, 32, 19, 33, 20, 1, 5, 26, 26, 37, 37, 2, 4, 1, 14, 13, 15, 14, 42, 41, 19, 26, 12, 15, 3, 11, 15, 1, 15, 15, 26, 26], \"value\": [124.729, 0.597, 26.862, 280.322, 81.144, 35, 35, 11.606, 63.965, 75.571, 10.639, 22.505, 46.184, 104.453, 113.726, 27.14, 342.165, 37.797, 4.412, 40.858, 56.691, 7.863, 90.008, 93.494, 40.719, 82.233, 0.129, 1.401, 151.891, 2.096, 48.58, 7.013, 20.897, 6.242, 20.897, 6.995, 121.066, 128.69, 135.835, 14.458, 206.267, 3.64, 33.218, 4.413, 14.375, 122.952, 500, 139.978, 504.287, 107.703, 611.99, 56.587, 77.81, 193.026, 70.672, 59.901, 19.263, 19.263, 59.901, 0.882, 400.12, 46.477, 525.531, 787.129, 79.329, 9.452, 182.01, 19.013, 289.366, 100, 100]}, \"node\": {\"color\": [\"rgba(31, 119, 180, 0.8)\", \"rgba(255, 127, 14, 0.8)\", \"rgba(44, 160, 44, 0.8)\", \"rgba(214, 39, 40, 0.8)\", \"rgba(148, 103, 189, 0.8)\", \"rgba(140, 86, 75, 0.8)\", \"rgba(227, 119, 194, 0.8)\", \"rgba(127, 127, 127, 0.8)\", \"rgba(188, 189, 34, 0.8)\", \"rgba(23, 190, 207, 0.8)\", \"rgba(31, 119, 180, 0.8)\", \"rgba(255, 127, 14, 0.8)\", \"rgba(44, 160, 44, 0.8)\", \"rgba(214, 39, 40, 0.8)\", \"rgba(148, 103, 189, 0.8)\", \"rgba(140, 86, 75, 0.8)\", \"rgba(227, 119, 194, 0.8)\", \"rgba(127, 127, 127, 0.8)\", \"rgba(188, 189, 34, 0.8)\", \"rgba(23, 190, 207, 0.8)\", \"rgba(31, 119, 180, 0.8)\", \"rgba(255, 127, 14, 0.8)\", \"rgba(44, 160, 44, 0.8)\", \"rgba(214, 39, 40, 0.8)\", \"rgba(148, 103, 189, 0.8)\", \"rgba(140, 86, 75, 0.8)\", \"rgba(227, 119, 194, 0.8)\", \"rgba(127, 127, 127, 0.8)\", \"rgba(188, 189, 34, 0.8)\", \"rgba(23, 190, 207, 0.8)\", \"rgba(31, 119, 180, 0.8)\", \"rgba(255, 127, 14, 0.8)\", \"rgba(44, 160, 44, 0.8)\", \"rgba(214, 39, 40, 0.8)\", \"rgba(148, 103, 189, 0.8)\", \"rgba(255,0,255, 0.8)\", \"rgba(227, 119, 194, 0.8)\", \"rgba(127, 127, 127, 0.8)\", \"rgba(188, 189, 34, 0.8)\", \"rgba(23, 190, 207, 0.8)\", \"rgba(31, 119, 180, 0.8)\", \"rgba(255, 127, 14, 0.8)\", \"rgba(44, 160, 44, 0.8)\", \"rgba(214, 39, 40, 0.8)\", \"rgba(148, 103, 189, 0.8)\", \"rgba(140, 86, 75, 0.8)\", \"rgba(227, 119, 194, 0.8)\", \"rgba(127, 127, 127, 0.8)\"], \"label\": [\"Agricultural 'waste'\", \"Bio-conversion\", \"Liquid\", \"Losses\", \"Solid\", \"Gas\", \"Biofuel imports\", \"Biomass imports\", \"Coal imports\", \"Coal\", \"Coal reserves\", \"District heating\", \"Industry\", \"Heating and cooling - commercial\", \"Heating and cooling - homes\", \"Electricity grid\", \"Over generation / exports\", \"H2 conversion\", \"Road transport\", \"Agriculture\", \"Rail transport\", \"Lighting & appliances - commercial\", \"Lighting & appliances - homes\", \"Gas imports\", \"Ngas\", \"Gas reserves\", \"Thermal generation\", \"Geothermal\", \"H2\", \"Hydro\", \"International shipping\", \"Domestic aviation\", \"International aviation\", \"National navigation\", \"Marine algae\", \"Nuclear\", \"Oil imports\", \"Oil\", \"Oil reserves\", \"Other waste\", \"Pumped heat\", \"Solar PV\", \"Solar Thermal\", \"Solar\", \"Tidal\", \"UK land based bioenergy\", \"Wave\", \"Wind\"], \"line\": {\"color\": \"black\", \"width\": 0.5}, \"pad\": 15, \"thickness\": 15}, \"type\": \"sankey\", \"uid\": \"46137c54-186f-41ac-aa54-dd9e982deadb\", \"valueformat\": \".0f\", \"valuesuffix\": \"TWh\"}],\n",
              "                        {\"font\": {\"size\": 10}, \"title\": {\"text\": \"Energy forecast for 2050<br>Source: Department of Energy & Climate Change, Tom Counsell via <a href='https://bost.ocks.org/mike/sankey/'>Mike Bostock</a>\"}},\n",
              "                        {\"plotlyServerURL\": \"https://plot.ly\", \"responsive\": true}\n",
              "                    ).then(function(){\n",
              "                            \n",
              "var gd = document.getElementById('304d1518-169f-462b-b924-43f466ee5d8b');\n",
              "var x = new MutationObserver(function (mutations, observer) {{\n",
              "        var display = window.getComputedStyle(gd).display;\n",
              "        if (!display || display === 'none') {{\n",
              "            console.log([gd, 'removed!']);\n",
              "            Plotly.purge(gd);\n",
              "            observer.disconnect();\n",
              "        }}\n",
              "}});\n",
              "\n",
              "// Listen for the removal of the full notebook cells\n",
              "var notebookContainer = gd.closest('#notebook-container');\n",
              "if (notebookContainer) {{\n",
              "    x.observe(notebookContainer, {childList: true});\n",
              "}}\n",
              "\n",
              "// Listen for the clearing of the current output cell\n",
              "var outputEl = gd.closest('.output');\n",
              "if (outputEl) {{\n",
              "    x.observe(outputEl, {childList: true});\n",
              "}}\n",
              "\n",
              "                        })\n",
              "                };\n",
              "                \n",
              "            </script>\n",
              "        </div>\n",
              "</body>\n",
              "</html>"
            ]
          },
          "metadata": {
            "tags": []
          }
        }
      ]
    },
    {
      "cell_type": "code",
      "metadata": {
        "id": "SZpGEQvYP_an"
      },
      "source": [
        "data"
      ],
      "execution_count": null,
      "outputs": []
    },
    {
      "cell_type": "code",
      "metadata": {
        "id": "Nn6FFstD8XoY"
      },
      "source": [
        "from sklearn.preprocessing import LabelEncoder\n",
        "data_create = df_filtered[['Budget','Project type binary','Year']].copy()"
      ],
      "execution_count": null,
      "outputs": []
    },
    {
      "cell_type": "code",
      "metadata": {
        "colab": {
          "base_uri": "https://localhost:8080/"
        },
        "id": "iC_ALT9h9UTA",
        "outputId": "3178eed5-1565-418e-b452-916272e2b1b3"
      },
      "source": [
        "encode = LabelEncoder()\n",
        "#data_create['Acronym'] = encode.fit_transform(df_filtered[['Acronym']]);\n",
        "data_create['Suchwort'] = encode.fit_transform(df_filtered[['Suchwort']]);\n",
        "#data_create['Partnerprojekt'] = encode.fit_transform(df_filtered[['Projekt-TYP\\nLeitprojekt\\nGrundlagenforschung\\nPartnerprojekt']]);\n",
        "data_create['Partner-category'] = encode.fit_transform(df_filtered[['Partner-category']]);\n",
        "data_create['Partner_short'] = encode.fit_transform(df_filtered[['Partner_short']]);\n"
      ],
      "execution_count": null,
      "outputs": [
        {
          "output_type": "stream",
          "text": [
            "/usr/local/lib/python3.7/dist-packages/sklearn/preprocessing/_label.py:251: DataConversionWarning: A column-vector y was passed when a 1d array was expected. Please change the shape of y to (n_samples, ), for example using ravel().\n",
            "  y = column_or_1d(y, warn=True)\n"
          ],
          "name": "stderr"
        }
      ]
    },
    {
      "cell_type": "code",
      "metadata": {
        "id": "afJ35oL59qhN"
      },
      "source": [
        "\n",
        "# Now, matrix contains a 6x6 matrix of the values.\n",
        "matrix = data_create.corr()\n",
        "# Replacing negative values with 0’s, as features can be negatively correlated.\n",
        "matrix[matrix < 0] = 0\n",
        "# Multiplying all values by 100 for clarity, since correlation values lie b/w 0 and 1.\n",
        "matrix = matrix.multiply(100).astype(int)\n",
        "# Converting the DataFrame to a 2D List, as it is the required input format.\n",
        "matrix = matrix.values.tolist()"
      ],
      "execution_count": null,
      "outputs": []
    },
    {
      "cell_type": "code",
      "metadata": {
        "id": "G0e5UPnF9tHp"
      },
      "source": [
        "# Names of the features.\n",
        "names = data_create.columns.to_list()"
      ],
      "execution_count": null,
      "outputs": []
    },
    {
      "cell_type": "code",
      "metadata": {
        "colab": {
          "base_uri": "https://localhost:8080/"
        },
        "id": "wbzzVWDT-6Qm",
        "outputId": "d58dad9a-60a9-4b0c-a0ca-68a62636d7be"
      },
      "source": [
        "! pip install chord\n",
        "from chord import Chord"
      ],
      "execution_count": null,
      "outputs": [
        {
          "output_type": "stream",
          "text": [
            "Collecting chord\n",
            "  Downloading https://files.pythonhosted.org/packages/87/96/2c147c15f713a1753f7efbea1b89e5330466f54a64e45abfd7f48f3cd72f/chord-1.0.2-py3-none-any.whl\n",
            "Installing collected packages: chord\n",
            "Successfully installed chord-1.0.2\n"
          ],
          "name": "stdout"
        }
      ]
    },
    {
      "cell_type": "code",
      "metadata": {
        "colab": {
          "base_uri": "https://localhost:8080/",
          "height": 751
        },
        "id": "-v7tpg_eBJrD",
        "outputId": "5b89c5b2-97e2-45ff-da7f-0f9dec7230a6"
      },
      "source": [
        "Chord(matrix, names).show()"
      ],
      "execution_count": null,
      "outputs": [
        {
          "output_type": "display_data",
          "data": {
            "text/html": [
              "<!DOCTYPE html>\n",
              "<html>\n",
              "  <head>\n",
              "    <!--Chord - Python wrapper around d3-chord\n",
              "\n",
              "    This package enables the generation of Chord diagrams. They can be saved \n",
              "    directly to HTML files or displayed in a Jupyter Notebook output cell.\n",
              "\n",
              "    Copyright 2020, Dr. Shahin Rostami\n",
              "    http://shahinrostami.com\n",
              "    https://github.com/shahinrostami/chord\n",
              "    https://pypi.org/project/chord/\n",
              "    -->\n",
              "    <!--LICENSE\n",
              "    Chord (https://github.com/shahinrostami/chord) generates interactive chord diagrams.\n",
              "    Copyright (C) 2020  Dr. Shahin Rostami\n",
              "\n",
              "    This program is free software: you can redistribute it and/or modify\n",
              "    it under the terms of the GNU Affero General Public License as published\n",
              "    by the Free Software Foundation, either version 3 of the License, or\n",
              "    (at your option) any later version.\n",
              "\n",
              "    This program is distributed in the hope that it will be useful,\n",
              "    but WITHOUT ANY WARRANTY; without even the implied warranty of\n",
              "    MERCHANTABILITY or FITNESS FOR A PARTICULAR PURPOSE. See the\n",
              "    GNU Affero General Public License for more details.\n",
              "\n",
              "    You should have received a copy of the GNU Affero General Public License\n",
              "    along with this program.  If not, see <https://www.gnu.org/licenses/>.\n",
              "    -->\n",
              "  \t<meta http-equiv=\"Content-Type\" content=\"text/html;charset=utf-8\"/>\n",
              "    <title>Chord Diagram</title>\n",
              "    <!-- Google Fonts -->\n",
              "    <script src=\"https://d3js.org/d3.v5.min.js\"></script>\n",
              "    <link\n",
              "      href=\"https://fonts.googleapis.com/css?family=Lato:400,900\"\n",
              "      rel=\"stylesheet\"\n",
              "      type=\"text/css\"\n",
              "    />\n",
              "\n",
              "    <style>\n",
              "      .tippy-content {\n",
              "        font-family: \"Lato\", sans-serif;\n",
              "      }\n",
              "\n",
              "      #chart-458625dd, #featured-chart-458625dd {\n",
              "\n",
              "        font-size: 16px;\n",
              "        font-family: \"Lato\", sans-serif;\n",
              "        text-align: center;\n",
              "        fill: #454545;\n",
              "      }\n",
              "\n",
              "      #chart-458625dd svg, #featured-chart-458625dd svg {\n",
              "        max-width: 700.0px;\n",
              "      }\n",
              "\n",
              "      @media (min-width: 600px) {\n",
              "\t\t\t\t#chart-458625dd{\n",
              "\t\t\t\t\tfont-size: 20px;\n",
              "\t\t\t\t}\n",
              "\t\t\t}\n",
              "    </style>\n",
              "  </head>\n",
              "  <body>\n",
              "    <div id=\"chart-458625dd\" class=\"chord\">\n",
              "    </div>\n",
              "    <script src=\"https://unpkg.com/@popperjs/core@2\"></script>\n",
              "    <script src=\"https://unpkg.com/tippy.js@6\"></script>\n",
              "    <script>\n",
              "      var script = document.createElement(\"script\");\n",
              "      script.type = \"text/javascript\";\n",
              "      script.src = \"https://d3js.org/d3.v5.min.js\";\n",
              "\n",
              "      script.onload = function () {\n",
              "\n",
              "        var script2 = document.createElement(\"script\");\n",
              "        script2.type = \"text/javascript\";\n",
              "        script2.src = \"https://datacrayon.com/assets/chord/script.js\";\n",
              "        script2.onload = function () {\n",
              "          margin = {\n",
              "          left: 100.0,\n",
              "          top: 100.0,\n",
              "          right: 100.0,\n",
              "          bottom: 100.0\n",
              "        };\n",
              "        width = Math.min(window.innerWidth, 700.0) - margin.left - margin.right;\n",
              "        height = Math.min(window.innerWidth, 700.0) - margin.top - margin.bottom;\n",
              "        innerRadius = Math.min(width, height) * 0.39;\n",
              "        outerRadius = innerRadius * 1.1;\n",
              "\n",
              "      tag_id = \"chart-458625dd\";\n",
              "      padding = 0.01;\n",
              "      Names = ['Budget', 'Project type binary', 'Year', 'Suchwort', 'Partner-category', 'Partner_short'];\n",
              "      colors = d3.schemeSet1;\n",
              "      opacityDefault = 0.8;\n",
              "      matrix = [[100.0, 0.0, 12.0, 0.0, 62.0, 0.0], [0.0, 100.0, 37.0, 9.0, 0.0, 0.0], [12.0, 37.0, 100.0, 24.0, 1.0, 0.0], [0.0, 9.0, 24.0, 100.0, 7.0, 18.0], [62.0, 0.0, 1.0, 7.0, 100.0, 0.0], [0.0, 0.0, 0.0, 18.0, 0.0, 100.0]];\n",
              "      wrap_labels = true;\n",
              "      \n",
              "      ////////////////////////////////////////////////////////////\n",
              "      /////////// Create scale and layout functions //////////////\n",
              "      ////////////////////////////////////////////////////////////\n",
              "\n",
              "      var colors = d3\n",
              "        .scaleOrdinal()\n",
              "        .domain(d3.range(Names.length))\n",
              "        .range(colors);\n",
              "\n",
              "      //A \"custom\" d3 chord function that automatically sorts the order of the chords in such a manner to reduce overlap\n",
              "      var chord = customChordLayout()\n",
              "        .padding(padding)\n",
              "        .sortChords(d3.descending) //which chord should be shown on top when chords cross. Now the biggest chord is at the bottom\n",
              "        .matrix(matrix);\n",
              "\n",
              "      var arc = d3\n",
              "        .arc()\n",
              "        .innerRadius(innerRadius * 1.01)\n",
              "        .outerRadius(outerRadius);\n",
              "\n",
              "      var path = d3.ribbon().radius(innerRadius);\n",
              "\n",
              "      ////////////////////////////////////////////////////////////\n",
              "      ////////////////////// Create SVG //////////////////////////\n",
              "      ///////////////////////////////////////////////////////////\n",
              "\n",
              "      var svg = d3\n",
              "        .select(\"#\" + tag_id)\n",
              "        .append(\"svg\")\n",
              "        .attr(\n",
              "          \"viewBox\",\n",
              "          \"0 0 \" +\n",
              "            (width + margin.left + margin.right) +\n",
              "          \" \" +\n",
              "          (height + margin.top + margin.bottom)\n",
              "        )\n",
              "        .attr(\"preserveAspectRatio\", \"xMinYMin meet\")\n",
              "        .append(\"g\")\n",
              "        .attr(\n",
              "          \"transform\",\n",
              "          \"translate(\" +\n",
              "            (width / 2 + margin.left) +\n",
              "            \",\" +\n",
              "            (height / 2 + margin.top) +\n",
              "            \")\"\n",
              "        );\n",
              "\n",
              "        d3\n",
              "          .select(\"#\" + tag_id)\n",
              "          .append(\"span\")\n",
              "          .style(\"display\", \"block\")\n",
              "          .style(\"font-size\", \"12px\")\n",
              "          .style(\"text-align\", \"right\")\n",
              "          .style(\"font-family\", '\"Arial\", sans-serif')\n",
              "          .html('get <a href=\"https://m8.fyi/chord\">chord pro</a> [<a href=\"https://twitter.com/shahinrostami\">@ShahinRostami</a>]');\n",
              "\n",
              "        d3\n",
              "          .select(\"#\" + tag_id)\n",
              "          .select(\"span\")\n",
              "          .append(\"span\")\n",
              "          .style(\"font-size\", \"12px\")\n",
              "          .style(\"font-family\", '\"Arial\", sans-serif')\n",
              "          .html('<br>see more at <a href=\"https://DataCrayon.com\">DataCrayon.com</a>');\n",
              "        \n",
              "      ////////////////////////////////////////////////////////////\n",
              "      /////////////// Create the gradient fills //////////////////\n",
              "      ////////////////////////////////////////////////////////////\n",
              "\n",
              "      //Function to create the id for each chord gradient\n",
              "      function getGradID(d) {\n",
              "        return (\n",
              "          \"linkGrad-\" + tag_id + \"-\" + d.source.index + \"-\" + d.target.index\n",
              "        );\n",
              "      }\n",
              "\n",
              "\n",
              "\n",
              "\n",
              "      //Create the gradients definitions for each chord\n",
              "      var grads = svg\n",
              "        .append(\"defs\")\n",
              "        .selectAll(\"linearGradient\")\n",
              "        .data(chord.chords())\n",
              "        .enter()\n",
              "        .append(\"linearGradient\")\n",
              "        .attr(\"id\", getGradID)\n",
              "        .attr(\"gradientUnits\", \"userSpaceOnUse\")\n",
              "        .attr(\"x1\", function (d, i) {\n",
              "          return (\n",
              "            innerRadius *\n",
              "            Math.cos(\n",
              "              (d.source.endAngle - d.source.startAngle) / 2 +\n",
              "                d.source.startAngle -\n",
              "                Math.PI / 2\n",
              "            )\n",
              "          );\n",
              "        })\n",
              "        .attr(\"y1\", function (d, i) {\n",
              "          return (\n",
              "            innerRadius *\n",
              "            Math.sin(\n",
              "              (d.source.endAngle - d.source.startAngle) / 2 +\n",
              "                d.source.startAngle -\n",
              "                Math.PI / 2\n",
              "            )\n",
              "          );\n",
              "        })\n",
              "        .attr(\"x2\", function (d, i) {\n",
              "          return (\n",
              "            innerRadius *\n",
              "            Math.cos(\n",
              "              (d.target.endAngle - d.target.startAngle) / 2 +\n",
              "                d.target.startAngle -\n",
              "                Math.PI / 2\n",
              "            )\n",
              "          );\n",
              "        })\n",
              "        .attr(\"y2\", function (d, i) {\n",
              "          return (\n",
              "            innerRadius *\n",
              "            Math.sin(\n",
              "              (d.target.endAngle - d.target.startAngle) / 2 +\n",
              "                d.target.startAngle -\n",
              "                Math.PI / 2\n",
              "            )\n",
              "          );\n",
              "        });\n",
              "\n",
              "      //Set the starting color (at 0%)\n",
              "      grads\n",
              "        .append(\"stop\")\n",
              "        .attr(\"offset\", \"0%\")\n",
              "        .attr(\"stop-color\", function (d) {\n",
              "          return colors(d.source.index);\n",
              "        });\n",
              "\n",
              "      //Set the ending color (at 100%)\n",
              "      grads\n",
              "        .append(\"stop\")\n",
              "        .attr(\"offset\", \"100%\")\n",
              "        .attr(\"stop-color\", function (d) {\n",
              "          return colors(d.target.index);\n",
              "        });\n",
              "\n",
              "      ////////////////////////////////////////////////////////////\n",
              "      ////////////////// Draw outer Arcs /////////////////////////\n",
              "      ////////////////////////////////////////////////////////////\n",
              "\n",
              "      var outerArcs = svg\n",
              "        .selectAll(\"g.group\")\n",
              "        .data(chord.groups)\n",
              "        .enter()\n",
              "        .append(\"g\")\n",
              "        .attr(\"class\", \"group\")\n",
              "        .on(\"mouseover\", fade(0.1, 1))\n",
              "        .on(\"mouseout\", fade(opacityDefault, opacityDefault));\n",
              "\n",
              "      outerArcs\n",
              "        .append(\"path\")\n",
              "        .style(\"fill\", function (d) {\n",
              "          return colors(d.index);\n",
              "        })\n",
              "        .attr(\"d\", arc)\n",
              "        .each(function (d, i) {\n",
              "          //Search pattern for everything between the start and the first capital L\n",
              "          var firstArcSection = /(^.+?)L/;\n",
              "\n",
              "          //Grab everything up to the first Line statement\n",
              "          var newArc = firstArcSection.exec(d3.select(this).attr(\"d\"))[1];\n",
              "          //Replace all the comma's so that IE can handle it\n",
              "          newArc = newArc.replace(/,/g, \" \");\n",
              "\n",
              "          //If the end angle lies beyond a quarter of a circle (90 degrees or pi/2)\n",
              "          //flip the end and start position\n",
              "          if (\n",
              "            (d.endAngle > (90 * Math.PI) / 180) &\n",
              "            (d.startAngle < (270 * Math.PI) / 180)\n",
              "          ) {\n",
              "            var startLoc = /M(.*?)A/, //Everything between the first capital M and first capital A\n",
              "              middleLoc = /A(.*?)0 0 1/, //Everything between the first capital A and 0 0 1\n",
              "              endLoc = /0 0 1 (.*?)$/; //Everything between the first 0 0 1 and the end of the string (denoted by $)\n",
              "            //Flip the direction of the arc by switching the start en end point (and sweep flag)\n",
              "            //of those elements that are below the horizontal line\n",
              "            var newStart = endLoc.exec(newArc)[1];\n",
              "            var newEnd = startLoc.exec(newArc)[1];\n",
              "            var middleSec = middleLoc.exec(newArc)[1];\n",
              "\n",
              "            //Build up the new arc notation, set the sweep-flag to 0\n",
              "            newArc = \"M\" + newStart + \"A\" + middleSec + \"0 0 0 \" + newEnd;\n",
              "          } //if\n",
              "\n",
              "          //Create a new invisible arc that the text can flow along\n",
              "          svg\n",
              "            .append(\"path\")\n",
              "            .attr(\"class\", \"hiddenArcs\")\n",
              "            .attr(\"id\", \"arc-\" + tag_id + \"-\" + i)\n",
              "            .attr(\"d\", newArc)\n",
              "            .style(\"fill\", \"none\");\n",
              "     });\n",
              "          ////////////////////////////////////////////////////////////\n",
              "          ////////////////// Append Names ////////////////////////////\n",
              "          ////////////////////////////////////////////////////////////\n",
              "\n",
              "          //Append the label names on the outside\n",
              "\n",
              "          if (wrap_labels) {\n",
              "            outerArcs\n",
              "              .append(\"text\")\n",
              "              .attr(\"class\", \"titles\")\n",
              "              .attr(\"dy\", function (d, i) {\n",
              "                return (d.endAngle > (90 * Math.PI) / 180) &\n",
              "                  (d.startAngle < (270 * Math.PI) / 180)\n",
              "                  ? 25\n",
              "                  : -16;\n",
              "              })\n",
              "              .append(\"textPath\")\n",
              "              .attr(\"startOffset\", \"50%\")\n",
              "              .style(\"text-anchor\", \"middle\")\n",
              "              .attr(\"xlink:href\", function (d, i) {\n",
              "                return \"#arc-\" + tag_id + \"-\" + i;\n",
              "              })\n",
              "              .text(function (d, i) {\n",
              "                return Names[i];\n",
              "              });\n",
              "          } else {\n",
              "            //Append the label names on the outside\n",
              "            outerArcs\n",
              "              .append(\"text\")\n",
              "              .each(function (d) {\n",
              "                d.angle = (d.startAngle + d.endAngle) / 2;\n",
              "              })\n",
              "              .attr(\"dy\", \".35em\")\n",
              "              .attr(\"class\", \"titles\")\n",
              "              .attr(\"text-anchor\", function (d) {\n",
              "                return d.angle > Math.PI ? \"end\" : null;\n",
              "              })\n",
              "              .attr(\"transform\", function (d) {\n",
              "                return (\n",
              "                  \"rotate(\" +\n",
              "                  ((d.angle * 180) / Math.PI - 90) +\n",
              "                  \")\" +\n",
              "                  \"translate(\" +\n",
              "                  (outerRadius + 10) +\n",
              "                  \")\" +\n",
              "                  (d.angle > Math.PI ? \"rotate(180)\" : \"\")\n",
              "                );\n",
              "              })\n",
              "              .text(function (d, i) {\n",
              "                return Names[i];\n",
              "              });\n",
              "          }\n",
              "\n",
              "          ////////////////////////////////////////////////////////////\n",
              "          ////////////////// Draw inner chords ///////////////////////\n",
              "          ////////////////////////////////////////////////////////////\n",
              "\n",
              "          svg\n",
              "            .selectAll(\"path.chord\")\n",
              "            .data(chord.chords)\n",
              "            .enter()\n",
              "            .append(\"path\")\n",
              "            .attr(\"class\", \"chord\")\n",
              "            .style(\"fill\", function (d) {\n",
              "              return \"url(#\" + getGradID(d) + \")\";\n",
              "            })\n",
              "            .style(\"opacity\", opacityDefault)\n",
              "            .attr(\"d\", path)\n",
              "            .on(\"mouseover\", mouseoverChord())\n",
              "            .on(\"mouseout\", mouseoutChord(opacityDefault, opacityDefault));\n",
              "   \n",
              "      ////////////////////////////////////////////////////////////\n",
              "      ////////////////// Extra Functions /////////////////////////\n",
              "      ////////////////////////////////////////////////////////////\n",
              "\n",
              "      //Returns an event handler for fading a given chord group.\n",
              "      function fade(opacityIn, opacityOut) {\n",
              "        return function (d, i) {\n",
              "          d3.select(this.ownerSVGElement)\n",
              "            .selectAll(\"path.chord\")\n",
              "            .filter(function (d) {\n",
              "              return d.source.index !== i && d.target.index !== i;\n",
              "            })\n",
              "            .transition()\n",
              "            .style(\"opacity\", opacityIn);\n",
              "\n",
              "          d3.select(this.ownerSVGElement)\n",
              "            .selectAll(\"path.chord\")\n",
              "            .filter(function (d) {\n",
              "              return d.source.index == i || d.target.index == i;\n",
              "            })\n",
              "            .transition()\n",
              "            .style(\"opacity\", opacityOut);\n",
              "\n",
              "            \n",
              "        };\n",
              "      } //fade\n",
              "\n",
              "      //Highlight hovered over chord\n",
              "      function mouseoverChord() {\n",
              "        return function (d, i) {\n",
              "\n",
              "        d3.select(this.ownerSVGElement)\n",
              "          .selectAll(\"path.chord\")\n",
              "          .transition()\n",
              "          .style(\"opacity\", 0.1);\n",
              "        //Show hovered over chord with full opacity\n",
              "        d3.select(this).transition().style(\"opacity\", 1);\n",
              "\n",
              "        tippy_content = \"<span style='font-weight:900'>\" +\n",
              "            Names[d.source.index] +\n",
              "            \"</span> and <span style='font-weight:900'>\" +\n",
              "            Names[d.target.index] +\n",
              "            \"</span><br>occur together in <span style='font-weight:900'>\" +\n",
              "            d.source.value +\n",
              "            \"</span> instances\";\n",
              "   \n",
              "        if(this._tippy == null)\n",
              "        {\n",
              "          tippy(this, {\n",
              "            allowHTML: true,\n",
              "            followCursor: true,\n",
              "            content: tippy_content,\n",
              "            size: \"large\",\n",
              "            arrow: true,\n",
              "          });\n",
              "        }\n",
              "\n",
              "        };\n",
              "        \n",
              "      } //fade\n",
              "\n",
              "      //Bring all chords back to default opacity\n",
              "      function mouseoutChord(opacityIn, opacityOut) {\n",
              "        return function (d, i) {\n",
              "        d3.select(this.ownerSVGElement)\n",
              "          .selectAll(\"path.chord\")\n",
              "          .transition()\n",
              "          .style(\"opacity\", opacityOut);\n",
              "        };\n",
              "        //Set opacity back to default for all\n",
              "      } //function mouseoutChord\n",
              "\n",
              "\n",
              "        };\n",
              "        document.body.appendChild(script2);\n",
              "      };\n",
              "\n",
              "      document.body.appendChild(script);\n",
              "    </script>\n",
              "    <script></script>\n",
              "  </body>\n",
              "</html>\n"
            ],
            "text/plain": [
              "<IPython.core.display.HTML object>"
            ]
          },
          "metadata": {
            "tags": []
          }
        }
      ]
    },
    {
      "cell_type": "code",
      "metadata": {
        "id": "CyCKSRtgBP1I"
      },
      "source": [
        ""
      ],
      "execution_count": null,
      "outputs": []
    }
  ]
}