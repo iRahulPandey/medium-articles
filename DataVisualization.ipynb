{
  "nbformat": 4,
  "nbformat_minor": 0,
  "metadata": {
    "colab": {
      "name": "DataVisualization.ipynb",
      "provenance": [],
      "authorship_tag": "ABX9TyP7g28C8uKl6DHYcUF6FMbW",
      "include_colab_link": true
    },
    "kernelspec": {
      "name": "python3",
      "display_name": "Python 3"
    },
    "language_info": {
      "name": "python"
    }
  },
  "cells": [
    {
      "cell_type": "markdown",
      "metadata": {
        "id": "view-in-github",
        "colab_type": "text"
      },
      "source": [
        "<a href=\"https://colab.research.google.com/github/iRahulPandey/medium-articles/blob/master/DataVisualization.ipynb\" target=\"_parent\"><img src=\"https://colab.research.google.com/assets/colab-badge.svg\" alt=\"Open In Colab\"/></a>"
      ]
    },
    {
      "cell_type": "markdown",
      "metadata": {
        "id": "bMHbXZRoVeLN"
      },
      "source": [
        "# Data Visualization\n",
        "\n",
        "The notebook shows various ways of visualizing amazing data\n",
        "- Matplotlib\n",
        "- Seaborn\n",
        "- Plotly Express\n",
        "- bqplot\n",
        "- altair\n",
        "- bokeh"
      ]
    },
    {
      "cell_type": "markdown",
      "metadata": {
        "id": "hOGe8Ljr4QEH"
      },
      "source": [
        "## Import libraries"
      ]
    },
    {
      "cell_type": "code",
      "metadata": {
        "id": "QCNBRDHAVZo7"
      },
      "source": [
        "# import libraries\n",
        "import pandas as pd\n",
        "import numpy as np\n",
        "import matplotlib.pyplot as plt\n",
        "import seaborn as sns\n",
        "import missingno as msno\n",
        "from datetime import date, datetime, timedelta"
      ],
      "execution_count": 1,
      "outputs": []
    },
    {
      "cell_type": "markdown",
      "metadata": {
        "id": "aGkTABYK4HVr"
      },
      "source": [
        "## Get Data"
      ]
    },
    {
      "cell_type": "code",
      "metadata": {
        "id": "Du9rTMqcxU3o"
      },
      "source": [
        "# get the previous day to fetch data from for latest data and us_medical_data\n",
        "today = date.today()\n",
        "latest_data = today-timedelta(days = 1)\n",
        "\n",
        "# generate url\n",
        "latest_data_url = 'https://raw.github.com/CSSEGISandData/COVID-19/master/csse_covid_19_data/csse_covid_19_daily_reports/'+latest_data.strftime(\"%m-%d-%Y\")+'.csv'\n",
        "us_medical_data_url = 'https://raw.github.com/CSSEGISandData/COVID-19/master/csse_covid_19_data/csse_covid_19_daily_reports_us/'+latest_data.strftime(\"%m-%d-%Y\")+'.csv'"
      ],
      "execution_count": 2,
      "outputs": []
    },
    {
      "cell_type": "code",
      "metadata": {
        "id": "u7RW2D0QuLLZ"
      },
      "source": [
        "# Get data from Center for Systems Science and Engineering (CSSE)\n",
        "# https://github.com/CSSEGISandData/COVID-19\n",
        "# confirmed cases\n",
        "confirmed_cases = pd.read_csv('https://raw.github.com/CSSEGISandData/COVID-19/master/csse_covid_19_data/csse_covid_19_time_series/time_series_covid19_confirmed_global.csv')\n",
        "# recoveries\n",
        "recoveries= pd.read_csv('https://raw.github.com/CSSEGISandData/COVID-19/master/csse_covid_19_data/csse_covid_19_time_series/time_series_covid19_recovered_global.csv')\n",
        "# deaths\n",
        "deaths = pd.read_csv('https://raw.github.com/CSSEGISandData/COVID-19/master/csse_covid_19_data/csse_covid_19_time_series/time_series_covid19_deaths_global.csv')\n",
        "# current data\n",
        "latest_data = pd.read_csv(latest_data_url)\n",
        "# us medical data\n",
        "us_medical_data = pd.read_csv(us_medical_data_url)\n",
        "# vaccination manufacturer\n",
        "vaccine_manufacturer = pd.read_csv('https://raw.github.com/owid/covid-19-data/master/public/data/vaccinations/vaccinations-by-manufacturer.csv')\n",
        "# vaccination manufacturer\n",
        "vaccine = pd.read_csv('https://raw.github.com/owid/covid-19-data/master/public/data/vaccinations/vaccinations.csv')"
      ],
      "execution_count": 3,
      "outputs": []
    },
    {
      "cell_type": "code",
      "metadata": {
        "colab": {
          "base_uri": "https://localhost:8080/",
          "height": 0
        },
        "id": "dOXDWxPQegZ-",
        "outputId": "115385a4-1021-46f4-c5fc-4b1fa367a19e"
      },
      "source": [
        "# show confirmed data\n",
        "confirmed_cases.head(n=2)"
      ],
      "execution_count": 4,
      "outputs": [
        {
          "output_type": "execute_result",
          "data": {
            "text/html": [
              "<div>\n",
              "<style scoped>\n",
              "    .dataframe tbody tr th:only-of-type {\n",
              "        vertical-align: middle;\n",
              "    }\n",
              "\n",
              "    .dataframe tbody tr th {\n",
              "        vertical-align: top;\n",
              "    }\n",
              "\n",
              "    .dataframe thead th {\n",
              "        text-align: right;\n",
              "    }\n",
              "</style>\n",
              "<table border=\"1\" class=\"dataframe\">\n",
              "  <thead>\n",
              "    <tr style=\"text-align: right;\">\n",
              "      <th></th>\n",
              "      <th>Province/State</th>\n",
              "      <th>Country/Region</th>\n",
              "      <th>Lat</th>\n",
              "      <th>Long</th>\n",
              "      <th>1/22/20</th>\n",
              "      <th>1/23/20</th>\n",
              "      <th>1/24/20</th>\n",
              "      <th>1/25/20</th>\n",
              "      <th>1/26/20</th>\n",
              "      <th>1/27/20</th>\n",
              "      <th>1/28/20</th>\n",
              "      <th>1/29/20</th>\n",
              "      <th>1/30/20</th>\n",
              "      <th>1/31/20</th>\n",
              "      <th>2/1/20</th>\n",
              "      <th>2/2/20</th>\n",
              "      <th>2/3/20</th>\n",
              "      <th>2/4/20</th>\n",
              "      <th>2/5/20</th>\n",
              "      <th>2/6/20</th>\n",
              "      <th>2/7/20</th>\n",
              "      <th>2/8/20</th>\n",
              "      <th>2/9/20</th>\n",
              "      <th>2/10/20</th>\n",
              "      <th>2/11/20</th>\n",
              "      <th>2/12/20</th>\n",
              "      <th>2/13/20</th>\n",
              "      <th>2/14/20</th>\n",
              "      <th>2/15/20</th>\n",
              "      <th>2/16/20</th>\n",
              "      <th>2/17/20</th>\n",
              "      <th>2/18/20</th>\n",
              "      <th>2/19/20</th>\n",
              "      <th>2/20/20</th>\n",
              "      <th>2/21/20</th>\n",
              "      <th>2/22/20</th>\n",
              "      <th>2/23/20</th>\n",
              "      <th>2/24/20</th>\n",
              "      <th>2/25/20</th>\n",
              "      <th>2/26/20</th>\n",
              "      <th>...</th>\n",
              "      <th>4/10/21</th>\n",
              "      <th>4/11/21</th>\n",
              "      <th>4/12/21</th>\n",
              "      <th>4/13/21</th>\n",
              "      <th>4/14/21</th>\n",
              "      <th>4/15/21</th>\n",
              "      <th>4/16/21</th>\n",
              "      <th>4/17/21</th>\n",
              "      <th>4/18/21</th>\n",
              "      <th>4/19/21</th>\n",
              "      <th>4/20/21</th>\n",
              "      <th>4/21/21</th>\n",
              "      <th>4/22/21</th>\n",
              "      <th>4/23/21</th>\n",
              "      <th>4/24/21</th>\n",
              "      <th>4/25/21</th>\n",
              "      <th>4/26/21</th>\n",
              "      <th>4/27/21</th>\n",
              "      <th>4/28/21</th>\n",
              "      <th>4/29/21</th>\n",
              "      <th>4/30/21</th>\n",
              "      <th>5/1/21</th>\n",
              "      <th>5/2/21</th>\n",
              "      <th>5/3/21</th>\n",
              "      <th>5/4/21</th>\n",
              "      <th>5/5/21</th>\n",
              "      <th>5/6/21</th>\n",
              "      <th>5/7/21</th>\n",
              "      <th>5/8/21</th>\n",
              "      <th>5/9/21</th>\n",
              "      <th>5/10/21</th>\n",
              "      <th>5/11/21</th>\n",
              "      <th>5/12/21</th>\n",
              "      <th>5/13/21</th>\n",
              "      <th>5/14/21</th>\n",
              "      <th>5/15/21</th>\n",
              "      <th>5/16/21</th>\n",
              "      <th>5/17/21</th>\n",
              "      <th>5/18/21</th>\n",
              "      <th>5/19/21</th>\n",
              "    </tr>\n",
              "  </thead>\n",
              "  <tbody>\n",
              "    <tr>\n",
              "      <th>0</th>\n",
              "      <td>NaN</td>\n",
              "      <td>Afghanistan</td>\n",
              "      <td>33.93911</td>\n",
              "      <td>67.709953</td>\n",
              "      <td>0</td>\n",
              "      <td>0</td>\n",
              "      <td>0</td>\n",
              "      <td>0</td>\n",
              "      <td>0</td>\n",
              "      <td>0</td>\n",
              "      <td>0</td>\n",
              "      <td>0</td>\n",
              "      <td>0</td>\n",
              "      <td>0</td>\n",
              "      <td>0</td>\n",
              "      <td>0</td>\n",
              "      <td>0</td>\n",
              "      <td>0</td>\n",
              "      <td>0</td>\n",
              "      <td>0</td>\n",
              "      <td>0</td>\n",
              "      <td>0</td>\n",
              "      <td>0</td>\n",
              "      <td>0</td>\n",
              "      <td>0</td>\n",
              "      <td>0</td>\n",
              "      <td>0</td>\n",
              "      <td>0</td>\n",
              "      <td>0</td>\n",
              "      <td>0</td>\n",
              "      <td>0</td>\n",
              "      <td>0</td>\n",
              "      <td>0</td>\n",
              "      <td>0</td>\n",
              "      <td>0</td>\n",
              "      <td>0</td>\n",
              "      <td>0</td>\n",
              "      <td>1</td>\n",
              "      <td>1</td>\n",
              "      <td>1</td>\n",
              "      <td>...</td>\n",
              "      <td>57144</td>\n",
              "      <td>57160</td>\n",
              "      <td>57242</td>\n",
              "      <td>57364</td>\n",
              "      <td>57492</td>\n",
              "      <td>57534</td>\n",
              "      <td>57612</td>\n",
              "      <td>57721</td>\n",
              "      <td>57793</td>\n",
              "      <td>57898</td>\n",
              "      <td>58037</td>\n",
              "      <td>58214</td>\n",
              "      <td>58312</td>\n",
              "      <td>58542</td>\n",
              "      <td>58730</td>\n",
              "      <td>58843</td>\n",
              "      <td>59015</td>\n",
              "      <td>59225</td>\n",
              "      <td>59370</td>\n",
              "      <td>59576</td>\n",
              "      <td>59745</td>\n",
              "      <td>59939</td>\n",
              "      <td>60122</td>\n",
              "      <td>60300</td>\n",
              "      <td>60563</td>\n",
              "      <td>60797</td>\n",
              "      <td>61162</td>\n",
              "      <td>61455</td>\n",
              "      <td>61755</td>\n",
              "      <td>61842</td>\n",
              "      <td>62063</td>\n",
              "      <td>62403</td>\n",
              "      <td>62718</td>\n",
              "      <td>63045</td>\n",
              "      <td>63355</td>\n",
              "      <td>63412</td>\n",
              "      <td>63484</td>\n",
              "      <td>63598</td>\n",
              "      <td>63819</td>\n",
              "      <td>64122</td>\n",
              "    </tr>\n",
              "    <tr>\n",
              "      <th>1</th>\n",
              "      <td>NaN</td>\n",
              "      <td>Albania</td>\n",
              "      <td>41.15330</td>\n",
              "      <td>20.168300</td>\n",
              "      <td>0</td>\n",
              "      <td>0</td>\n",
              "      <td>0</td>\n",
              "      <td>0</td>\n",
              "      <td>0</td>\n",
              "      <td>0</td>\n",
              "      <td>0</td>\n",
              "      <td>0</td>\n",
              "      <td>0</td>\n",
              "      <td>0</td>\n",
              "      <td>0</td>\n",
              "      <td>0</td>\n",
              "      <td>0</td>\n",
              "      <td>0</td>\n",
              "      <td>0</td>\n",
              "      <td>0</td>\n",
              "      <td>0</td>\n",
              "      <td>0</td>\n",
              "      <td>0</td>\n",
              "      <td>0</td>\n",
              "      <td>0</td>\n",
              "      <td>0</td>\n",
              "      <td>0</td>\n",
              "      <td>0</td>\n",
              "      <td>0</td>\n",
              "      <td>0</td>\n",
              "      <td>0</td>\n",
              "      <td>0</td>\n",
              "      <td>0</td>\n",
              "      <td>0</td>\n",
              "      <td>0</td>\n",
              "      <td>0</td>\n",
              "      <td>0</td>\n",
              "      <td>0</td>\n",
              "      <td>0</td>\n",
              "      <td>0</td>\n",
              "      <td>...</td>\n",
              "      <td>128155</td>\n",
              "      <td>128393</td>\n",
              "      <td>128518</td>\n",
              "      <td>128752</td>\n",
              "      <td>128959</td>\n",
              "      <td>129128</td>\n",
              "      <td>129307</td>\n",
              "      <td>129456</td>\n",
              "      <td>129594</td>\n",
              "      <td>129694</td>\n",
              "      <td>129842</td>\n",
              "      <td>129980</td>\n",
              "      <td>130114</td>\n",
              "      <td>130270</td>\n",
              "      <td>130409</td>\n",
              "      <td>130537</td>\n",
              "      <td>130606</td>\n",
              "      <td>130736</td>\n",
              "      <td>130859</td>\n",
              "      <td>130977</td>\n",
              "      <td>131085</td>\n",
              "      <td>131185</td>\n",
              "      <td>131238</td>\n",
              "      <td>131276</td>\n",
              "      <td>131327</td>\n",
              "      <td>131419</td>\n",
              "      <td>131510</td>\n",
              "      <td>131577</td>\n",
              "      <td>131666</td>\n",
              "      <td>131723</td>\n",
              "      <td>131753</td>\n",
              "      <td>131803</td>\n",
              "      <td>131845</td>\n",
              "      <td>131890</td>\n",
              "      <td>131939</td>\n",
              "      <td>131978</td>\n",
              "      <td>132015</td>\n",
              "      <td>132032</td>\n",
              "      <td>132071</td>\n",
              "      <td>132095</td>\n",
              "    </tr>\n",
              "  </tbody>\n",
              "</table>\n",
              "<p>2 rows × 488 columns</p>\n",
              "</div>"
            ],
            "text/plain": [
              "  Province/State Country/Region       Lat  ...  5/17/21  5/18/21  5/19/21\n",
              "0            NaN    Afghanistan  33.93911  ...    63598    63819    64122\n",
              "1            NaN        Albania  41.15330  ...   132032   132071   132095\n",
              "\n",
              "[2 rows x 488 columns]"
            ]
          },
          "metadata": {
            "tags": []
          },
          "execution_count": 4
        }
      ]
    },
    {
      "cell_type": "markdown",
      "metadata": {
        "id": "nKVwKsac4L7Y"
      },
      "source": [
        "## Missing Data"
      ]
    },
    {
      "cell_type": "code",
      "metadata": {
        "colab": {
          "base_uri": "https://localhost:8080/"
        },
        "id": "gfbdIfhWqf2r",
        "outputId": "3f9223c2-c765-405e-fa03-226f405ca559"
      },
      "source": [
        "# missing data without visualization in percentage\n",
        "confirmed_cases.isnull().sum()/len(confirmed_cases)*100"
      ],
      "execution_count": 5,
      "outputs": [
        {
          "output_type": "execute_result",
          "data": {
            "text/plain": [
              "Province/State    68.727273\n",
              "Country/Region     0.000000\n",
              "Lat                0.727273\n",
              "Long               0.727273\n",
              "1/22/20            0.000000\n",
              "                    ...    \n",
              "5/15/21            0.000000\n",
              "5/16/21            0.000000\n",
              "5/17/21            0.000000\n",
              "5/18/21            0.000000\n",
              "5/19/21            0.000000\n",
              "Length: 488, dtype: float64"
            ]
          },
          "metadata": {
            "tags": []
          },
          "execution_count": 5
        }
      ]
    },
    {
      "cell_type": "code",
      "metadata": {
        "colab": {
          "base_uri": "https://localhost:8080/",
          "height": 376
        },
        "id": "GTBamI1ap3XV",
        "outputId": "62512ec9-7479-47cf-fc1a-70201c17adc6"
      },
      "source": [
        "# list for visualization\n",
        "columns = ['Province/State','Country/Region','Lat','Long']\n",
        "\n",
        "# visualize missing data\n",
        "msno.matrix(confirmed_cases[columns], fontsize=12);"
      ],
      "execution_count": 6,
      "outputs": [
        {
          "output_type": "display_data",
          "data": {
            "image/png": "[encoded data removed]",
            "text/plain": [
              "<Figure size 1800x720 with 2 Axes>"
            ]
          },
          "metadata": {
            "tags": [],
            "needs_background": "light"
          }
        }
      ]
    },
    {
      "cell_type": "code",
      "metadata": {
        "colab": {
          "base_uri": "https://localhost:8080/",
          "height": 402
        },
        "id": "s5t8gtDP42hh",
        "outputId": "d425ab30-8be4-4847-91bd-d41e80476ad8"
      },
      "source": [
        "# visualize histogram \n",
        "msno.bar(confirmed_cases[columns], fontsize=12);"
      ],
      "execution_count": 7,
      "outputs": [
        {
          "output_type": "display_data",
          "data": {
            "image/png": "[encoded data removed]",
            "text/plain": [
              "<Figure size 1728x720 with 3 Axes>"
            ]
          },
          "metadata": {
            "tags": [],
            "needs_background": "light"
          }
        }
      ]
    },
    {
      "cell_type": "code",
      "metadata": {
        "colab": {
          "base_uri": "https://localhost:8080/",
          "height": 553
        },
        "id": "B-EIf_HX-JrL",
        "outputId": "0e362cae-28e9-4915-ff84-1dd83576e8ef"
      },
      "source": [
        "msno.heatmap(confirmed_cases[columns], fontsize=12, cmap=\"RdYlGn\",labels=False);"
      ],
      "execution_count": 8,
      "outputs": [
        {
          "output_type": "display_data",
          "data": {
            "image/png": "[encoded data removed]",
            "text/plain": [
              "<Figure size 1440x864 with 2 Axes>"
            ]
          },
          "metadata": {
            "tags": [],
            "needs_background": "light"
          }
        }
      ]
    },
    {
      "cell_type": "code",
      "metadata": {
        "colab": {
          "base_uri": "https://localhost:8080/",
          "height": 376
        },
        "id": "BYPTodkkDlbJ",
        "outputId": "8c9db838-45fa-4d73-f6a5-9ef99e85b30d"
      },
      "source": [
        "msno.dendrogram(confirmed_cases[columns], fontsize=12);"
      ],
      "execution_count": 10,
      "outputs": [
        {
          "output_type": "display_data",
          "data": {
            "image/png": "[encoded data removed]",
            "text/plain": [
              "<Figure size 1800x720 with 1 Axes>"
            ]
          },
          "metadata": {
            "tags": [],
            "needs_background": "light"
          }
        }
      ]
    },
    {
      "cell_type": "markdown",
      "metadata": {
        "id": "mayDdfSL4aEJ"
      },
      "source": [
        "## Data Transformation"
      ]
    },
    {
      "cell_type": "markdown",
      "metadata": {
        "id": "2cC0wjzT5D5P"
      },
      "source": [
        "#### Merge Data"
      ]
    },
    {
      "cell_type": "code",
      "metadata": {
        "id": "ER4-8PYw5SNz"
      },
      "source": [
        "# melt data\n",
        "melted_confirmed_df = confirmed_cases.melt(id_vars=['Province/State', 'Country/Region', 'Lat', 'Long'], \n",
        "        var_name=['Date'], \n",
        "        value_name='Confirmed_Cases')\n",
        "\n",
        "melted_deaths_df = deaths.melt(id_vars=['Province/State', 'Country/Region', 'Lat', 'Long'], \n",
        "        var_name=['Date'], \n",
        "        value_name='Deaths')"
      ],
      "execution_count": 11,
      "outputs": []
    },
    {
      "cell_type": "code",
      "metadata": {
        "id": "aZAgWlvZkH4w"
      },
      "source": [
        "# get columns data\n",
        "dates_columns = confirmed_cases.columns[4:]\n",
        "\n",
        "# recovery data\n",
        "melted_recoveries_df = recoveries.melt(id_vars=['Province/State', 'Country/Region', 'Lat', 'Long'], \n",
        "                              value_vars=dates_columns, \n",
        "                              var_name='Date',\n",
        "                              value_name='Recovered')\n",
        "\n",
        "# format date\n",
        "melted_recoveries_df['Date'] = pd.to_datetime(melted_recoveries_df['Date'])\n",
        "\n",
        "# fill nan\n",
        "melted_recoveries_df.fillna(0, inplace=True)"
      ],
      "execution_count": 12,
      "outputs": []
    },
    {
      "cell_type": "code",
      "metadata": {
        "id": "U9Deb2H5F9Ka"
      },
      "source": [
        "# combine two dataframe\n",
        "df_combined = pd.concat([melted_confirmed_df, melted_deaths_df[\"Deaths\"]], axis = 1, sort = False)\n",
        "\n",
        "# format date\n",
        "df_combined['Date'] = pd.to_datetime(df_combined['Date'])\n",
        "\n",
        "# fill nan\n",
        "df_combined.fillna(0, inplace=True)"
      ],
      "execution_count": 13,
      "outputs": []
    },
    {
      "cell_type": "code",
      "metadata": {
        "id": "adNoMhdRNRLS"
      },
      "source": [
        "# global daily data\n",
        "df_global_daily = pd.DataFrame(df_combined[['Confirmed_Cases','Deaths','Date']].groupby('Date').sum()).sort_index()"
      ],
      "execution_count": 14,
      "outputs": []
    },
    {
      "cell_type": "code",
      "metadata": {
        "id": "w6CksK97ourX"
      },
      "source": [
        "# global daily recovery\n",
        "df_global_recovery_daily = pd.DataFrame(melted_recoveries_df[['Recovered', 'Date']].groupby('Date').sum()).sort_index()"
      ],
      "execution_count": 15,
      "outputs": []
    },
    {
      "cell_type": "code",
      "metadata": {
        "id": "c-V-V4DtOzjk"
      },
      "source": [
        "# countries daily data\n",
        "df_countries_daily = pd.DataFrame(df_combined[['Confirmed_Cases','Deaths','Date','Country/Region']].groupby(['Date','Country/Region']).sum()).sort_index()"
      ],
      "execution_count": 16,
      "outputs": []
    },
    {
      "cell_type": "code",
      "metadata": {
        "id": "_qf6ilqao9ab"
      },
      "source": [
        "# countries daily recovery data\n",
        "df_countries_recovery_daily = pd.DataFrame(melted_recoveries_df[['Recovered','Date','Country/Region']].groupby(['Date','Country/Region']).sum()).sort_index()"
      ],
      "execution_count": 17,
      "outputs": []
    },
    {
      "cell_type": "markdown",
      "metadata": {
        "id": "dkF5cs4J5nOV"
      },
      "source": [
        "#### Latest data"
      ]
    },
    {
      "cell_type": "code",
      "metadata": {
        "id": "Zg_aIX1dPiAt"
      },
      "source": [
        "# columns to use\n",
        "latest_data_columns = ['Province_State',\t'Country_Region', 'Lat', 'Long_', 'Confirmed',\t'Deaths',\t'Recovered',\t'Active',\t'Incident_Rate',\t'Case_Fatality_Ratio']\n",
        "\n",
        "# latest data\n",
        "df_latest_data = latest_data[latest_data_columns]\n",
        "\n",
        "# group by country\n",
        "df_countries_latest= pd.DataFrame(df_latest_data[['Country_Region', 'Confirmed',\t'Deaths',\t'Recovered',\t'Active',\t'Incident_Rate']].groupby(['Country_Region']).sum()).sort_index()"
      ],
      "execution_count": 18,
      "outputs": []
    },
    {
      "cell_type": "markdown",
      "metadata": {
        "id": "EvKrzIgP5q3w"
      },
      "source": [
        "#### Global Daily Data"
      ]
    },
    {
      "cell_type": "code",
      "metadata": {
        "id": "XlrzL5rxbOgI"
      },
      "source": [
        "# merging global daily\n",
        "df_global_merged = pd.concat([df_global_daily, df_global_recovery_daily[\"Recovered\"]], axis = 1, sort = False)"
      ],
      "execution_count": 19,
      "outputs": []
    },
    {
      "cell_type": "markdown",
      "metadata": {
        "id": "b6oDKp5B5tc_"
      },
      "source": [
        "#### Global Daily Data based on countries"
      ]
    },
    {
      "cell_type": "code",
      "metadata": {
        "id": "EHQbfrzatOI4"
      },
      "source": [
        "# merging countries daily\n",
        "df_countries_merged = pd.concat([df_countries_daily, df_countries_recovery_daily[\"Recovered\"]], axis = 1, sort = False)"
      ],
      "execution_count": 20,
      "outputs": []
    },
    {
      "cell_type": "markdown",
      "metadata": {
        "id": "rSw52eI-_ckn"
      },
      "source": [
        "#### Daily Vaccination"
      ]
    },
    {
      "cell_type": "code",
      "metadata": {
        "id": "fP077fuj8BSV"
      },
      "source": [
        "# columns to use\n",
        "vaccine_data_columns = ['location',\t'date', 'daily_vaccinations']\n",
        "\n",
        "# vaccine data\n",
        "df_vaccine_data = vaccine[vaccine_data_columns].copy()\n",
        "\n",
        "# format date\n",
        "df_vaccine_data['date'] = pd.to_datetime(df_vaccine_data['date'])\n",
        "\n",
        "# fill nan\n",
        "df_vaccine_data.fillna(0, inplace=True)"
      ],
      "execution_count": 21,
      "outputs": []
    },
    {
      "cell_type": "code",
      "metadata": {
        "id": "iH_GcTR6pwio"
      },
      "source": [
        "# total vaccination by country\n",
        "df_total_vaccine_location = pd.DataFrame(df_vaccine_data[['location',\t'daily_vaccinations']].groupby(['location']).sum()).sort_index()"
      ],
      "execution_count": 57,
      "outputs": []
    },
    {
      "cell_type": "markdown",
      "metadata": {
        "id": "9A0qNBJ3AfdB"
      },
      "source": [
        "### Vaccine Provider"
      ]
    },
    {
      "cell_type": "code",
      "metadata": {
        "id": "msAYSMBH9AWm"
      },
      "source": [
        "# copy data\n",
        "df_vaccine_manufacturer =  vaccine_manufacturer.copy()\n",
        "\n",
        "# format date\n",
        "df_vaccine_manufacturer['date'] = pd.to_datetime(df_vaccine_manufacturer['date'])\n",
        "\n",
        "# fill nan\n",
        "df_vaccine_manufacturer.fillna(0, inplace=True)"
      ],
      "execution_count": 23,
      "outputs": []
    },
    {
      "cell_type": "code",
      "metadata": {
        "id": "6GIJo3KO9As0"
      },
      "source": [
        "# daily vaccination by location\n",
        "df_vaccine_location_manufacturer = pd.DataFrame(df_vaccine_manufacturer[['location',\t'vaccine',\t'total_vaccinations']].groupby(['location',\t'vaccine']).max()).sort_index()"
      ],
      "execution_count": 31,
      "outputs": []
    },
    {
      "cell_type": "code",
      "metadata": {
        "id": "GxnvuRvCBnjo"
      },
      "source": [
        "# vaccine by location\n",
        "df_vaccine_location = pd.DataFrame(df_vaccine_manufacturer[df_vaccine_manufacturer['date'] == df_vaccine_manufacturer['date'].max()][['location',\t'total_vaccinations']].groupby(['location']).sum()).sort_index()"
      ],
      "execution_count": 45,
      "outputs": []
    }
  ]
}