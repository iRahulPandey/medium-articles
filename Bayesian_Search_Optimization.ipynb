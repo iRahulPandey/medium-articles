{
  "nbformat": 4,
  "nbformat_minor": 0,
  "metadata": {
    "colab": {
      "name": "Bayesian_Search_Optimization.ipynb",
      "provenance": [],
      "collapsed_sections": [],
      "authorship_tag": "ABX9TyNSPaQlaD76f89hU2NjNJA9",
      "include_colab_link": true
    },
    "kernelspec": {
      "name": "python3",
      "display_name": "Python 3"
    },
    "language_info": {
      "name": "python"
    }
  },
  "cells": [
    {
      "cell_type": "markdown",
      "metadata": {
        "id": "view-in-github",
        "colab_type": "text"
      },
      "source": [
        "<a href=\"https://colab.research.google.com/github/iRahulPandey/medium-articles/blob/master/Bayesian_Search_Optimization.ipynb\" target=\"_parent\"><img src=\"https://colab.research.google.com/assets/colab-badge.svg\" alt=\"Open In Colab\"/></a>"
      ]
    },
    {
      "cell_type": "markdown",
      "metadata": {
        "id": "_cpV2l9PuMjK"
      },
      "source": [
        "This notebook is a continuation of Grid & Random Search optimization\n",
        "\n",
        "# Bayesian\n",
        "\n",
        "The problem with grid and random search is that these are uninformed methods like bagging.\n",
        "\n",
        "The concept of Bayesian optimization is to choose the next hyperparameter values based on the previous results. This allows the algorithm to spend more time evaluating promising hyperparameter values and less time in low-scoring regions of the hyperparameter space."
      ]
    },
    {
      "cell_type": "markdown",
      "metadata": {
        "id": "_eHGTuVYwR-o"
      },
      "source": [
        "Fake data generation"
      ]
    },
    {
      "cell_type": "code",
      "metadata": {
        "id": "lD3z7k_duAQ-"
      },
      "source": [
        "# import libraries\n",
        "import pandas as pd\n",
        "import numpy as np\n",
        "from sklearn.datasets import make_regression \n",
        "import matplotlib.pyplot as plt\n",
        "import seaborn as sns\n",
        "\n",
        "# create dataset\n",
        "X, y = make_regression(n_samples=20000, n_features=10, noise=0.5)\n",
        "\n",
        "# create dataframe\n",
        "df = pd.DataFrame(data=X)\n",
        "df['Target'] = y"
      ],
      "execution_count": null,
      "outputs": []
    },
    {
      "cell_type": "code",
      "metadata": {
        "colab": {
          "base_uri": "https://localhost:8080/"
        },
        "id": "i5F1PN8dwWvR",
        "outputId": "754c5686-c43f-4a9f-b8cf-e6574e99c0b3"
      },
      "source": [
        "# create features and target\n",
        "features = df.drop(columns=['Target'])\n",
        "target = df['Target']\n",
        "\n",
        "# shape\n",
        "print(features.shape)\n",
        "print(target.shape)\n",
        "\n",
        "# Split dataset\n",
        "from sklearn.model_selection import train_test_split\n",
        "\n",
        "# split into train and test\n",
        "X_train, X_test, y_train, y_test = train_test_split(features, target, test_size = 5000, random_state=0)\n",
        "\n",
        "# splitted data\n",
        "print(\"Number of training examples \"+ str(X_train.shape[0]))\n",
        "print(\"Number of test examples \"+ str(X_test.shape[0]))"
      ],
      "execution_count": null,
      "outputs": [
        {
          "output_type": "stream",
          "text": [
            "(20000, 10)\n",
            "(20000,)\n",
            "Number of training examples 15000\n",
            "Number of test examples 5000\n"
          ],
          "name": "stdout"
        }
      ]
    },
    {
      "cell_type": "code",
      "metadata": {
        "id": "alnjtFZe91gP"
      },
      "source": [
        "import lightgbm as lgb\n",
        "\n",
        "# Create a training and testing dataset\n",
        "train_set = lgb.Dataset(data = X_train, label = y_train)\n",
        "test_set = lgb.Dataset(data = X_test, label = y_test)"
      ],
      "execution_count": null,
      "outputs": []
    },
    {
      "cell_type": "code",
      "metadata": {
        "id": "Vwsw5mmiwb8M"
      },
      "source": [
        "from hyperopt import STATUS_OK\n",
        "from timeit import default_timer as timer\n",
        "\n",
        "\n",
        "def objective(hyperparameters):\n",
        "    \n",
        "    # Keep track of evals\n",
        "    global ITERATION\n",
        "    \n",
        "    ITERATION += 1\n",
        "    \n",
        "    # Using early stopping to find number of trees trained\n",
        "    #if 'n_estimators' in hyperparameters:\n",
        "        #del hyperparameters['n_estimators']\n",
        "    \n",
        "    # Retrieve the subsample\n",
        "    subsample = hyperparameters['boosting_type'].get('subsample', 1.0)\n",
        "    \n",
        "    # Extract the boosting type and subsample to top level keys\n",
        "    hyperparameters['boosting_type'] = hyperparameters['boosting_type']['boosting_type']\n",
        "    hyperparameters['subsample'] = subsample\n",
        "   \n",
        "    \n",
        "    # Make sure parameters that need to be integers are integers\n",
        "    for parameter_name in ['num_leaves', 'subsample_for_bin', 'min_child_samples','n_estimators']:\n",
        "        hyperparameters[parameter_name] = int(hyperparameters[parameter_name])\n",
        "\n",
        "    start = timer()\n",
        "    \n",
        "    # n_folds cross validation\n",
        "    if hyperparameters['boosting_type'] == 'dart':\n",
        "      cv_results = lgb.cv(hyperparameters, train_set, num_boost_round = 10000, \n",
        "                      metrics = 'rmse', nfold = 5, seed = 0, stratified=False)\n",
        "    else:  \n",
        "      cv_results = lgb.cv(hyperparameters, train_set, \n",
        "                        metrics = 'rmse', nfold = 5, seed = 0, stratified=False) #remove stratified=False when training classifiers \n",
        "\n",
        "    run_time = timer() - start\n",
        "    \n",
        "    # Extract the best score\n",
        "    best_score = cv_results['rmse-mean'][-1]\n",
        "    #print(cv_results.cv_results_)\n",
        "    std_score = cv_results['rmse-stdv'][-1]\n",
        "    # Loss must be minimized\n",
        "    loss = best_score\n",
        "    \n",
        "    # Boosting rounds that returned the highest cv score\n",
        "    n_estimators = len(cv_results['rmse-mean'])\n",
        "    \n",
        "    # Add the number of estimators to the hyperparameters\n",
        "    hyperparameters['n_estimators'] = n_estimators\n",
        "\n",
        "    # Write to the csv file ('a' means append)\n",
        "    of_connection = open(OUT_FILE, 'a')\n",
        "    writer = csv.writer(of_connection)\n",
        "    writer.writerow([loss, hyperparameters, ITERATION, run_time, best_score])\n",
        "    of_connection.close()\n",
        "\n",
        "    # Dictionary with information for evaluation\n",
        "    return {'loss': loss, 'std_loss': std_score, 'hyperparameters': hyperparameters, 'iteration': ITERATION,\n",
        "            'train_time': run_time, 'status': STATUS_OK}"
      ],
      "execution_count": null,
      "outputs": []
    },
    {
      "cell_type": "markdown",
      "metadata": {
        "id": "JlXq0q8f7CS1"
      },
      "source": [
        "# Domain\n",
        "In Bayesian optimization frameworks, the domian is not a discrete grid but instead has probability distributions for each hyperparameter. "
      ]
    },
    {
      "cell_type": "code",
      "metadata": {
        "id": "Conswz4o7KDZ"
      },
      "source": [
        "from hyperopt import hp\n",
        "from hyperopt.pyll.stochastic import sample\n",
        "\n",
        "# Define the search space\n",
        "space = {\n",
        "    'boosting_type': hp.choice('boosting_type', \n",
        "                                            [{'boosting_type': 'gbdt', 'subsample': hp.uniform('gdbt_subsample', 0.5, 1)}, \n",
        "                                             {'boosting_type': 'dart', 'subsample': hp.uniform('dart_subsample', 0.5, 1)},\n",
        "                                             {'boosting_type': 'goss', 'subsample': 1.0}]),\n",
        "    'num_leaves': hp.quniform('num_leaves', 20, 150, 1),\n",
        "    'learning_rate': hp.loguniform('learning_rate', np.log(0.01), np.log(0.5)),\n",
        "    'subsample_for_bin': hp.quniform('subsample_for_bin', 20000, 300000, 20000),\n",
        "    'min_child_samples': hp.quniform('min_child_samples', 20, 500, 5),\n",
        "    'reg_alpha': hp.uniform('reg_alpha', 0.0, 1.0),\n",
        "    'reg_lambda': hp.uniform('reg_lambda', 0.0, 1.0),\n",
        "    'colsample_bytree': hp.uniform('colsample_by_tree', 0.6, 1.0),\n",
        "    'is_unbalance': hp.choice('is_unbalance', [True, False]),\n",
        "}"
      ],
      "execution_count": null,
      "outputs": []
    },
    {
      "cell_type": "markdown",
      "metadata": {
        "id": "-9W5TCKV8xpf"
      },
      "source": [
        "# Algorithm"
      ]
    },
    {
      "cell_type": "code",
      "metadata": {
        "id": "4MdMN8WB8N4p"
      },
      "source": [
        "from hyperopt import tpe\n",
        "from hyperopt import Trials\n",
        "\n",
        "# Create the algorithm\n",
        "tpe_algorithm = tpe.suggest\n",
        "\n",
        "# Record results\n",
        "trials = Trials()"
      ],
      "execution_count": null,
      "outputs": []
    },
    {
      "cell_type": "code",
      "metadata": {
        "id": "Ypc6YLdvCAlx"
      },
      "source": [
        "import csv\n",
        "# Create a file and open a connection\n",
        "OUT_FILE = 'bayes_test.csv'\n",
        "of_connection = open(OUT_FILE, 'w')\n",
        "writer = csv.writer(of_connection)\n",
        "\n",
        "ITERATION = 0\n",
        "\n",
        "# Write column names\n",
        "headers = ['loss', 'std_loss', 'hyperparameters', 'iteration', 'runtime', 'score']\n",
        "writer.writerow(headers)\n",
        "of_connection.close()"
      ],
      "execution_count": null,
      "outputs": []
    },
    {
      "cell_type": "code",
      "metadata": {
        "colab": {
          "base_uri": "https://localhost:8080/"
        },
        "id": "xYzb3voM807M",
        "outputId": "84c80571-4172-4d5c-cf98-7a67efa28d87"
      },
      "source": [
        "from hyperopt import fmin\n",
        "\n",
        "# Global variable\n",
        "global  ITERATION\n",
        "MAX_EVALS = 10\n",
        "ITERATION = 0\n",
        "\n",
        "# Run optimization\n",
        "best = fmin(fn = objective, space = space, algo = tpe.suggest, trials = trials,\n",
        "            max_evals = MAX_EVALS)"
      ],
      "execution_count": null,
      "outputs": [
        {
          "output_type": "stream",
          "text": [
            "100%|██████████| 10/10 [1:26:08<00:00, 516.85s/it, best loss: 19.0431617311527]\n"
          ],
          "name": "stdout"
        }
      ]
    },
    {
      "cell_type": "code",
      "metadata": {
        "colab": {
          "base_uri": "https://localhost:8080/"
        },
        "id": "XSv1X6Co9NF1",
        "outputId": "b04aad4b-2716-43d2-d6f5-e539ab0da003"
      },
      "source": [
        "best"
      ],
      "execution_count": null,
      "outputs": [
        {
          "output_type": "execute_result",
          "data": {
            "text/plain": [
              "{'boosting_type': 1,\n",
              " 'colsample_by_tree': 0.9909414271086037,\n",
              " 'dart_subsample': 0.5225163149745469,\n",
              " 'is_unbalance': 1,\n",
              " 'learning_rate': 0.12525505001861895,\n",
              " 'min_child_samples': 95.0,\n",
              " 'num_leaves': 28.0,\n",
              " 'reg_alpha': 0.0059354102342819015,\n",
              " 'reg_lambda': 0.7419111065986218,\n",
              " 'subsample_for_bin': 180000.0}"
            ]
          },
          "metadata": {
            "tags": []
          },
          "execution_count": 9
        }
      ]
    },
    {
      "cell_type": "code",
      "metadata": {
        "colab": {
          "base_uri": "https://localhost:8080/"
        },
        "id": "y3DO9hFb1n5L",
        "outputId": "4fef41ac-94c8-4cca-e694-dad76ba1a52a"
      },
      "source": [
        "# Sort the trials with lowest loss (highest AUC) first\n",
        "trials_dict = sorted(trials.results, key = lambda x: x['loss'])\n",
        "trials_dict[:1]"
      ],
      "execution_count": null,
      "outputs": [
        {
          "output_type": "execute_result",
          "data": {
            "text/plain": [
              "[{'hyperparameters': {'boosting_type': 'dart',\n",
              "   'colsample_bytree': 0.9909414271086037,\n",
              "   'is_unbalance': False,\n",
              "   'learning_rate': 0.12525505001861895,\n",
              "   'min_child_samples': 95,\n",
              "   'n_estimators': 10000,\n",
              "   'num_leaves': 28,\n",
              "   'reg_alpha': 0.0059354102342819015,\n",
              "   'reg_lambda': 0.7419111065986218,\n",
              "   'subsample': 0.5225163149745469,\n",
              "   'subsample_for_bin': 180000},\n",
              "  'iteration': 1,\n",
              "  'loss': 19.0431617311527,\n",
              "  'status': 'ok',\n",
              "  'std_loss': 0.5262268345425978,\n",
              "  'train_time': 1560.726952536}]"
            ]
          },
          "metadata": {
            "tags": []
          },
          "execution_count": 10
        }
      ]
    },
    {
      "cell_type": "markdown",
      "metadata": {
        "id": "oNHMT5RS2xQA"
      },
      "source": [
        "Bayseian optimization reaches lower RMSE faster in just 10 iterations"
      ]
    },
    {
      "cell_type": "code",
      "metadata": {
        "id": "XTTxO4dt4E3T"
      },
      "source": [
        "# create a a new search space comparable to grid search and random search and run it for 60 iterations\n",
        "search_space = {\n",
        "    'boosting_type': hp.choice('boosting_type', \n",
        "                                            [{'boosting_type': 'gbdt', 'subsample': hp.uniform('gdbt_subsample', 0.5, 0.51)}]),\n",
        "    'subsample_for_bin': hp.uniform('subsample_for_bin', 20000, 20001),\n",
        "    'min_child_samples': hp.uniform('min_child_samples', 20, 21),\n",
        "    'num_leaves': hp.uniform('num_leaves', 2, 20),\n",
        "    'n_estimators': hp.quniform('n_estimators', 1000, 10000, 1000)\n",
        "}"
      ],
      "execution_count": null,
      "outputs": []
    },
    {
      "cell_type": "code",
      "metadata": {
        "colab": {
          "base_uri": "https://localhost:8080/"
        },
        "id": "lmxRLcou8mrw",
        "outputId": "9fe90b3e-34a0-49bd-929a-5cb4ac3cc97f"
      },
      "source": [
        "hp.quniform('n_estimators', 1000, 10000, 1000)"
      ],
      "execution_count": null,
      "outputs": [
        {
          "output_type": "execute_result",
          "data": {
            "text/plain": [
              "<hyperopt.pyll.base.Apply at 0x7f4e4d4ac810>"
            ]
          },
          "metadata": {
            "tags": []
          },
          "execution_count": 18
        }
      ]
    },
    {
      "cell_type": "code",
      "metadata": {
        "colab": {
          "base_uri": "https://localhost:8080/"
        },
        "id": "e9aGdFel4la1",
        "outputId": "70582710-1bb8-414a-be83-6e2273598075"
      },
      "source": [
        "from hyperopt import fmin\n",
        "\n",
        "# Global variable\n",
        "global  ITERATION\n",
        "MAX_EVALS = 50\n",
        "ITERATION = 0\n",
        "\n",
        "# Run optimization\n",
        "new_space = fmin(fn = objective, space = search_space, algo = tpe.suggest, trials = trials,\n",
        "            max_evals = MAX_EVALS)"
      ],
      "execution_count": null,
      "outputs": [
        {
          "output_type": "stream",
          "text": [
            "\r  0%|          | 0/50 [00:00<?, ?it/s, best loss: ?]"
          ],
          "name": "stdout"
        },
        {
          "output_type": "stream",
          "text": [
            "/usr/local/lib/python3.7/dist-packages/lightgbm/engine.py:430: UserWarning: Found `n_estimators` in params. Will use it instead of argument\n",
            "  warnings.warn(\"Found `{}` in params. Will use it instead of argument\".format(alias))\n",
            "\n"
          ],
          "name": "stderr"
        },
        {
          "output_type": "stream",
          "text": [
            "100%|██████████| 50/50 [19:39<00:00, 23.59s/it, best loss: 4.2862427492918584]\n"
          ],
          "name": "stdout"
        }
      ]
    },
    {
      "cell_type": "code",
      "metadata": {
        "id": "YzyikR144lyd"
      },
      "source": [
        "# import data\n",
        "df = pd.read_csv('bayes_test.csv')"
      ],
      "execution_count": null,
      "outputs": []
    },
    {
      "cell_type": "code",
      "metadata": {
        "id": "kRbcz4weyPYl"
      },
      "source": [
        "# create dataframe\n",
        "import ast\n",
        "baysian_score_df = pd.DataFrame(data=zip([d.get('n_estimators') for d in df['std_loss'].map(ast.literal_eval)], [d.get('num_leaves') for d in df['std_loss'].map(ast.literal_eval)], df['loss']), columns=['number of estimators', 'number of leaves', 'mean rmse'])"
      ],
      "execution_count": null,
      "outputs": []
    },
    {
      "cell_type": "code",
      "metadata": {
        "colab": {
          "base_uri": "https://localhost:8080/",
          "height": 517
        },
        "id": "F-thGNF22373",
        "outputId": "9b8eb388-8d03-47b1-fb3c-6acf4e272c31"
      },
      "source": [
        "import plotly.express as px\n",
        "\n",
        "fig = px.scatter(baysian_score_df, x=\"number of estimators\", y=\"number of leaves\",\n",
        "                 color=\"mean rmse\", color_continuous_scale=\"rainbow\", \n",
        "                 size=\"mean rmse\", width=600, height=500,\n",
        "                 range_color=[5,55])\n",
        "\n",
        "# Best esitmator\n",
        "fig.add_scatter(x = [10000], y=[3], mode=\"markers\", showlegend=False, marker={'size': 20, 'color': ['Orange'], 'symbol' : 'star', 'line' : dict(\n",
        "                color='black',\n",
        "                width=2\n",
        "            )})\n",
        "\n",
        "# format axis\n",
        "fig.update_layout(xaxis_range=[0,11000],\n",
        "                                   \n",
        "                  font=dict(\n",
        "                  family=\"Arial\",\n",
        "                  size=16,\n",
        "                  color=\"black\")\n",
        "                  \n",
        "                  )\n",
        "\n",
        "# change background\n",
        "fig.update_layout({\n",
        "'plot_bgcolor': 'rgba(0, 0, 0, 0)',\n",
        "#'paper_bgcolor': 'rgba(0, 0, 0, 0)',\n",
        "})\n",
        "\n",
        "# Change grid lines color\n",
        "fig.update_xaxes(showgrid=True, gridwidth=1, gridcolor='black')\n",
        "fig.update_yaxes(showgrid=True, gridwidth=1, gridcolor='black')\n",
        "fig.show()"
      ],
      "execution_count": null,
      "outputs": [
        {
          "output_type": "display_data",
          "data": {
            "text/html": [
              "<html>\n",
              "<head><meta charset=\"utf-8\" /></head>\n",
              "<body>\n",
              "    <div>\n",
              "            <script src=\"https://cdnjs.cloudflare.com/ajax/libs/mathjax/2.7.5/MathJax.js?config=TeX-AMS-MML_SVG\"></script><script type=\"text/javascript\">if (window.MathJax) {MathJax.Hub.Config({SVG: {font: \"STIX-Web\"}});}</script>\n",
              "                <script type=\"text/javascript\">window.PlotlyConfig = {MathJaxConfig: 'local'};</script>\n",
              "        <script src=\"https://cdn.plot.ly/plotly-latest.min.js\"></script>    \n",
              "            <div id=\"b787b77d-1e65-4919-aec8-d4e6fba5b05d\" class=\"plotly-graph-div\" style=\"height:500px; width:600px;\"></div>\n",
              "            <script type=\"text/javascript\">\n",
              "                \n",
              "                    window.PLOTLYENV=window.PLOTLYENV || {};\n",
              "                    \n",
              "                if (document.getElementById(\"b787b77d-1e65-4919-aec8-d4e6fba5b05d\")) {\n",
              "                    Plotly.newPlot(\n",
              "                        'b787b77d-1e65-4919-aec8-d4e6fba5b05d',\n",
              "                        [{\"hoverlabel\": {\"namelength\": 0}, \"hovertemplate\": \"number of estimators=%{x}<br>number of leaves=%{y}<br>mean rmse=%{marker.color}\", \"legendgroup\": \"\", \"marker\": {\"color\": [6.932727852273284, 6.62976368327399, 8.129788299777159, 5.362806241170908, 5.19918048848978, 5.362806241170908, 6.033720142964437, 8.340787103153847, 7.723287752432867, 6.1377378300686285, 7.723287752432867, 4.617050180079226, 6.201934547243015, 4.617050180079226, 5.91997030508111, 5.452652864724669, 8.15956497250265, 6.907980807102865, 4.7622637185790975, 8.340787103153847, 4.685298180296557, 4.369863650255041, 4.783969652966105, 4.286242749291858, 4.615594641597919, 8.599630712562227, 4.783969652966105, 6.3239893082644505, 7.104826848756648, 6.62976368327399, 4.369863650255041, 6.348435080143553, 7.5662441794215, 6.932727852273284, 4.615594641597919, 4.323667640796447, 5.606099600272473, 4.962725886419757, 5.19918048848978, 5.5786088613291485, 7.104826848756648, 6.201934547243015, 8.059650560890747, 7.419768034672468, 6.290413698322758, 5.028034670429311, 5.19918048848978, 9.031774926093325, 7.904342376629794, 6.932727852273284], \"coloraxis\": \"coloraxis\", \"size\": [6.932727852273284, 6.62976368327399, 8.129788299777159, 5.362806241170908, 5.19918048848978, 5.362806241170908, 6.033720142964437, 8.340787103153847, 7.723287752432867, 6.1377378300686285, 7.723287752432867, 4.617050180079226, 6.201934547243015, 4.617050180079226, 5.91997030508111, 5.452652864724669, 8.15956497250265, 6.907980807102865, 4.7622637185790975, 8.340787103153847, 4.685298180296557, 4.369863650255041, 4.783969652966105, 4.286242749291858, 4.615594641597919, 8.599630712562227, 4.783969652966105, 6.3239893082644505, 7.104826848756648, 6.62976368327399, 4.369863650255041, 6.348435080143553, 7.5662441794215, 6.932727852273284, 4.615594641597919, 4.323667640796447, 5.606099600272473, 4.962725886419757, 5.19918048848978, 5.5786088613291485, 7.104826848756648, 6.201934547243015, 8.059650560890747, 7.419768034672468, 6.290413698322758, 5.028034670429311, 5.19918048848978, 9.031774926093325, 7.904342376629794, 6.932727852273284], \"sizemode\": \"area\", \"sizeref\": 0.022579437315233312, \"symbol\": \"circle\"}, \"mode\": \"markers\", \"name\": \"\", \"showlegend\": false, \"type\": \"scatter\", \"x\": [8000, 10000, 2000, 6000, 9000, 6000, 9000, 2000, 9000, 6000, 9000, 8000, 5000, 8000, 4000, 5000, 1000, 3000, 6000, 2000, 7000, 8000, 7000, 10000, 10000, 10000, 7000, 8000, 9000, 10000, 8000, 7000, 10000, 8000, 10000, 9000, 9000, 4000, 9000, 10000, 9000, 5000, 7000, 6000, 4000, 3000, 9000, 1000, 10000, 8000], \"xaxis\": \"x\", \"y\": [10, 9, 15, 5, 5, 5, 7, 17, 14, 7, 14, 2, 7, 2, 6, 5, 12, 9, 2, 17, 2, 3, 4, 3, 4, 19, 4, 8, 11, 9, 3, 8, 13, 10, 4, 3, 6, 2, 5, 6, 11, 7, 16, 12, 7, 3, 5, 19, 15, 10], \"yaxis\": \"y\"}, {\"marker\": {\"color\": [\"Orange\"], \"line\": {\"color\": \"black\", \"width\": 2}, \"size\": 20, \"symbol\": \"star\"}, \"mode\": \"markers\", \"showlegend\": false, \"type\": \"scatter\", \"x\": [10000], \"y\": [3]}],\n",
              "                        {\"coloraxis\": {\"cmax\": 55, \"cmin\": 5, \"colorbar\": {\"title\": {\"text\": \"mean rmse\"}}, \"colorscale\": [[0.0, \"rgb(150,0,90)\"], [0.125, \"rgb(0,0,200)\"], [0.25, \"rgb(0,25,255)\"], [0.375, \"rgb(0,152,255)\"], [0.5, \"rgb(44,255,150)\"], [0.625, \"rgb(151,255,0)\"], [0.75, \"rgb(255,234,0)\"], [0.875, \"rgb(255,111,0)\"], [1.0, \"rgb(255,0,0)\"]]}, \"font\": {\"color\": \"black\", \"family\": \"Arial\", \"size\": 16}, \"height\": 500, \"legend\": {\"itemsizing\": \"constant\", \"tracegroupgap\": 0}, \"margin\": {\"t\": 60}, \"plot_bgcolor\": \"rgba(0, 0, 0, 0)\", \"template\": {\"data\": {\"bar\": [{\"error_x\": {\"color\": \"#2a3f5f\"}, \"error_y\": {\"color\": \"#2a3f5f\"}, \"marker\": {\"line\": {\"color\": \"#E5ECF6\", \"width\": 0.5}}, \"type\": \"bar\"}], \"barpolar\": [{\"marker\": {\"line\": {\"color\": \"#E5ECF6\", \"width\": 0.5}}, \"type\": \"barpolar\"}], \"carpet\": [{\"aaxis\": {\"endlinecolor\": \"#2a3f5f\", \"gridcolor\": \"white\", \"linecolor\": \"white\", \"minorgridcolor\": \"white\", \"startlinecolor\": \"#2a3f5f\"}, \"baxis\": {\"endlinecolor\": \"#2a3f5f\", \"gridcolor\": \"white\", \"linecolor\": \"white\", \"minorgridcolor\": \"white\", \"startlinecolor\": \"#2a3f5f\"}, \"type\": \"carpet\"}], \"choropleth\": [{\"colorbar\": {\"outlinewidth\": 0, \"ticks\": \"\"}, \"type\": \"choropleth\"}], \"contour\": [{\"colorbar\": {\"outlinewidth\": 0, \"ticks\": \"\"}, \"colorscale\": [[0.0, \"#0d0887\"], [0.1111111111111111, \"#46039f\"], [0.2222222222222222, \"#7201a8\"], [0.3333333333333333, \"#9c179e\"], [0.4444444444444444, \"#bd3786\"], [0.5555555555555556, \"#d8576b\"], [0.6666666666666666, \"#ed7953\"], [0.7777777777777778, \"#fb9f3a\"], [0.8888888888888888, \"#fdca26\"], [1.0, \"#f0f921\"]], \"type\": \"contour\"}], \"contourcarpet\": [{\"colorbar\": {\"outlinewidth\": 0, \"ticks\": \"\"}, \"type\": \"contourcarpet\"}], \"heatmap\": [{\"colorbar\": {\"outlinewidth\": 0, \"ticks\": \"\"}, \"colorscale\": [[0.0, \"#0d0887\"], [0.1111111111111111, \"#46039f\"], [0.2222222222222222, \"#7201a8\"], [0.3333333333333333, \"#9c179e\"], [0.4444444444444444, \"#bd3786\"], [0.5555555555555556, \"#d8576b\"], [0.6666666666666666, \"#ed7953\"], [0.7777777777777778, \"#fb9f3a\"], [0.8888888888888888, \"#fdca26\"], [1.0, \"#f0f921\"]], \"type\": \"heatmap\"}], \"heatmapgl\": [{\"colorbar\": {\"outlinewidth\": 0, \"ticks\": \"\"}, \"colorscale\": [[0.0, \"#0d0887\"], [0.1111111111111111, \"#46039f\"], [0.2222222222222222, \"#7201a8\"], [0.3333333333333333, \"#9c179e\"], [0.4444444444444444, \"#bd3786\"], [0.5555555555555556, \"#d8576b\"], [0.6666666666666666, \"#ed7953\"], [0.7777777777777778, \"#fb9f3a\"], [0.8888888888888888, \"#fdca26\"], [1.0, \"#f0f921\"]], \"type\": \"heatmapgl\"}], \"histogram\": [{\"marker\": {\"colorbar\": {\"outlinewidth\": 0, \"ticks\": \"\"}}, \"type\": \"histogram\"}], \"histogram2d\": [{\"colorbar\": {\"outlinewidth\": 0, \"ticks\": \"\"}, \"colorscale\": [[0.0, \"#0d0887\"], [0.1111111111111111, \"#46039f\"], [0.2222222222222222, \"#7201a8\"], [0.3333333333333333, \"#9c179e\"], [0.4444444444444444, \"#bd3786\"], [0.5555555555555556, \"#d8576b\"], [0.6666666666666666, \"#ed7953\"], [0.7777777777777778, \"#fb9f3a\"], [0.8888888888888888, \"#fdca26\"], [1.0, \"#f0f921\"]], \"type\": \"histogram2d\"}], \"histogram2dcontour\": [{\"colorbar\": {\"outlinewidth\": 0, \"ticks\": \"\"}, \"colorscale\": [[0.0, \"#0d0887\"], [0.1111111111111111, \"#46039f\"], [0.2222222222222222, \"#7201a8\"], [0.3333333333333333, \"#9c179e\"], [0.4444444444444444, \"#bd3786\"], [0.5555555555555556, \"#d8576b\"], [0.6666666666666666, \"#ed7953\"], [0.7777777777777778, \"#fb9f3a\"], [0.8888888888888888, \"#fdca26\"], [1.0, \"#f0f921\"]], \"type\": \"histogram2dcontour\"}], \"mesh3d\": [{\"colorbar\": {\"outlinewidth\": 0, \"ticks\": \"\"}, \"type\": \"mesh3d\"}], \"parcoords\": [{\"line\": {\"colorbar\": {\"outlinewidth\": 0, \"ticks\": \"\"}}, \"type\": \"parcoords\"}], \"pie\": [{\"automargin\": true, \"type\": \"pie\"}], \"scatter\": [{\"marker\": {\"colorbar\": {\"outlinewidth\": 0, \"ticks\": \"\"}}, \"type\": \"scatter\"}], \"scatter3d\": [{\"line\": {\"colorbar\": {\"outlinewidth\": 0, \"ticks\": \"\"}}, \"marker\": {\"colorbar\": {\"outlinewidth\": 0, \"ticks\": \"\"}}, \"type\": \"scatter3d\"}], \"scattercarpet\": [{\"marker\": {\"colorbar\": {\"outlinewidth\": 0, \"ticks\": \"\"}}, \"type\": \"scattercarpet\"}], \"scattergeo\": [{\"marker\": {\"colorbar\": {\"outlinewidth\": 0, \"ticks\": \"\"}}, \"type\": \"scattergeo\"}], \"scattergl\": [{\"marker\": {\"colorbar\": {\"outlinewidth\": 0, \"ticks\": \"\"}}, \"type\": \"scattergl\"}], \"scattermapbox\": [{\"marker\": {\"colorbar\": {\"outlinewidth\": 0, \"ticks\": \"\"}}, \"type\": \"scattermapbox\"}], \"scatterpolar\": [{\"marker\": {\"colorbar\": {\"outlinewidth\": 0, \"ticks\": \"\"}}, \"type\": \"scatterpolar\"}], \"scatterpolargl\": [{\"marker\": {\"colorbar\": {\"outlinewidth\": 0, \"ticks\": \"\"}}, \"type\": \"scatterpolargl\"}], \"scatterternary\": [{\"marker\": {\"colorbar\": {\"outlinewidth\": 0, \"ticks\": \"\"}}, \"type\": \"scatterternary\"}], \"surface\": [{\"colorbar\": {\"outlinewidth\": 0, \"ticks\": \"\"}, \"colorscale\": [[0.0, \"#0d0887\"], [0.1111111111111111, \"#46039f\"], [0.2222222222222222, \"#7201a8\"], [0.3333333333333333, \"#9c179e\"], [0.4444444444444444, \"#bd3786\"], [0.5555555555555556, \"#d8576b\"], [0.6666666666666666, \"#ed7953\"], [0.7777777777777778, \"#fb9f3a\"], [0.8888888888888888, \"#fdca26\"], [1.0, \"#f0f921\"]], \"type\": \"surface\"}], \"table\": [{\"cells\": {\"fill\": {\"color\": \"#EBF0F8\"}, \"line\": {\"color\": \"white\"}}, \"header\": {\"fill\": {\"color\": \"#C8D4E3\"}, \"line\": {\"color\": \"white\"}}, \"type\": \"table\"}]}, \"layout\": {\"annotationdefaults\": {\"arrowcolor\": \"#2a3f5f\", \"arrowhead\": 0, \"arrowwidth\": 1}, \"coloraxis\": {\"colorbar\": {\"outlinewidth\": 0, \"ticks\": \"\"}}, \"colorscale\": {\"diverging\": [[0, \"#8e0152\"], [0.1, \"#c51b7d\"], [0.2, \"#de77ae\"], [0.3, \"#f1b6da\"], [0.4, \"#fde0ef\"], [0.5, \"#f7f7f7\"], [0.6, \"#e6f5d0\"], [0.7, \"#b8e186\"], [0.8, \"#7fbc41\"], [0.9, \"#4d9221\"], [1, \"#276419\"]], \"sequential\": [[0.0, \"#0d0887\"], [0.1111111111111111, \"#46039f\"], [0.2222222222222222, \"#7201a8\"], [0.3333333333333333, \"#9c179e\"], [0.4444444444444444, \"#bd3786\"], [0.5555555555555556, \"#d8576b\"], [0.6666666666666666, \"#ed7953\"], [0.7777777777777778, \"#fb9f3a\"], [0.8888888888888888, \"#fdca26\"], [1.0, \"#f0f921\"]], \"sequentialminus\": [[0.0, \"#0d0887\"], [0.1111111111111111, \"#46039f\"], [0.2222222222222222, \"#7201a8\"], [0.3333333333333333, \"#9c179e\"], [0.4444444444444444, \"#bd3786\"], [0.5555555555555556, \"#d8576b\"], [0.6666666666666666, \"#ed7953\"], [0.7777777777777778, \"#fb9f3a\"], [0.8888888888888888, \"#fdca26\"], [1.0, \"#f0f921\"]]}, \"colorway\": [\"#636efa\", \"#EF553B\", \"#00cc96\", \"#ab63fa\", \"#FFA15A\", \"#19d3f3\", \"#FF6692\", \"#B6E880\", \"#FF97FF\", \"#FECB52\"], \"font\": {\"color\": \"#2a3f5f\"}, \"geo\": {\"bgcolor\": \"white\", \"lakecolor\": \"white\", \"landcolor\": \"#E5ECF6\", \"showlakes\": true, \"showland\": true, \"subunitcolor\": \"white\"}, \"hoverlabel\": {\"align\": \"left\"}, \"hovermode\": \"closest\", \"mapbox\": {\"style\": \"light\"}, \"paper_bgcolor\": \"white\", \"plot_bgcolor\": \"#E5ECF6\", \"polar\": {\"angularaxis\": {\"gridcolor\": \"white\", \"linecolor\": \"white\", \"ticks\": \"\"}, \"bgcolor\": \"#E5ECF6\", \"radialaxis\": {\"gridcolor\": \"white\", \"linecolor\": \"white\", \"ticks\": \"\"}}, \"scene\": {\"xaxis\": {\"backgroundcolor\": \"#E5ECF6\", \"gridcolor\": \"white\", \"gridwidth\": 2, \"linecolor\": \"white\", \"showbackground\": true, \"ticks\": \"\", \"zerolinecolor\": \"white\"}, \"yaxis\": {\"backgroundcolor\": \"#E5ECF6\", \"gridcolor\": \"white\", \"gridwidth\": 2, \"linecolor\": \"white\", \"showbackground\": true, \"ticks\": \"\", \"zerolinecolor\": \"white\"}, \"zaxis\": {\"backgroundcolor\": \"#E5ECF6\", \"gridcolor\": \"white\", \"gridwidth\": 2, \"linecolor\": \"white\", \"showbackground\": true, \"ticks\": \"\", \"zerolinecolor\": \"white\"}}, \"shapedefaults\": {\"line\": {\"color\": \"#2a3f5f\"}}, \"ternary\": {\"aaxis\": {\"gridcolor\": \"white\", \"linecolor\": \"white\", \"ticks\": \"\"}, \"baxis\": {\"gridcolor\": \"white\", \"linecolor\": \"white\", \"ticks\": \"\"}, \"bgcolor\": \"#E5ECF6\", \"caxis\": {\"gridcolor\": \"white\", \"linecolor\": \"white\", \"ticks\": \"\"}}, \"title\": {\"x\": 0.05}, \"xaxis\": {\"automargin\": true, \"gridcolor\": \"white\", \"linecolor\": \"white\", \"ticks\": \"\", \"title\": {\"standoff\": 15}, \"zerolinecolor\": \"white\", \"zerolinewidth\": 2}, \"yaxis\": {\"automargin\": true, \"gridcolor\": \"white\", \"linecolor\": \"white\", \"ticks\": \"\", \"title\": {\"standoff\": 15}, \"zerolinecolor\": \"white\", \"zerolinewidth\": 2}}}, \"width\": 600, \"xaxis\": {\"anchor\": \"y\", \"domain\": [0.0, 1.0], \"gridcolor\": \"black\", \"gridwidth\": 1, \"range\": [0, 11000], \"showgrid\": true, \"title\": {\"text\": \"number of estimators\"}}, \"yaxis\": {\"anchor\": \"x\", \"domain\": [0.0, 1.0], \"gridcolor\": \"black\", \"gridwidth\": 1, \"showgrid\": true, \"title\": {\"text\": \"number of leaves\"}}},\n",
              "                        {\"responsive\": true}\n",
              "                    ).then(function(){\n",
              "                            \n",
              "var gd = document.getElementById('b787b77d-1e65-4919-aec8-d4e6fba5b05d');\n",
              "var x = new MutationObserver(function (mutations, observer) {{\n",
              "        var display = window.getComputedStyle(gd).display;\n",
              "        if (!display || display === 'none') {{\n",
              "            console.log([gd, 'removed!']);\n",
              "            Plotly.purge(gd);\n",
              "            observer.disconnect();\n",
              "        }}\n",
              "}});\n",
              "\n",
              "// Listen for the removal of the full notebook cells\n",
              "var notebookContainer = gd.closest('#notebook-container');\n",
              "if (notebookContainer) {{\n",
              "    x.observe(notebookContainer, {childList: true});\n",
              "}}\n",
              "\n",
              "// Listen for the clearing of the current output cell\n",
              "var outputEl = gd.closest('.output');\n",
              "if (outputEl) {{\n",
              "    x.observe(outputEl, {childList: true});\n",
              "}}\n",
              "\n",
              "                        })\n",
              "                };\n",
              "                \n",
              "            </script>\n",
              "        </div>\n",
              "</body>\n",
              "</html>"
            ]
          },
          "metadata": {
            "tags": []
          }
        }
      ]
    },
    {
      "cell_type": "code",
      "metadata": {
        "id": "m_Q63IkL6rbz"
      },
      "source": [
        "baysian_score_df.to_csv('bayesian_output.csv')"
      ],
      "execution_count": null,
      "outputs": []
    },
    {
      "cell_type": "code",
      "metadata": {
        "colab": {
          "base_uri": "https://localhost:8080/",
          "height": 1000
        },
        "id": "Gb2qS6vOIP9H",
        "outputId": "13ed9d81-39f8-44c2-efb7-25a035935604"
      },
      "source": [
        "df\n"
      ],
      "execution_count": null,
      "outputs": [
        {
          "output_type": "execute_result",
          "data": {
            "text/html": [
              "<div>\n",
              "<style scoped>\n",
              "    .dataframe tbody tr th:only-of-type {\n",
              "        vertical-align: middle;\n",
              "    }\n",
              "\n",
              "    .dataframe tbody tr th {\n",
              "        vertical-align: top;\n",
              "    }\n",
              "\n",
              "    .dataframe thead th {\n",
              "        text-align: right;\n",
              "    }\n",
              "</style>\n",
              "<table border=\"1\" class=\"dataframe\">\n",
              "  <thead>\n",
              "    <tr style=\"text-align: right;\">\n",
              "      <th></th>\n",
              "      <th>loss</th>\n",
              "      <th>std_loss</th>\n",
              "      <th>hyperparameters</th>\n",
              "      <th>iteration</th>\n",
              "      <th>runtime</th>\n",
              "      <th>score</th>\n",
              "    </tr>\n",
              "  </thead>\n",
              "  <tbody>\n",
              "    <tr>\n",
              "      <th>0</th>\n",
              "      <td>6.932728</td>\n",
              "      <td>{'boosting_type': 'gbdt', 'min_child_samples':...</td>\n",
              "      <td>1</td>\n",
              "      <td>31.976020</td>\n",
              "      <td>6.932728</td>\n",
              "      <td>NaN</td>\n",
              "    </tr>\n",
              "    <tr>\n",
              "      <th>1</th>\n",
              "      <td>6.629764</td>\n",
              "      <td>{'boosting_type': 'gbdt', 'min_child_samples':...</td>\n",
              "      <td>2</td>\n",
              "      <td>37.407921</td>\n",
              "      <td>6.629764</td>\n",
              "      <td>NaN</td>\n",
              "    </tr>\n",
              "    <tr>\n",
              "      <th>2</th>\n",
              "      <td>8.129788</td>\n",
              "      <td>{'boosting_type': 'gbdt', 'min_child_samples':...</td>\n",
              "      <td>3</td>\n",
              "      <td>10.945550</td>\n",
              "      <td>8.129788</td>\n",
              "      <td>NaN</td>\n",
              "    </tr>\n",
              "    <tr>\n",
              "      <th>3</th>\n",
              "      <td>5.362806</td>\n",
              "      <td>{'boosting_type': 'gbdt', 'min_child_samples':...</td>\n",
              "      <td>4</td>\n",
              "      <td>17.111979</td>\n",
              "      <td>5.362806</td>\n",
              "      <td>NaN</td>\n",
              "    </tr>\n",
              "    <tr>\n",
              "      <th>4</th>\n",
              "      <td>5.199180</td>\n",
              "      <td>{'boosting_type': 'gbdt', 'min_child_samples':...</td>\n",
              "      <td>5</td>\n",
              "      <td>25.423809</td>\n",
              "      <td>5.199180</td>\n",
              "      <td>NaN</td>\n",
              "    </tr>\n",
              "    <tr>\n",
              "      <th>5</th>\n",
              "      <td>5.362806</td>\n",
              "      <td>{'boosting_type': 'gbdt', 'min_child_samples':...</td>\n",
              "      <td>6</td>\n",
              "      <td>16.968794</td>\n",
              "      <td>5.362806</td>\n",
              "      <td>NaN</td>\n",
              "    </tr>\n",
              "    <tr>\n",
              "      <th>6</th>\n",
              "      <td>6.033720</td>\n",
              "      <td>{'boosting_type': 'gbdt', 'min_child_samples':...</td>\n",
              "      <td>7</td>\n",
              "      <td>29.993399</td>\n",
              "      <td>6.033720</td>\n",
              "      <td>NaN</td>\n",
              "    </tr>\n",
              "    <tr>\n",
              "      <th>7</th>\n",
              "      <td>8.340787</td>\n",
              "      <td>{'boosting_type': 'gbdt', 'min_child_samples':...</td>\n",
              "      <td>8</td>\n",
              "      <td>11.800981</td>\n",
              "      <td>8.340787</td>\n",
              "      <td>NaN</td>\n",
              "    </tr>\n",
              "    <tr>\n",
              "      <th>8</th>\n",
              "      <td>7.723288</td>\n",
              "      <td>{'boosting_type': 'gbdt', 'min_child_samples':...</td>\n",
              "      <td>9</td>\n",
              "      <td>43.765498</td>\n",
              "      <td>7.723288</td>\n",
              "      <td>NaN</td>\n",
              "    </tr>\n",
              "    <tr>\n",
              "      <th>9</th>\n",
              "      <td>6.137738</td>\n",
              "      <td>{'boosting_type': 'gbdt', 'min_child_samples':...</td>\n",
              "      <td>10</td>\n",
              "      <td>20.334438</td>\n",
              "      <td>6.137738</td>\n",
              "      <td>NaN</td>\n",
              "    </tr>\n",
              "    <tr>\n",
              "      <th>10</th>\n",
              "      <td>7.723288</td>\n",
              "      <td>{'boosting_type': 'gbdt', 'min_child_samples':...</td>\n",
              "      <td>11</td>\n",
              "      <td>43.700856</td>\n",
              "      <td>7.723288</td>\n",
              "      <td>NaN</td>\n",
              "    </tr>\n",
              "    <tr>\n",
              "      <th>11</th>\n",
              "      <td>4.617050</td>\n",
              "      <td>{'boosting_type': 'gbdt', 'min_child_samples':...</td>\n",
              "      <td>12</td>\n",
              "      <td>12.223318</td>\n",
              "      <td>4.617050</td>\n",
              "      <td>NaN</td>\n",
              "    </tr>\n",
              "    <tr>\n",
              "      <th>12</th>\n",
              "      <td>6.201935</td>\n",
              "      <td>{'boosting_type': 'gbdt', 'min_child_samples':...</td>\n",
              "      <td>13</td>\n",
              "      <td>16.997234</td>\n",
              "      <td>6.201935</td>\n",
              "      <td>NaN</td>\n",
              "    </tr>\n",
              "    <tr>\n",
              "      <th>13</th>\n",
              "      <td>4.617050</td>\n",
              "      <td>{'boosting_type': 'gbdt', 'min_child_samples':...</td>\n",
              "      <td>14</td>\n",
              "      <td>12.288772</td>\n",
              "      <td>4.617050</td>\n",
              "      <td>NaN</td>\n",
              "    </tr>\n",
              "    <tr>\n",
              "      <th>14</th>\n",
              "      <td>5.919970</td>\n",
              "      <td>{'boosting_type': 'gbdt', 'min_child_samples':...</td>\n",
              "      <td>15</td>\n",
              "      <td>12.698859</td>\n",
              "      <td>5.919970</td>\n",
              "      <td>NaN</td>\n",
              "    </tr>\n",
              "    <tr>\n",
              "      <th>15</th>\n",
              "      <td>5.452653</td>\n",
              "      <td>{'boosting_type': 'gbdt', 'min_child_samples':...</td>\n",
              "      <td>16</td>\n",
              "      <td>14.412176</td>\n",
              "      <td>5.452653</td>\n",
              "      <td>NaN</td>\n",
              "    </tr>\n",
              "    <tr>\n",
              "      <th>16</th>\n",
              "      <td>8.159565</td>\n",
              "      <td>{'boosting_type': 'gbdt', 'min_child_samples':...</td>\n",
              "      <td>17</td>\n",
              "      <td>5.239729</td>\n",
              "      <td>8.159565</td>\n",
              "      <td>NaN</td>\n",
              "    </tr>\n",
              "    <tr>\n",
              "      <th>17</th>\n",
              "      <td>6.907981</td>\n",
              "      <td>{'boosting_type': 'gbdt', 'min_child_samples':...</td>\n",
              "      <td>18</td>\n",
              "      <td>11.961587</td>\n",
              "      <td>6.907981</td>\n",
              "      <td>NaN</td>\n",
              "    </tr>\n",
              "    <tr>\n",
              "      <th>18</th>\n",
              "      <td>4.762264</td>\n",
              "      <td>{'boosting_type': 'gbdt', 'min_child_samples':...</td>\n",
              "      <td>19</td>\n",
              "      <td>9.196267</td>\n",
              "      <td>4.762264</td>\n",
              "      <td>NaN</td>\n",
              "    </tr>\n",
              "    <tr>\n",
              "      <th>19</th>\n",
              "      <td>8.340787</td>\n",
              "      <td>{'boosting_type': 'gbdt', 'min_child_samples':...</td>\n",
              "      <td>20</td>\n",
              "      <td>11.826082</td>\n",
              "      <td>8.340787</td>\n",
              "      <td>NaN</td>\n",
              "    </tr>\n",
              "    <tr>\n",
              "      <th>20</th>\n",
              "      <td>4.685298</td>\n",
              "      <td>{'boosting_type': 'gbdt', 'min_child_samples':...</td>\n",
              "      <td>21</td>\n",
              "      <td>10.758948</td>\n",
              "      <td>4.685298</td>\n",
              "      <td>NaN</td>\n",
              "    </tr>\n",
              "    <tr>\n",
              "      <th>21</th>\n",
              "      <td>4.369864</td>\n",
              "      <td>{'boosting_type': 'gbdt', 'min_child_samples':...</td>\n",
              "      <td>22</td>\n",
              "      <td>17.220258</td>\n",
              "      <td>4.369864</td>\n",
              "      <td>NaN</td>\n",
              "    </tr>\n",
              "    <tr>\n",
              "      <th>22</th>\n",
              "      <td>4.783970</td>\n",
              "      <td>{'boosting_type': 'gbdt', 'min_child_samples':...</td>\n",
              "      <td>23</td>\n",
              "      <td>17.700847</td>\n",
              "      <td>4.783970</td>\n",
              "      <td>NaN</td>\n",
              "    </tr>\n",
              "    <tr>\n",
              "      <th>23</th>\n",
              "      <td>4.286243</td>\n",
              "      <td>{'boosting_type': 'gbdt', 'min_child_samples':...</td>\n",
              "      <td>24</td>\n",
              "      <td>21.271440</td>\n",
              "      <td>4.286243</td>\n",
              "      <td>NaN</td>\n",
              "    </tr>\n",
              "    <tr>\n",
              "      <th>24</th>\n",
              "      <td>4.615595</td>\n",
              "      <td>{'boosting_type': 'gbdt', 'min_child_samples':...</td>\n",
              "      <td>25</td>\n",
              "      <td>25.286216</td>\n",
              "      <td>4.615595</td>\n",
              "      <td>NaN</td>\n",
              "    </tr>\n",
              "    <tr>\n",
              "      <th>25</th>\n",
              "      <td>8.599631</td>\n",
              "      <td>{'boosting_type': 'gbdt', 'min_child_samples':...</td>\n",
              "      <td>26</td>\n",
              "      <td>58.435771</td>\n",
              "      <td>8.599631</td>\n",
              "      <td>NaN</td>\n",
              "    </tr>\n",
              "    <tr>\n",
              "      <th>26</th>\n",
              "      <td>4.783970</td>\n",
              "      <td>{'boosting_type': 'gbdt', 'min_child_samples':...</td>\n",
              "      <td>27</td>\n",
              "      <td>17.814110</td>\n",
              "      <td>4.783970</td>\n",
              "      <td>NaN</td>\n",
              "    </tr>\n",
              "    <tr>\n",
              "      <th>27</th>\n",
              "      <td>6.323989</td>\n",
              "      <td>{'boosting_type': 'gbdt', 'min_child_samples':...</td>\n",
              "      <td>28</td>\n",
              "      <td>28.782567</td>\n",
              "      <td>6.323989</td>\n",
              "      <td>NaN</td>\n",
              "    </tr>\n",
              "    <tr>\n",
              "      <th>28</th>\n",
              "      <td>7.104827</td>\n",
              "      <td>{'boosting_type': 'gbdt', 'min_child_samples':...</td>\n",
              "      <td>29</td>\n",
              "      <td>37.915414</td>\n",
              "      <td>7.104827</td>\n",
              "      <td>NaN</td>\n",
              "    </tr>\n",
              "    <tr>\n",
              "      <th>29</th>\n",
              "      <td>6.629764</td>\n",
              "      <td>{'boosting_type': 'gbdt', 'min_child_samples':...</td>\n",
              "      <td>30</td>\n",
              "      <td>37.548247</td>\n",
              "      <td>6.629764</td>\n",
              "      <td>NaN</td>\n",
              "    </tr>\n",
              "    <tr>\n",
              "      <th>30</th>\n",
              "      <td>4.369864</td>\n",
              "      <td>{'boosting_type': 'gbdt', 'min_child_samples':...</td>\n",
              "      <td>31</td>\n",
              "      <td>17.161815</td>\n",
              "      <td>4.369864</td>\n",
              "      <td>NaN</td>\n",
              "    </tr>\n",
              "    <tr>\n",
              "      <th>31</th>\n",
              "      <td>6.348435</td>\n",
              "      <td>{'boosting_type': 'gbdt', 'min_child_samples':...</td>\n",
              "      <td>32</td>\n",
              "      <td>25.112260</td>\n",
              "      <td>6.348435</td>\n",
              "      <td>NaN</td>\n",
              "    </tr>\n",
              "    <tr>\n",
              "      <th>32</th>\n",
              "      <td>7.566244</td>\n",
              "      <td>{'boosting_type': 'gbdt', 'min_child_samples':...</td>\n",
              "      <td>33</td>\n",
              "      <td>46.276071</td>\n",
              "      <td>7.566244</td>\n",
              "      <td>NaN</td>\n",
              "    </tr>\n",
              "    <tr>\n",
              "      <th>33</th>\n",
              "      <td>6.932728</td>\n",
              "      <td>{'boosting_type': 'gbdt', 'min_child_samples':...</td>\n",
              "      <td>34</td>\n",
              "      <td>32.170952</td>\n",
              "      <td>6.932728</td>\n",
              "      <td>NaN</td>\n",
              "    </tr>\n",
              "    <tr>\n",
              "      <th>34</th>\n",
              "      <td>4.615595</td>\n",
              "      <td>{'boosting_type': 'gbdt', 'min_child_samples':...</td>\n",
              "      <td>35</td>\n",
              "      <td>25.120991</td>\n",
              "      <td>4.615595</td>\n",
              "      <td>NaN</td>\n",
              "    </tr>\n",
              "    <tr>\n",
              "      <th>35</th>\n",
              "      <td>4.323668</td>\n",
              "      <td>{'boosting_type': 'gbdt', 'min_child_samples':...</td>\n",
              "      <td>36</td>\n",
              "      <td>19.340030</td>\n",
              "      <td>4.323668</td>\n",
              "      <td>NaN</td>\n",
              "    </tr>\n",
              "    <tr>\n",
              "      <th>36</th>\n",
              "      <td>5.606100</td>\n",
              "      <td>{'boosting_type': 'gbdt', 'min_child_samples':...</td>\n",
              "      <td>37</td>\n",
              "      <td>27.771861</td>\n",
              "      <td>5.606100</td>\n",
              "      <td>NaN</td>\n",
              "    </tr>\n",
              "    <tr>\n",
              "      <th>37</th>\n",
              "      <td>4.962726</td>\n",
              "      <td>{'boosting_type': 'gbdt', 'min_child_samples':...</td>\n",
              "      <td>38</td>\n",
              "      <td>6.180261</td>\n",
              "      <td>4.962726</td>\n",
              "      <td>NaN</td>\n",
              "    </tr>\n",
              "    <tr>\n",
              "      <th>38</th>\n",
              "      <td>5.199180</td>\n",
              "      <td>{'boosting_type': 'gbdt', 'min_child_samples':...</td>\n",
              "      <td>39</td>\n",
              "      <td>25.396890</td>\n",
              "      <td>5.199180</td>\n",
              "      <td>NaN</td>\n",
              "    </tr>\n",
              "    <tr>\n",
              "      <th>39</th>\n",
              "      <td>5.578609</td>\n",
              "      <td>{'boosting_type': 'gbdt', 'min_child_samples':...</td>\n",
              "      <td>40</td>\n",
              "      <td>30.723627</td>\n",
              "      <td>5.578609</td>\n",
              "      <td>NaN</td>\n",
              "    </tr>\n",
              "    <tr>\n",
              "      <th>40</th>\n",
              "      <td>7.104827</td>\n",
              "      <td>{'boosting_type': 'gbdt', 'min_child_samples':...</td>\n",
              "      <td>41</td>\n",
              "      <td>37.888843</td>\n",
              "      <td>7.104827</td>\n",
              "      <td>NaN</td>\n",
              "    </tr>\n",
              "    <tr>\n",
              "      <th>41</th>\n",
              "      <td>6.201935</td>\n",
              "      <td>{'boosting_type': 'gbdt', 'min_child_samples':...</td>\n",
              "      <td>42</td>\n",
              "      <td>16.988669</td>\n",
              "      <td>6.201935</td>\n",
              "      <td>NaN</td>\n",
              "    </tr>\n",
              "    <tr>\n",
              "      <th>42</th>\n",
              "      <td>8.059651</td>\n",
              "      <td>{'boosting_type': 'gbdt', 'min_child_samples':...</td>\n",
              "      <td>43</td>\n",
              "      <td>36.917973</td>\n",
              "      <td>8.059651</td>\n",
              "      <td>NaN</td>\n",
              "    </tr>\n",
              "    <tr>\n",
              "      <th>43</th>\n",
              "      <td>7.419768</td>\n",
              "      <td>{'boosting_type': 'gbdt', 'min_child_samples':...</td>\n",
              "      <td>44</td>\n",
              "      <td>27.160865</td>\n",
              "      <td>7.419768</td>\n",
              "      <td>NaN</td>\n",
              "    </tr>\n",
              "    <tr>\n",
              "      <th>44</th>\n",
              "      <td>6.290414</td>\n",
              "      <td>{'boosting_type': 'gbdt', 'min_child_samples':...</td>\n",
              "      <td>45</td>\n",
              "      <td>13.838221</td>\n",
              "      <td>6.290414</td>\n",
              "      <td>NaN</td>\n",
              "    </tr>\n",
              "    <tr>\n",
              "      <th>45</th>\n",
              "      <td>5.028035</td>\n",
              "      <td>{'boosting_type': 'gbdt', 'min_child_samples':...</td>\n",
              "      <td>46</td>\n",
              "      <td>6.560548</td>\n",
              "      <td>5.028035</td>\n",
              "      <td>NaN</td>\n",
              "    </tr>\n",
              "    <tr>\n",
              "      <th>46</th>\n",
              "      <td>5.199180</td>\n",
              "      <td>{'boosting_type': 'gbdt', 'min_child_samples':...</td>\n",
              "      <td>47</td>\n",
              "      <td>25.608027</td>\n",
              "      <td>5.199180</td>\n",
              "      <td>NaN</td>\n",
              "    </tr>\n",
              "    <tr>\n",
              "      <th>47</th>\n",
              "      <td>9.031775</td>\n",
              "      <td>{'boosting_type': 'gbdt', 'min_child_samples':...</td>\n",
              "      <td>48</td>\n",
              "      <td>6.751396</td>\n",
              "      <td>9.031775</td>\n",
              "      <td>NaN</td>\n",
              "    </tr>\n",
              "    <tr>\n",
              "      <th>48</th>\n",
              "      <td>7.904342</td>\n",
              "      <td>{'boosting_type': 'gbdt', 'min_child_samples':...</td>\n",
              "      <td>49</td>\n",
              "      <td>50.388690</td>\n",
              "      <td>7.904342</td>\n",
              "      <td>NaN</td>\n",
              "    </tr>\n",
              "    <tr>\n",
              "      <th>49</th>\n",
              "      <td>6.932728</td>\n",
              "      <td>{'boosting_type': 'gbdt', 'min_child_samples':...</td>\n",
              "      <td>50</td>\n",
              "      <td>32.220592</td>\n",
              "      <td>6.932728</td>\n",
              "      <td>NaN</td>\n",
              "    </tr>\n",
              "  </tbody>\n",
              "</table>\n",
              "</div>"
            ],
            "text/plain": [
              "        loss  ... score\n",
              "0   6.932728  ...   NaN\n",
              "1   6.629764  ...   NaN\n",
              "2   8.129788  ...   NaN\n",
              "3   5.362806  ...   NaN\n",
              "4   5.199180  ...   NaN\n",
              "5   5.362806  ...   NaN\n",
              "6   6.033720  ...   NaN\n",
              "7   8.340787  ...   NaN\n",
              "8   7.723288  ...   NaN\n",
              "9   6.137738  ...   NaN\n",
              "10  7.723288  ...   NaN\n",
              "11  4.617050  ...   NaN\n",
              "12  6.201935  ...   NaN\n",
              "13  4.617050  ...   NaN\n",
              "14  5.919970  ...   NaN\n",
              "15  5.452653  ...   NaN\n",
              "16  8.159565  ...   NaN\n",
              "17  6.907981  ...   NaN\n",
              "18  4.762264  ...   NaN\n",
              "19  8.340787  ...   NaN\n",
              "20  4.685298  ...   NaN\n",
              "21  4.369864  ...   NaN\n",
              "22  4.783970  ...   NaN\n",
              "23  4.286243  ...   NaN\n",
              "24  4.615595  ...   NaN\n",
              "25  8.599631  ...   NaN\n",
              "26  4.783970  ...   NaN\n",
              "27  6.323989  ...   NaN\n",
              "28  7.104827  ...   NaN\n",
              "29  6.629764  ...   NaN\n",
              "30  4.369864  ...   NaN\n",
              "31  6.348435  ...   NaN\n",
              "32  7.566244  ...   NaN\n",
              "33  6.932728  ...   NaN\n",
              "34  4.615595  ...   NaN\n",
              "35  4.323668  ...   NaN\n",
              "36  5.606100  ...   NaN\n",
              "37  4.962726  ...   NaN\n",
              "38  5.199180  ...   NaN\n",
              "39  5.578609  ...   NaN\n",
              "40  7.104827  ...   NaN\n",
              "41  6.201935  ...   NaN\n",
              "42  8.059651  ...   NaN\n",
              "43  7.419768  ...   NaN\n",
              "44  6.290414  ...   NaN\n",
              "45  5.028035  ...   NaN\n",
              "46  5.199180  ...   NaN\n",
              "47  9.031775  ...   NaN\n",
              "48  7.904342  ...   NaN\n",
              "49  6.932728  ...   NaN\n",
              "\n",
              "[50 rows x 6 columns]"
            ]
          },
          "metadata": {
            "tags": []
          },
          "execution_count": 28
        }
      ]
    }
  ]
}