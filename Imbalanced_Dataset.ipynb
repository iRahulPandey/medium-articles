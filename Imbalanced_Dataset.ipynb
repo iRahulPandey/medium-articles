{
  "nbformat": 4,
  "nbformat_minor": 0,
  "metadata": {
    "colab": {
      "name": "Imbalanced_Dataset.ipynb",
      "provenance": [],
      "toc_visible": true,
      "authorship_tag": "ABX9TyMAN67/LKz0Szs/FcDpFnXQ",
      "include_colab_link": true
    },
    "kernelspec": {
      "name": "python3",
      "display_name": "Python 3"
    },
    "language_info": {
      "name": "python"
    }
  },
  "cells": [
    {
      "cell_type": "markdown",
      "metadata": {
        "id": "view-in-github",
        "colab_type": "text"
      },
      "source": [
        "<a href=\"https://colab.research.google.com/github/iRahulPandey/medium-articles/blob/master/Imbalanced_Dataset.ipynb\" target=\"_parent\"><img src=\"https://colab.research.google.com/assets/colab-badge.svg\" alt=\"Open In Colab\"/></a>"
      ]
    },
    {
      "cell_type": "code",
      "metadata": {
        "id": "Rv1yVfaoPcoa"
      },
      "source": [
        ""
      ],
      "execution_count": null,
      "outputs": []
    },
    {
      "cell_type": "markdown",
      "metadata": {
        "id": "ht-LWIHa6iO7"
      },
      "source": [
        "# Imbalanced Dataset\n",
        "## Fraud Detection\n",
        "\n",
        "\n",
        "1. Loading Data\n",
        "2. Basic EDA\n",
        "3. ML model\n",
        "4. Trying different metrics\n",
        "5. Different sampling techniques to deal with imbalanced data\n"
      ]
    },
    {
      "cell_type": "code",
      "metadata": {
        "id": "oXfB8Fpz7NFh"
      },
      "source": [
        ""
      ],
      "execution_count": null,
      "outputs": []
    }
  ]
}