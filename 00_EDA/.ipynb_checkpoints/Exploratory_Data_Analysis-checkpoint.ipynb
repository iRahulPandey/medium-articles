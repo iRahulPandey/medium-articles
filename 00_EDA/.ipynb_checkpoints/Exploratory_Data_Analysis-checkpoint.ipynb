{
 "cells": [
  {
   "cell_type": "markdown",
   "metadata": {},
   "source": [
    "# Exploratory Data Analysis\n",
    "This jupyter notebook focuses on various tools used can be used for EDA <br>\n",
    "\n",
    "As an example, <b>Titanic</b> data taken from Kaggle <br>\n",
    "\n",
    "Following things are covered:\n",
    "<ol>\n",
    "<li>Getting Data</li>\n",
    "<li>Data Cleaning and Manipulation</li>\n",
    "<li>Exploratory Data Analysis (EDA)</li>\n",
    "<ul>\n",
    "<li>Data Exploration using Pandas</li>\n",
    "<li>Data Exploration using Visualization techniques</li>\n",
    "<li>Data Exploration using Tensorflow validator</li>\n",
    "<li>Data Exploration using Lux</li>\n",
    "</ul>\n",
    "<li>Takeaways</li>\n",
    "</ol>"
   ]
  },
  {
   "cell_type": "code",
   "execution_count": 1,
   "metadata": {},
   "outputs": [],
   "source": [
    "# import library\n",
    "import pandas as pd \n",
    "import numpy as np\n",
    "import seaborn as sns\n",
    "import matplotlib.pyplot as plt\n",
    "import tensorflow_data_validation as tfdv\n",
    "\n",
    "import warnings\n",
    "warnings.filterwarnings('ignore')"
   ]
  },
  {
   "cell_type": "markdown",
   "metadata": {},
   "source": [
    "# 1. Getting Data\n",
    "## Titanic dataset column information\n",
    "\n",
    "Column description:\n",
    "<ol>\n",
    "<li><b>survival</b> - Survival (0 = No; 1 = Yes)</li>\n",
    "<li><b>Pclass</b>   - Passenger Class (1 = 1st; 2 = 2nd; 3 = 3rd)</li>\n",
    "<li><b>name</b>     - Name</li>\n",
    "<li><b>sex</b>      - Sex</li>\n",
    "<li><b>age</b>      - Age</li>\n",
    "<li><b>sibsp</b>    - Number of Siblings/Spouses Aboard</li>\n",
    "<li><b>parch</b>    - Number of Parents/Children Aboard</li>\n",
    "<li><b>ticket</b>   - Ticket Number</li>\n",
    "<li><b>fare</b>     - Passenger Fare</li>\n",
    "<li><b>cabin</b>    - Cabin</li>\n",
    "<li><b>embarked</b> - Port of Embarkation (C = Cherbourg; Q = Queenstown; S = Southampton)​</li>\n",
    "</ol>\n"
   ]
  },
  {
   "cell_type": "code",
   "execution_count": 2,
   "metadata": {},
   "outputs": [
    {
     "data": {
      "text/html": [
       "<div>\n",
       "<style scoped>\n",
       "    .dataframe tbody tr th:only-of-type {\n",
       "        vertical-align: middle;\n",
       "    }\n",
       "\n",
       "    .dataframe tbody tr th {\n",
       "        vertical-align: top;\n",
       "    }\n",
       "\n",
       "    .dataframe thead th {\n",
       "        text-align: right;\n",
       "    }\n",
       "</style>\n",
       "<table border=\"1\" class=\"dataframe\">\n",
       "  <thead>\n",
       "    <tr style=\"text-align: right;\">\n",
       "      <th></th>\n",
       "      <th>PassengerId</th>\n",
       "      <th>Survived</th>\n",
       "      <th>Pclass</th>\n",
       "      <th>Name</th>\n",
       "      <th>Sex</th>\n",
       "      <th>Age</th>\n",
       "      <th>SibSp</th>\n",
       "      <th>Parch</th>\n",
       "      <th>Ticket</th>\n",
       "      <th>Fare</th>\n",
       "      <th>Cabin</th>\n",
       "      <th>Embarked</th>\n",
       "    </tr>\n",
       "  </thead>\n",
       "  <tbody>\n",
       "    <tr>\n",
       "      <th>0</th>\n",
       "      <td>1</td>\n",
       "      <td>0</td>\n",
       "      <td>3</td>\n",
       "      <td>Braund, Mr. Owen Harris</td>\n",
       "      <td>male</td>\n",
       "      <td>22.0</td>\n",
       "      <td>1</td>\n",
       "      <td>0</td>\n",
       "      <td>A/5 21171</td>\n",
       "      <td>7.2500</td>\n",
       "      <td>NaN</td>\n",
       "      <td>S</td>\n",
       "    </tr>\n",
       "    <tr>\n",
       "      <th>1</th>\n",
       "      <td>2</td>\n",
       "      <td>1</td>\n",
       "      <td>1</td>\n",
       "      <td>Cumings, Mrs. John Bradley (Florence Briggs Th...</td>\n",
       "      <td>female</td>\n",
       "      <td>38.0</td>\n",
       "      <td>1</td>\n",
       "      <td>0</td>\n",
       "      <td>PC 17599</td>\n",
       "      <td>71.2833</td>\n",
       "      <td>C85</td>\n",
       "      <td>C</td>\n",
       "    </tr>\n",
       "    <tr>\n",
       "      <th>2</th>\n",
       "      <td>3</td>\n",
       "      <td>1</td>\n",
       "      <td>3</td>\n",
       "      <td>Heikkinen, Miss. Laina</td>\n",
       "      <td>female</td>\n",
       "      <td>26.0</td>\n",
       "      <td>0</td>\n",
       "      <td>0</td>\n",
       "      <td>STON/O2. 3101282</td>\n",
       "      <td>7.9250</td>\n",
       "      <td>NaN</td>\n",
       "      <td>S</td>\n",
       "    </tr>\n",
       "    <tr>\n",
       "      <th>3</th>\n",
       "      <td>4</td>\n",
       "      <td>1</td>\n",
       "      <td>1</td>\n",
       "      <td>Futrelle, Mrs. Jacques Heath (Lily May Peel)</td>\n",
       "      <td>female</td>\n",
       "      <td>35.0</td>\n",
       "      <td>1</td>\n",
       "      <td>0</td>\n",
       "      <td>113803</td>\n",
       "      <td>53.1000</td>\n",
       "      <td>C123</td>\n",
       "      <td>S</td>\n",
       "    </tr>\n",
       "    <tr>\n",
       "      <th>4</th>\n",
       "      <td>5</td>\n",
       "      <td>0</td>\n",
       "      <td>3</td>\n",
       "      <td>Allen, Mr. William Henry</td>\n",
       "      <td>male</td>\n",
       "      <td>35.0</td>\n",
       "      <td>0</td>\n",
       "      <td>0</td>\n",
       "      <td>373450</td>\n",
       "      <td>8.0500</td>\n",
       "      <td>NaN</td>\n",
       "      <td>S</td>\n",
       "    </tr>\n",
       "  </tbody>\n",
       "</table>\n",
       "</div>"
      ],
      "text/plain": [
       "   PassengerId  Survived  Pclass  \\\n",
       "0            1         0       3   \n",
       "1            2         1       1   \n",
       "2            3         1       3   \n",
       "3            4         1       1   \n",
       "4            5         0       3   \n",
       "\n",
       "                                                Name     Sex   Age  SibSp  \\\n",
       "0                            Braund, Mr. Owen Harris    male  22.0      1   \n",
       "1  Cumings, Mrs. John Bradley (Florence Briggs Th...  female  38.0      1   \n",
       "2                             Heikkinen, Miss. Laina  female  26.0      0   \n",
       "3       Futrelle, Mrs. Jacques Heath (Lily May Peel)  female  35.0      1   \n",
       "4                           Allen, Mr. William Henry    male  35.0      0   \n",
       "\n",
       "   Parch            Ticket     Fare Cabin Embarked  \n",
       "0      0         A/5 21171   7.2500   NaN        S  \n",
       "1      0          PC 17599  71.2833   C85        C  \n",
       "2      0  STON/O2. 3101282   7.9250   NaN        S  \n",
       "3      0            113803  53.1000  C123        S  \n",
       "4      0            373450   8.0500   NaN        S  "
      ]
     },
     "execution_count": 2,
     "metadata": {},
     "output_type": "execute_result"
    }
   ],
   "source": [
    "# import data into pandas\n",
    "df = pd.read_csv(\"./Dataset/train.csv\")\n",
    "\n",
    "# check first 5 records\n",
    "df.head(n=5)"
   ]
  },
  {
   "cell_type": "markdown",
   "metadata": {},
   "source": [
    "# 2. Data Cleaning and Manipulation\n",
    "\n",
    "## Handling missing data\n"
   ]
  },
  {
   "cell_type": "code",
   "execution_count": 3,
   "metadata": {},
   "outputs": [
    {
     "data": {
      "text/plain": [
       "PassengerId      0\n",
       "Survived         0\n",
       "Pclass           0\n",
       "Name             0\n",
       "Sex              0\n",
       "Age            177\n",
       "SibSp            0\n",
       "Parch            0\n",
       "Ticket           0\n",
       "Fare             0\n",
       "Cabin          687\n",
       "Embarked         2\n",
       "dtype: int64"
      ]
     },
     "execution_count": 3,
     "metadata": {},
     "output_type": "execute_result"
    }
   ],
   "source": [
    "df.isnull().sum()"
   ]
  },
  {
   "cell_type": "markdown",
   "metadata": {},
   "source": [
    "### 1. Handling <b>Age</b> column null value\n",
    "<ul>\n",
    "<li>We could replace the null value of AGE by mean.</li>\n",
    "<li>However, here I would take Sex and Pclass mean age to replace null values.</li>\n",
    "</ul>"
   ]
  },
  {
   "cell_type": "code",
   "execution_count": 4,
   "metadata": {},
   "outputs": [
    {
     "data": {
      "text/plain": [
       "Pclass\n",
       "1     30\n",
       "2     11\n",
       "3    136\n",
       "Name: Pclass, dtype: int64"
      ]
     },
     "execution_count": 4,
     "metadata": {},
     "output_type": "execute_result"
    }
   ],
   "source": [
    "# Age \n",
    "# Missing age data in different passenger class\n",
    "df[df.Age.isnull()].Pclass.groupby(df.Pclass).count()"
   ]
  },
  {
   "cell_type": "code",
   "execution_count": 5,
   "metadata": {},
   "outputs": [
    {
     "data": {
      "text/plain": [
       "PassengerId      0\n",
       "Survived         0\n",
       "Pclass           0\n",
       "Name             0\n",
       "Sex              0\n",
       "Age              0\n",
       "SibSp            0\n",
       "Parch            0\n",
       "Ticket           0\n",
       "Fare             0\n",
       "Cabin          687\n",
       "Embarked         2\n",
       "dtype: int64"
      ]
     },
     "execution_count": 5,
     "metadata": {},
     "output_type": "execute_result"
    }
   ],
   "source": [
    "#mean calculation\n",
    "mean_1_male = df.loc[(df.Age.notnull()) & (df.Pclass == 1) & (df.Sex == 'male')].Age.mean()\n",
    "mean_2_male = df.loc[(df.Age.notnull()) & (df.Pclass == 2) & (df.Sex == 'male')].Age.mean()\n",
    "mean_3_male = df.loc[(df.Age.notnull()) & (df.Pclass == 3) & (df.Sex == 'male')].Age.mean()\n",
    "\n",
    "mean_1_female = df.loc[(df.Age.notnull()) & (df.Pclass == 1) & (df.Sex == 'female')].Age.mean()\n",
    "mean_2_female = df.loc[(df.Age.notnull()) & (df.Pclass == 2) & (df.Sex == 'female')].Age.mean()\n",
    "mean_3_female = df.loc[(df.Age.notnull()) & (df.Pclass == 3) & (df.Sex == 'female')].Age.mean()\n",
    "\n",
    "#function for age data cleaning\n",
    "def replaceAge(dataframe):\n",
    "    #fill null value with mean based on sub-group\n",
    "    dataframe['Age'] = np.where(((dataframe.Age.isnull()) & (dataframe['Pclass']==1) & (dataframe['Sex']=='male')), mean_1_male, dataframe['Age'])\n",
    "    dataframe['Age'] = np.where(((dataframe.Age.isnull()) & (dataframe['Pclass']==2) & (dataframe['Sex']=='male')), mean_2_male, dataframe['Age'])\n",
    "    dataframe['Age'] = np.where(((dataframe.Age.isnull()) & (dataframe['Pclass']==3) & (dataframe['Sex']=='male')), mean_3_male, dataframe['Age'])\n",
    "\n",
    "    dataframe['Age'] = np.where(((dataframe.Age.isnull()) & (dataframe['Pclass']==1) & (dataframe['Sex']=='female')), mean_1_female, dataframe['Age'])\n",
    "    dataframe['Age'] = np.where(((dataframe.Age.isnull()) & (dataframe['Pclass']==2) & (dataframe['Sex']=='female')), mean_2_female, dataframe['Age'])\n",
    "    dataframe['Age'] = np.where(((dataframe.Age.isnull()) & (dataframe['Pclass']==3) & (dataframe['Sex']=='female')), mean_3_female, dataframe['Age'])\n",
    "\n",
    "    return dataframe\n",
    "\n",
    "#cleaned data\n",
    "df_Cleaned = replaceAge(df)\n",
    "\n",
    "#now all age data is not null\n",
    "df_Cleaned.isnull().sum() \n"
   ]
  },
  {
   "cell_type": "markdown",
   "metadata": {},
   "source": [
    "### 2. Handling <b>Cabin</b> column null value\n",
    "<ul>\n",
    "<li>Here fill null with X</li>\n",
    "</ul>"
   ]
  },
  {
   "cell_type": "code",
   "execution_count": 6,
   "metadata": {},
   "outputs": [
    {
     "data": {
      "text/plain": [
       "Pclass\n",
       "1     40\n",
       "2    168\n",
       "3    479\n",
       "Name: Pclass, dtype: int64"
      ]
     },
     "execution_count": 6,
     "metadata": {},
     "output_type": "execute_result"
    }
   ],
   "source": [
    "#cabin 687 missing value\n",
    "df_Cleaned[df_Cleaned['Cabin'].isnull()].Pclass.groupby(df_Cleaned['Pclass']).count()"
   ]
  },
  {
   "cell_type": "code",
   "execution_count": 7,
   "metadata": {},
   "outputs": [
    {
     "data": {
      "text/plain": [
       "PassengerId    0\n",
       "Survived       0\n",
       "Pclass         0\n",
       "Name           0\n",
       "Sex            0\n",
       "Age            0\n",
       "SibSp          0\n",
       "Parch          0\n",
       "Ticket         0\n",
       "Fare           0\n",
       "Cabin          0\n",
       "Embarked       2\n",
       "dtype: int64"
      ]
     },
     "execution_count": 7,
     "metadata": {},
     "output_type": "execute_result"
    }
   ],
   "source": [
    "#replacing unknown with X\n",
    "df_Cleaned['Cabin'].fillna('X', inplace=True)\n",
    "\n",
    "#now all cabin data is not null\n",
    "df_Cleaned.isnull().sum() # All cabin null value replaced by X"
   ]
  },
  {
   "cell_type": "markdown",
   "metadata": {},
   "source": [
    "### 3. Handling <b>Embarked</b> column null value <br>\n",
    "Two possibilities:\n",
    "<ul>\n",
    "<li>Drop null</li>\n",
    "<li>Since missing value from 1st class passenger. Replace unknown with place where max people who boarded in first class. (Most people boarded from S.)</li>\n",
    "</ul>"
   ]
  },
  {
   "cell_type": "code",
   "execution_count": 8,
   "metadata": {},
   "outputs": [
    {
     "data": {
      "text/plain": [
       "PassengerId    0\n",
       "Survived       0\n",
       "Pclass         0\n",
       "Name           0\n",
       "Sex            0\n",
       "Age            0\n",
       "SibSp          0\n",
       "Parch          0\n",
       "Ticket         0\n",
       "Fare           0\n",
       "Cabin          0\n",
       "Embarked       0\n",
       "dtype: int64"
      ]
     },
     "execution_count": 8,
     "metadata": {},
     "output_type": "execute_result"
    }
   ],
   "source": [
    "#replacing null values with the maximum occuracnce of passengers from 1 st class\n",
    "df_Cleaned['Embarked'].fillna(df_Cleaned.loc[(df_Cleaned.Embarked.notnull()) & (df_Cleaned.Pclass == 1)].Embarked.value_counts().index[0], inplace=True)\n",
    "\n",
    "#checking the null values again\n",
    "df_Cleaned.isnull().sum() # No null value"
   ]
  },
  {
   "cell_type": "markdown",
   "metadata": {},
   "source": [
    "## Categorical features\n",
    "### Feature manipulation of following columns:\n",
    "<ol>\n",
    "<li>Name</li>\n",
    "<li>Cabin</li>\n",
    "</ol>"
   ]
  },
  {
   "cell_type": "code",
   "execution_count": 9,
   "metadata": {},
   "outputs": [],
   "source": [
    "# function to create  \n",
    "def extract_info(dataframe):\n",
    "    dataframe['Title'] = dataframe['Name'].str.extract(r',\\s*([^\\.]*)\\s*\\.',expand=False)\n",
    "    surnames = {'Lady':1, 'Master':1, 'the Countess':1, 'Jonkheer':1, 'Sir':1, 'Don':1, 'Dr':1,\n",
    "                 'Mrs':2, 'Mme':2, \n",
    "                 'Miss':3, 'Mlle':3, 'Ms':3,\n",
    "                 'Mr':4, \n",
    "                 'Capt': 5, 'Col':5, 'Major':5, 'Rev':5 }\n",
    "    dataframe['Title'] = dataframe['Title'].map(surnames)\n",
    "    dataframe['Cabin'] = dataframe['Cabin'].map(lambda x: x[0])               #first letter of cabin\n",
    "    dataframe = dataframe.drop(['Name'], axis=1)\n",
    "    return dataframe"
   ]
  },
  {
   "cell_type": "code",
   "execution_count": 10,
   "metadata": {},
   "outputs": [
    {
     "data": {
      "text/html": [
       "<div>\n",
       "<style scoped>\n",
       "    .dataframe tbody tr th:only-of-type {\n",
       "        vertical-align: middle;\n",
       "    }\n",
       "\n",
       "    .dataframe tbody tr th {\n",
       "        vertical-align: top;\n",
       "    }\n",
       "\n",
       "    .dataframe thead th {\n",
       "        text-align: right;\n",
       "    }\n",
       "</style>\n",
       "<table border=\"1\" class=\"dataframe\">\n",
       "  <thead>\n",
       "    <tr style=\"text-align: right;\">\n",
       "      <th></th>\n",
       "      <th>PassengerId</th>\n",
       "      <th>Survived</th>\n",
       "      <th>Pclass</th>\n",
       "      <th>Sex</th>\n",
       "      <th>Age</th>\n",
       "      <th>SibSp</th>\n",
       "      <th>Parch</th>\n",
       "      <th>Ticket</th>\n",
       "      <th>Fare</th>\n",
       "      <th>Cabin</th>\n",
       "      <th>Embarked</th>\n",
       "      <th>Title</th>\n",
       "    </tr>\n",
       "  </thead>\n",
       "  <tbody>\n",
       "    <tr>\n",
       "      <th>0</th>\n",
       "      <td>1</td>\n",
       "      <td>0</td>\n",
       "      <td>3</td>\n",
       "      <td>male</td>\n",
       "      <td>22.0</td>\n",
       "      <td>1</td>\n",
       "      <td>0</td>\n",
       "      <td>A/5 21171</td>\n",
       "      <td>7.2500</td>\n",
       "      <td>X</td>\n",
       "      <td>S</td>\n",
       "      <td>4</td>\n",
       "    </tr>\n",
       "    <tr>\n",
       "      <th>1</th>\n",
       "      <td>2</td>\n",
       "      <td>1</td>\n",
       "      <td>1</td>\n",
       "      <td>female</td>\n",
       "      <td>38.0</td>\n",
       "      <td>1</td>\n",
       "      <td>0</td>\n",
       "      <td>PC 17599</td>\n",
       "      <td>71.2833</td>\n",
       "      <td>C</td>\n",
       "      <td>C</td>\n",
       "      <td>2</td>\n",
       "    </tr>\n",
       "    <tr>\n",
       "      <th>2</th>\n",
       "      <td>3</td>\n",
       "      <td>1</td>\n",
       "      <td>3</td>\n",
       "      <td>female</td>\n",
       "      <td>26.0</td>\n",
       "      <td>0</td>\n",
       "      <td>0</td>\n",
       "      <td>STON/O2. 3101282</td>\n",
       "      <td>7.9250</td>\n",
       "      <td>X</td>\n",
       "      <td>S</td>\n",
       "      <td>3</td>\n",
       "    </tr>\n",
       "    <tr>\n",
       "      <th>3</th>\n",
       "      <td>4</td>\n",
       "      <td>1</td>\n",
       "      <td>1</td>\n",
       "      <td>female</td>\n",
       "      <td>35.0</td>\n",
       "      <td>1</td>\n",
       "      <td>0</td>\n",
       "      <td>113803</td>\n",
       "      <td>53.1000</td>\n",
       "      <td>C</td>\n",
       "      <td>S</td>\n",
       "      <td>2</td>\n",
       "    </tr>\n",
       "    <tr>\n",
       "      <th>4</th>\n",
       "      <td>5</td>\n",
       "      <td>0</td>\n",
       "      <td>3</td>\n",
       "      <td>male</td>\n",
       "      <td>35.0</td>\n",
       "      <td>0</td>\n",
       "      <td>0</td>\n",
       "      <td>373450</td>\n",
       "      <td>8.0500</td>\n",
       "      <td>X</td>\n",
       "      <td>S</td>\n",
       "      <td>4</td>\n",
       "    </tr>\n",
       "  </tbody>\n",
       "</table>\n",
       "</div>"
      ],
      "text/plain": [
       "   PassengerId  Survived  Pclass     Sex   Age  SibSp  Parch  \\\n",
       "0            1         0       3    male  22.0      1      0   \n",
       "1            2         1       1  female  38.0      1      0   \n",
       "2            3         1       3  female  26.0      0      0   \n",
       "3            4         1       1  female  35.0      1      0   \n",
       "4            5         0       3    male  35.0      0      0   \n",
       "\n",
       "             Ticket     Fare Cabin Embarked  Title  \n",
       "0         A/5 21171   7.2500     X        S      4  \n",
       "1          PC 17599  71.2833     C        C      2  \n",
       "2  STON/O2. 3101282   7.9250     X        S      3  \n",
       "3            113803  53.1000     C        S      2  \n",
       "4            373450   8.0500     X        S      4  "
      ]
     },
     "execution_count": 10,
     "metadata": {},
     "output_type": "execute_result"
    }
   ],
   "source": [
    "df_manipulated = extract_info(df_Cleaned)\n",
    "df_manipulated.head(n=5)"
   ]
  },
  {
   "cell_type": "code",
   "execution_count": 11,
   "metadata": {},
   "outputs": [],
   "source": [
    "# save data to local\n",
    "df_manipulated.to_csv(\"./Dataset/train_cleaned.csv\")"
   ]
  },
  {
   "cell_type": "markdown",
   "metadata": {},
   "source": [
    "# 3. Exploratory Data Analysis\n",
    "\n",
    "## Data Exploration using Pandas\n",
    "\n",
    "### Get a little bit more information such as\n",
    "<ol>\n",
    "<li>number of columns</li>\n",
    "<li>column dtype</li>\n",
    "<li>column names</li>\n",
    "<li>number of data points</li>\n",
    "</ol>\n",
    "\n",
    "There should not be any null values as it has already been handled"
   ]
  },
  {
   "cell_type": "code",
   "execution_count": 12,
   "metadata": {},
   "outputs": [
    {
     "name": "stdout",
     "output_type": "stream",
     "text": [
      "<class 'pandas.core.frame.DataFrame'>\n",
      "RangeIndex: 891 entries, 0 to 890\n",
      "Data columns (total 12 columns):\n",
      " #   Column       Non-Null Count  Dtype  \n",
      "---  ------       --------------  -----  \n",
      " 0   PassengerId  891 non-null    int64  \n",
      " 1   Survived     891 non-null    int64  \n",
      " 2   Pclass       891 non-null    int64  \n",
      " 3   Sex          891 non-null    object \n",
      " 4   Age          891 non-null    float64\n",
      " 5   SibSp        891 non-null    int64  \n",
      " 6   Parch        891 non-null    int64  \n",
      " 7   Ticket       891 non-null    object \n",
      " 8   Fare         891 non-null    float64\n",
      " 9   Cabin        891 non-null    object \n",
      " 10  Embarked     891 non-null    object \n",
      " 11  Title        891 non-null    int64  \n",
      "dtypes: float64(2), int64(6), object(4)\n",
      "memory usage: 83.7+ KB\n"
     ]
    }
   ],
   "source": [
    "df_manipulated.info();"
   ]
  },
  {
   "cell_type": "markdown",
   "metadata": {},
   "source": [
    "### Dataset contains 11 columns\n",
    "<ul>\n",
    "<li><b>Features:</b> {PassengerId , Pclass, Name, ...... , Cabin, Embarked}</li>\n",
    "<li><b>Target:</b> Survived</li>\n",
    "</ul>\n",
    "\n",
    "### Describe dataset little bit more and get important statistics of numeric columns\n",
    "<ol>\n",
    "<li>min</li>\n",
    "<li>max</li>\n",
    "<li>mean</li>\n",
    "<li>distribution</li>\n",
    "</ol>"
   ]
  },
  {
   "cell_type": "code",
   "execution_count": 13,
   "metadata": {},
   "outputs": [
    {
     "data": {
      "text/html": [
       "<div>\n",
       "<style scoped>\n",
       "    .dataframe tbody tr th:only-of-type {\n",
       "        vertical-align: middle;\n",
       "    }\n",
       "\n",
       "    .dataframe tbody tr th {\n",
       "        vertical-align: top;\n",
       "    }\n",
       "\n",
       "    .dataframe thead th {\n",
       "        text-align: right;\n",
       "    }\n",
       "</style>\n",
       "<table border=\"1\" class=\"dataframe\">\n",
       "  <thead>\n",
       "    <tr style=\"text-align: right;\">\n",
       "      <th></th>\n",
       "      <th>PassengerId</th>\n",
       "      <th>Survived</th>\n",
       "      <th>Pclass</th>\n",
       "      <th>Age</th>\n",
       "      <th>SibSp</th>\n",
       "      <th>Parch</th>\n",
       "      <th>Fare</th>\n",
       "      <th>Title</th>\n",
       "    </tr>\n",
       "  </thead>\n",
       "  <tbody>\n",
       "    <tr>\n",
       "      <th>count</th>\n",
       "      <td>891.000000</td>\n",
       "      <td>891.000000</td>\n",
       "      <td>891.000000</td>\n",
       "      <td>891.000000</td>\n",
       "      <td>891.000000</td>\n",
       "      <td>891.000000</td>\n",
       "      <td>891.000000</td>\n",
       "      <td>891.000000</td>\n",
       "    </tr>\n",
       "    <tr>\n",
       "      <th>mean</th>\n",
       "      <td>446.000000</td>\n",
       "      <td>0.383838</td>\n",
       "      <td>2.308642</td>\n",
       "      <td>29.318643</td>\n",
       "      <td>0.523008</td>\n",
       "      <td>0.381594</td>\n",
       "      <td>32.204208</td>\n",
       "      <td>3.346801</td>\n",
       "    </tr>\n",
       "    <tr>\n",
       "      <th>std</th>\n",
       "      <td>257.353842</td>\n",
       "      <td>0.486592</td>\n",
       "      <td>0.836071</td>\n",
       "      <td>13.281103</td>\n",
       "      <td>1.102743</td>\n",
       "      <td>0.806057</td>\n",
       "      <td>49.693429</td>\n",
       "      <td>0.940857</td>\n",
       "    </tr>\n",
       "    <tr>\n",
       "      <th>min</th>\n",
       "      <td>1.000000</td>\n",
       "      <td>0.000000</td>\n",
       "      <td>1.000000</td>\n",
       "      <td>0.420000</td>\n",
       "      <td>0.000000</td>\n",
       "      <td>0.000000</td>\n",
       "      <td>0.000000</td>\n",
       "      <td>1.000000</td>\n",
       "    </tr>\n",
       "    <tr>\n",
       "      <th>25%</th>\n",
       "      <td>223.500000</td>\n",
       "      <td>0.000000</td>\n",
       "      <td>2.000000</td>\n",
       "      <td>21.750000</td>\n",
       "      <td>0.000000</td>\n",
       "      <td>0.000000</td>\n",
       "      <td>7.910400</td>\n",
       "      <td>3.000000</td>\n",
       "    </tr>\n",
       "    <tr>\n",
       "      <th>50%</th>\n",
       "      <td>446.000000</td>\n",
       "      <td>0.000000</td>\n",
       "      <td>3.000000</td>\n",
       "      <td>26.507589</td>\n",
       "      <td>0.000000</td>\n",
       "      <td>0.000000</td>\n",
       "      <td>14.454200</td>\n",
       "      <td>4.000000</td>\n",
       "    </tr>\n",
       "    <tr>\n",
       "      <th>75%</th>\n",
       "      <td>668.500000</td>\n",
       "      <td>1.000000</td>\n",
       "      <td>3.000000</td>\n",
       "      <td>36.000000</td>\n",
       "      <td>1.000000</td>\n",
       "      <td>0.000000</td>\n",
       "      <td>31.000000</td>\n",
       "      <td>4.000000</td>\n",
       "    </tr>\n",
       "    <tr>\n",
       "      <th>max</th>\n",
       "      <td>891.000000</td>\n",
       "      <td>1.000000</td>\n",
       "      <td>3.000000</td>\n",
       "      <td>80.000000</td>\n",
       "      <td>8.000000</td>\n",
       "      <td>6.000000</td>\n",
       "      <td>512.329200</td>\n",
       "      <td>5.000000</td>\n",
       "    </tr>\n",
       "  </tbody>\n",
       "</table>\n",
       "</div>"
      ],
      "text/plain": [
       "       PassengerId    Survived      Pclass         Age       SibSp  \\\n",
       "count   891.000000  891.000000  891.000000  891.000000  891.000000   \n",
       "mean    446.000000    0.383838    2.308642   29.318643    0.523008   \n",
       "std     257.353842    0.486592    0.836071   13.281103    1.102743   \n",
       "min       1.000000    0.000000    1.000000    0.420000    0.000000   \n",
       "25%     223.500000    0.000000    2.000000   21.750000    0.000000   \n",
       "50%     446.000000    0.000000    3.000000   26.507589    0.000000   \n",
       "75%     668.500000    1.000000    3.000000   36.000000    1.000000   \n",
       "max     891.000000    1.000000    3.000000   80.000000    8.000000   \n",
       "\n",
       "            Parch        Fare       Title  \n",
       "count  891.000000  891.000000  891.000000  \n",
       "mean     0.381594   32.204208    3.346801  \n",
       "std      0.806057   49.693429    0.940857  \n",
       "min      0.000000    0.000000    1.000000  \n",
       "25%      0.000000    7.910400    3.000000  \n",
       "50%      0.000000   14.454200    4.000000  \n",
       "75%      0.000000   31.000000    4.000000  \n",
       "max      6.000000  512.329200    5.000000  "
      ]
     },
     "execution_count": 13,
     "metadata": {},
     "output_type": "execute_result"
    }
   ],
   "source": [
    "df_manipulated.describe()"
   ]
  },
  {
   "cell_type": "markdown",
   "metadata": {},
   "source": [
    "### Answering some important questions\n",
    "<ol>\n",
    "<li>How many survived?</li>\n",
    "<li>Is there any difference in the survival rate based on gender?</li>\n",
    "<li>Does Passengers class has some influence?</li>\n",
    "<li>What about survival rate of passengers based on Title?</li>\n",
    "<li>What about survival rate of passengers based on Cabin?</li>\n",
    "</ol>\n",
    "\n",
    "### How many survived?\n",
    "<br>\n",
    "<br>\n",
    "<b> Number in survived column represents: </b>\n",
    "<ol>\n",
    "<li>0 = Not Suvived </li>\n",
    "<li>1 = Survived</li>\n",
    "</ol>"
   ]
  },
  {
   "cell_type": "code",
   "execution_count": 14,
   "metadata": {},
   "outputs": [
    {
     "data": {
      "text/plain": [
       "Survived\n",
       "0    61.616162\n",
       "1    38.383838\n",
       "Name: PassengerId, dtype: float64"
      ]
     },
     "execution_count": 14,
     "metadata": {},
     "output_type": "execute_result"
    }
   ],
   "source": [
    "df_manipulated['PassengerId'].groupby(df_manipulated['Survived']).count()/len(df_manipulated)*100"
   ]
  },
  {
   "cell_type": "markdown",
   "metadata": {},
   "source": [
    "#### 38.4% survived\n",
    "<ul>\n",
    "<li>61.6% passengers from given dataset didn't survived</li>\n",
    "<li>38.4% passengers from given dataset did survive</li>\n",
    "</ul>\n",
    "\n",
    "#### Slight imbalance in dataset <br>"
   ]
  },
  {
   "cell_type": "markdown",
   "metadata": {},
   "source": [
    "### Is there any difference in the survival rate based on gender?\n",
    "<ol>\n",
    "<li>What is the passengers count based on gender?</li>\n",
    "<li>What is the percentage of female passengers survived?</li>\n",
    "<li>What is the Percentage of male passengers survived?</li>\n",
    "</ol>\n",
    "<br>\n",
    "<br>\n",
    "<b> Number in survived column represents: </b>\n",
    "<ol>\n",
    "<li>0 = Not Suvived </li>\n",
    "<li>1 = Survived</li>\n",
    "</ol>\n",
    "\n",
    "#### What is the passengers count based on gender?"
   ]
  },
  {
   "cell_type": "code",
   "execution_count": 15,
   "metadata": {},
   "outputs": [
    {
     "data": {
      "text/plain": [
       "Sex\n",
       "female    314\n",
       "male      577\n",
       "Name: Sex, dtype: int64"
      ]
     },
     "execution_count": 15,
     "metadata": {},
     "output_type": "execute_result"
    }
   ],
   "source": [
    "df_manipulated['Sex'].groupby(df_manipulated['Sex']).count()"
   ]
  },
  {
   "cell_type": "markdown",
   "metadata": {},
   "source": [
    "#### Gender\n",
    "<ol>\n",
    "<li>Female : 314 out of 891</li>\n",
    "<li>Male : 577 out of 891</li>\n",
    "</ol>\n",
    "\n",
    "#### What is the percentage of female passengers survived?\n"
   ]
  },
  {
   "cell_type": "code",
   "execution_count": 16,
   "metadata": {},
   "outputs": [
    {
     "data": {
      "text/plain": [
       "Survived\n",
       "0    25.796178\n",
       "1    74.203822\n",
       "Name: Sex, dtype: float64"
      ]
     },
     "execution_count": 16,
     "metadata": {},
     "output_type": "execute_result"
    }
   ],
   "source": [
    "df_manipulated[df_manipulated.Sex == 'female'].Sex.groupby(df_manipulated.Survived).count()/len(df_manipulated[df_manipulated.Sex == 'female'])*100"
   ]
  },
  {
   "cell_type": "markdown",
   "metadata": {},
   "source": [
    "<b>Female passengers survived : </b> 74.2% \n",
    "\n",
    "#### What is the percentage of male passengers survived?"
   ]
  },
  {
   "cell_type": "code",
   "execution_count": 17,
   "metadata": {},
   "outputs": [
    {
     "data": {
      "text/plain": [
       "Survived\n",
       "0    81.109185\n",
       "1    18.890815\n",
       "Name: Sex, dtype: float64"
      ]
     },
     "execution_count": 17,
     "metadata": {},
     "output_type": "execute_result"
    }
   ],
   "source": [
    "df_manipulated[df_manipulated.Sex == 'male'].Sex.groupby(df_manipulated.Survived).count()/len(df_manipulated[df_manipulated.Sex == 'male'])*100"
   ]
  },
  {
   "cell_type": "markdown",
   "metadata": {},
   "source": [
    "<b>Male passengers survived : </b> 18.9% \n",
    "\n",
    "#### There is an easy trick for pro users"
   ]
  },
  {
   "cell_type": "code",
   "execution_count": 18,
   "metadata": {},
   "outputs": [
    {
     "data": {
      "text/html": [
       "<div>\n",
       "<style scoped>\n",
       "    .dataframe tbody tr th:only-of-type {\n",
       "        vertical-align: middle;\n",
       "    }\n",
       "\n",
       "    .dataframe tbody tr th {\n",
       "        vertical-align: top;\n",
       "    }\n",
       "\n",
       "    .dataframe thead th {\n",
       "        text-align: right;\n",
       "    }\n",
       "</style>\n",
       "<table border=\"1\" class=\"dataframe\">\n",
       "  <thead>\n",
       "    <tr style=\"text-align: right;\">\n",
       "      <th></th>\n",
       "      <th>Survived</th>\n",
       "    </tr>\n",
       "    <tr>\n",
       "      <th>Sex</th>\n",
       "      <th></th>\n",
       "    </tr>\n",
       "  </thead>\n",
       "  <tbody>\n",
       "    <tr>\n",
       "      <th>female</th>\n",
       "      <td>74.203822</td>\n",
       "    </tr>\n",
       "    <tr>\n",
       "      <th>male</th>\n",
       "      <td>18.890815</td>\n",
       "    </tr>\n",
       "  </tbody>\n",
       "</table>\n",
       "</div>"
      ],
      "text/plain": [
       "         Survived\n",
       "Sex              \n",
       "female  74.203822\n",
       "male    18.890815"
      ]
     },
     "execution_count": 18,
     "metadata": {},
     "output_type": "execute_result"
    }
   ],
   "source": [
    "#In short\n",
    "df_manipulated[['Sex', 'Survived']].groupby(['Sex']).mean()*100"
   ]
  },
  {
   "cell_type": "markdown",
   "metadata": {},
   "source": [
    "### Does Passengers class has some influence?"
   ]
  },
  {
   "cell_type": "code",
   "execution_count": 19,
   "metadata": {},
   "outputs": [
    {
     "data": {
      "text/html": [
       "<div>\n",
       "<style scoped>\n",
       "    .dataframe tbody tr th:only-of-type {\n",
       "        vertical-align: middle;\n",
       "    }\n",
       "\n",
       "    .dataframe tbody tr th {\n",
       "        vertical-align: top;\n",
       "    }\n",
       "\n",
       "    .dataframe thead th {\n",
       "        text-align: right;\n",
       "    }\n",
       "</style>\n",
       "<table border=\"1\" class=\"dataframe\">\n",
       "  <thead>\n",
       "    <tr style=\"text-align: right;\">\n",
       "      <th></th>\n",
       "      <th>Survived</th>\n",
       "    </tr>\n",
       "    <tr>\n",
       "      <th>Pclass</th>\n",
       "      <th></th>\n",
       "    </tr>\n",
       "  </thead>\n",
       "  <tbody>\n",
       "    <tr>\n",
       "      <th>1</th>\n",
       "      <td>62.962963</td>\n",
       "    </tr>\n",
       "    <tr>\n",
       "      <th>2</th>\n",
       "      <td>47.282609</td>\n",
       "    </tr>\n",
       "    <tr>\n",
       "      <th>3</th>\n",
       "      <td>24.236253</td>\n",
       "    </tr>\n",
       "  </tbody>\n",
       "</table>\n",
       "</div>"
      ],
      "text/plain": [
       "         Survived\n",
       "Pclass           \n",
       "1       62.962963\n",
       "2       47.282609\n",
       "3       24.236253"
      ]
     },
     "execution_count": 19,
     "metadata": {},
     "output_type": "execute_result"
    }
   ],
   "source": [
    "df_manipulated[['Pclass', 'Survived']].groupby(['Pclass']).mean()*100"
   ]
  },
  {
   "cell_type": "markdown",
   "metadata": {},
   "source": [
    "Class 1st passenger survival rate was more comaprison to 2nd and 3rd. <br>\n",
    "<b>Note: </b> Please keep in mind this is the comparison within a group not with total population.\n",
    "\n",
    "### What about survival rate of passengers based on Title?\n",
    "\n",
    "<ol>\n",
    "<li>Lady, Master, The Countess, Jonkheer, Sir, Don, Dr. </li>\n",
    "<li>Mrs, Mme</li>\n",
    "<li>Miss, Mlle, Ms</li>\n",
    "<li>Mr</li>\n",
    "<li>Capt, Col, Major, Rev</li>\n",
    "</ol>"
   ]
  },
  {
   "cell_type": "code",
   "execution_count": 20,
   "metadata": {},
   "outputs": [
    {
     "data": {
      "text/html": [
       "<div>\n",
       "<style scoped>\n",
       "    .dataframe tbody tr th:only-of-type {\n",
       "        vertical-align: middle;\n",
       "    }\n",
       "\n",
       "    .dataframe tbody tr th {\n",
       "        vertical-align: top;\n",
       "    }\n",
       "\n",
       "    .dataframe thead th {\n",
       "        text-align: right;\n",
       "    }\n",
       "</style>\n",
       "<table border=\"1\" class=\"dataframe\">\n",
       "  <thead>\n",
       "    <tr style=\"text-align: right;\">\n",
       "      <th></th>\n",
       "      <th>Survived</th>\n",
       "    </tr>\n",
       "    <tr>\n",
       "      <th>Title</th>\n",
       "      <th></th>\n",
       "    </tr>\n",
       "  </thead>\n",
       "  <tbody>\n",
       "    <tr>\n",
       "      <th>1</th>\n",
       "      <td>55.769231</td>\n",
       "    </tr>\n",
       "    <tr>\n",
       "      <th>2</th>\n",
       "      <td>79.365079</td>\n",
       "    </tr>\n",
       "    <tr>\n",
       "      <th>3</th>\n",
       "      <td>70.270270</td>\n",
       "    </tr>\n",
       "    <tr>\n",
       "      <th>4</th>\n",
       "      <td>15.667311</td>\n",
       "    </tr>\n",
       "    <tr>\n",
       "      <th>5</th>\n",
       "      <td>18.181818</td>\n",
       "    </tr>\n",
       "  </tbody>\n",
       "</table>\n",
       "</div>"
      ],
      "text/plain": [
       "        Survived\n",
       "Title           \n",
       "1      55.769231\n",
       "2      79.365079\n",
       "3      70.270270\n",
       "4      15.667311\n",
       "5      18.181818"
      ]
     },
     "execution_count": 20,
     "metadata": {},
     "output_type": "execute_result"
    }
   ],
   "source": [
    "df_manipulated[['Title', 'Survived']].groupby(['Title']).mean()*100"
   ]
  },
  {
   "cell_type": "markdown",
   "metadata": {},
   "source": [
    "### What about survival rate of passengers based on Cabin?"
   ]
  },
  {
   "cell_type": "code",
   "execution_count": 21,
   "metadata": {},
   "outputs": [
    {
     "data": {
      "text/html": [
       "<div>\n",
       "<style scoped>\n",
       "    .dataframe tbody tr th:only-of-type {\n",
       "        vertical-align: middle;\n",
       "    }\n",
       "\n",
       "    .dataframe tbody tr th {\n",
       "        vertical-align: top;\n",
       "    }\n",
       "\n",
       "    .dataframe thead th {\n",
       "        text-align: right;\n",
       "    }\n",
       "</style>\n",
       "<table border=\"1\" class=\"dataframe\">\n",
       "  <thead>\n",
       "    <tr style=\"text-align: right;\">\n",
       "      <th></th>\n",
       "      <th>Survived</th>\n",
       "    </tr>\n",
       "    <tr>\n",
       "      <th>Cabin</th>\n",
       "      <th></th>\n",
       "    </tr>\n",
       "  </thead>\n",
       "  <tbody>\n",
       "    <tr>\n",
       "      <th>A</th>\n",
       "      <td>46.666667</td>\n",
       "    </tr>\n",
       "    <tr>\n",
       "      <th>B</th>\n",
       "      <td>74.468085</td>\n",
       "    </tr>\n",
       "    <tr>\n",
       "      <th>C</th>\n",
       "      <td>59.322034</td>\n",
       "    </tr>\n",
       "    <tr>\n",
       "      <th>D</th>\n",
       "      <td>75.757576</td>\n",
       "    </tr>\n",
       "    <tr>\n",
       "      <th>E</th>\n",
       "      <td>75.000000</td>\n",
       "    </tr>\n",
       "    <tr>\n",
       "      <th>F</th>\n",
       "      <td>61.538462</td>\n",
       "    </tr>\n",
       "    <tr>\n",
       "      <th>G</th>\n",
       "      <td>50.000000</td>\n",
       "    </tr>\n",
       "    <tr>\n",
       "      <th>T</th>\n",
       "      <td>0.000000</td>\n",
       "    </tr>\n",
       "    <tr>\n",
       "      <th>X</th>\n",
       "      <td>29.985444</td>\n",
       "    </tr>\n",
       "  </tbody>\n",
       "</table>\n",
       "</div>"
      ],
      "text/plain": [
       "        Survived\n",
       "Cabin           \n",
       "A      46.666667\n",
       "B      74.468085\n",
       "C      59.322034\n",
       "D      75.757576\n",
       "E      75.000000\n",
       "F      61.538462\n",
       "G      50.000000\n",
       "T       0.000000\n",
       "X      29.985444"
      ]
     },
     "execution_count": 21,
     "metadata": {},
     "output_type": "execute_result"
    }
   ],
   "source": [
    "df_manipulated[['Cabin', 'Survived']].groupby(['Cabin']).mean()*100"
   ]
  },
  {
   "cell_type": "markdown",
   "metadata": {},
   "source": [
    "#### Passengers in Cabin"
   ]
  },
  {
   "cell_type": "code",
   "execution_count": 22,
   "metadata": {},
   "outputs": [
    {
     "data": {
      "text/html": [
       "<div>\n",
       "<style scoped>\n",
       "    .dataframe tbody tr th:only-of-type {\n",
       "        vertical-align: middle;\n",
       "    }\n",
       "\n",
       "    .dataframe tbody tr th {\n",
       "        vertical-align: top;\n",
       "    }\n",
       "\n",
       "    .dataframe thead th {\n",
       "        text-align: right;\n",
       "    }\n",
       "</style>\n",
       "<table border=\"1\" class=\"dataframe\">\n",
       "  <thead>\n",
       "    <tr style=\"text-align: right;\">\n",
       "      <th></th>\n",
       "      <th>PassengerId</th>\n",
       "    </tr>\n",
       "    <tr>\n",
       "      <th>Cabin</th>\n",
       "      <th></th>\n",
       "    </tr>\n",
       "  </thead>\n",
       "  <tbody>\n",
       "    <tr>\n",
       "      <th>A</th>\n",
       "      <td>15</td>\n",
       "    </tr>\n",
       "    <tr>\n",
       "      <th>B</th>\n",
       "      <td>47</td>\n",
       "    </tr>\n",
       "    <tr>\n",
       "      <th>C</th>\n",
       "      <td>59</td>\n",
       "    </tr>\n",
       "    <tr>\n",
       "      <th>D</th>\n",
       "      <td>33</td>\n",
       "    </tr>\n",
       "    <tr>\n",
       "      <th>E</th>\n",
       "      <td>32</td>\n",
       "    </tr>\n",
       "    <tr>\n",
       "      <th>F</th>\n",
       "      <td>13</td>\n",
       "    </tr>\n",
       "    <tr>\n",
       "      <th>G</th>\n",
       "      <td>4</td>\n",
       "    </tr>\n",
       "    <tr>\n",
       "      <th>T</th>\n",
       "      <td>1</td>\n",
       "    </tr>\n",
       "    <tr>\n",
       "      <th>X</th>\n",
       "      <td>687</td>\n",
       "    </tr>\n",
       "  </tbody>\n",
       "</table>\n",
       "</div>"
      ],
      "text/plain": [
       "       PassengerId\n",
       "Cabin             \n",
       "A               15\n",
       "B               47\n",
       "C               59\n",
       "D               33\n",
       "E               32\n",
       "F               13\n",
       "G                4\n",
       "T                1\n",
       "X              687"
      ]
     },
     "execution_count": 22,
     "metadata": {},
     "output_type": "execute_result"
    }
   ],
   "source": [
    "df_manipulated[['Cabin', 'PassengerId']].groupby(['Cabin']).count()"
   ]
  },
  {
   "cell_type": "markdown",
   "metadata": {},
   "source": [
    "Here Cabin X is the unknown values that was given during data cleaning process\n",
    "\n",
    "## Data Exploration using Visualization techniques\n",
    "\n",
    "\n",
    "#### 1. Pairplot\n",
    "Pairplot to see how different columns are related and how their distribution looks like\n",
    "<br>\n",
    "<br>\n",
    "<b> Number in survived column represents: </b>\n",
    "<ol>\n",
    "<li>0 = Not Suvived </li>\n",
    "<li>1 = Survived</li>\n",
    "</ol>"
   ]
  },
  {
   "cell_type": "code",
   "execution_count": 23,
   "metadata": {},
   "outputs": [
    {
     "data": {
      "image/png": "[encoded data removed]",
      "text/plain": [
       "<Figure size 411.875x360 with 6 Axes>"
      ]
     },
     "metadata": {
      "needs_background": "light"
     },
     "output_type": "display_data"
    }
   ],
   "source": [
    "# some quick visualizatioon\n",
    "numeric_columns = ['Fare', 'Age', 'Survived']\n",
    "\n",
    "#pairplot\n",
    "sns.pairplot(df_manipulated[numeric_columns] ,hue=\"Survived\", palette='Set1');\n"
   ]
  },
  {
   "cell_type": "markdown",
   "metadata": {},
   "source": [
    "From the plot above we do see outliers for Fair feature \n",
    "\n",
    "#### 2. Jointplot\n",
    "Jointplot to see Age group of passengers travelling in which Class and survival rate\n",
    "<br>\n",
    "<br>\n",
    "<b> Number in survived column represents: </b>\n",
    "<ol>\n",
    "<li>0 = Not Suvived </li>\n",
    "<li>1 = Survived</li>\n",
    "</ol>"
   ]
  },
  {
   "cell_type": "code",
   "execution_count": 24,
   "metadata": {},
   "outputs": [
    {
     "data": {
      "image/png": "[encoded data removed]",
      "text/plain": [
       "<Figure size 432x432 with 3 Axes>"
      ]
     },
     "metadata": {
      "needs_background": "light"
     },
     "output_type": "display_data"
    }
   ],
   "source": [
    "#Let's check the age distribution in class\n",
    "sns.jointplot(x='Age', y='Pclass', hue='Survived', data=df_manipulated, kind='kde',fill=True, joint_kws={'alpha': 0.7});"
   ]
  },
  {
   "cell_type": "markdown",
   "metadata": {},
   "source": [
    "From the jointplot above one can conclude the following:\n",
    "<ul>\n",
    "<li>Average young population around 20 were travelling in 3rd Class</li>\n",
    "<li>Survival rate of 1st class is higher</li>\n",
    "</ul>\n",
    "\n",
    "Another jointplot to see relationship between Age and Fare based on Class"
   ]
  },
  {
   "cell_type": "code",
   "execution_count": 25,
   "metadata": {},
   "outputs": [
    {
     "data": {
      "image/png": "[encoded data removed]",
      "text/plain": [
       "<Figure size 432x432 with 3 Axes>"
      ]
     },
     "metadata": {
      "needs_background": "light"
     },
     "output_type": "display_data"
    }
   ],
   "source": [
    "#Let's check the age distribution in class\n",
    "sns.jointplot(x='Age', y='Fare', hue='Pclass', data=df_manipulated[df_manipulated.Fare<150], kind='kde',fill=True, joint_kws={'alpha': 0.9});"
   ]
  },
  {
   "cell_type": "markdown",
   "metadata": {},
   "source": [
    "From the jointplot above one can conclude the following:\n",
    "<ul>\n",
    "<li>Some early birds may have got a good deal and were travelling in 1st Class at low Fare</li>\n",
    "<li>1st class fare price is much higher</li>\n",
    "</ul>\n",
    "\n",
    "#### 3. Boxplot\n",
    "comparing <b>age</b> of passengers travelling in certain <b>class</b> based on <b>gender</b>"
   ]
  },
  {
   "cell_type": "code",
   "execution_count": 26,
   "metadata": {},
   "outputs": [
    {
     "data": {
      "image/png": "[encoded data removed]",
      "text/plain": [
       "<Figure size 432x288 with 1 Axes>"
      ]
     },
     "metadata": {
      "needs_background": "light"
     },
     "output_type": "display_data"
    }
   ],
   "source": [
    "sns.boxplot(x='Pclass', y='Age', hue='Sex', data=df_manipulated[df_manipulated.Age.notnull()]);"
   ]
  },
  {
   "cell_type": "markdown",
   "metadata": {},
   "source": [
    "Same conclusion can be drawn that More young passengers were in 3rd Class (ofcourse there are some outliers) <br>\n",
    "<br>\n",
    "Another boxplot to see relationship between Age and Class based on Survival\n",
    "<br>\n",
    "<br>\n",
    "<b> Number in survived column represents: </b>\n",
    "<ol>\n",
    "<li>0 = Not Suvived </li>\n",
    "<li>1 = Survived</li>\n",
    "</ol>"
   ]
  },
  {
   "cell_type": "code",
   "execution_count": 27,
   "metadata": {},
   "outputs": [
    {
     "data": {
      "image/png": "[encoded data removed]",
      "text/plain": [
       "<Figure size 432x288 with 1 Axes>"
      ]
     },
     "metadata": {
      "needs_background": "light"
     },
     "output_type": "display_data"
    }
   ],
   "source": [
    "sns.boxplot(x='Pclass', y='Age', hue='Survived', data=df_manipulated[df_manipulated.Age.notnull()]);"
   ]
  },
  {
   "cell_type": "markdown",
   "metadata": {},
   "source": [
    "From the boxplot above one can conclude the following:\n",
    "<ul>\n",
    "<li>Young people within the class survived more</li>\n",
    "</ul>\n",
    "\n",
    "#### 4. Histogram\n",
    "\n",
    "A histogram below shows the survival based on Title\n",
    "<br>\n",
    "\n",
    "<b> Number on x-axis represents: </b>\n",
    "<ol>\n",
    "<li>Lady, Master, The Countess, Jonkheer, Sir, Don, Dr. </li>\n",
    "<li>Mrs, Mme</li>\n",
    "<li>Miss, Mlle, Ms</li>\n",
    "<li>Mr</li>\n",
    "<li>Capt, Col, Major, Rev</li>\n",
    "</ol>\n",
    "\n",
    "<br>\n",
    "\n",
    "<b> Number in survived column represents: </b>\n",
    "<ol>\n",
    "<li>0 = Not Suvived </li>\n",
    "<li>1 = Survived</li>\n",
    "</ol>"
   ]
  },
  {
   "cell_type": "code",
   "execution_count": 28,
   "metadata": {},
   "outputs": [
    {
     "data": {
      "image/png": "[encoded data removed]",
      "text/plain": [
       "<Figure size 432x216 with 2 Axes>"
      ]
     },
     "metadata": {
      "needs_background": "light"
     },
     "output_type": "display_data"
    }
   ],
   "source": [
    "sns.FacetGrid(df_manipulated, col='Survived').map(plt.hist, \"Title\");"
   ]
  },
  {
   "cell_type": "markdown",
   "metadata": {},
   "source": [
    "#### 5. KDE plot\n",
    "\n",
    "KDE plot shows the normalized stacked distribution at each Fare value in the grid based on Class"
   ]
  },
  {
   "cell_type": "code",
   "execution_count": 29,
   "metadata": {},
   "outputs": [
    {
     "data": {
      "image/png": "[encoded data removed]",
      "text/plain": [
       "<Figure size 432x288 with 1 Axes>"
      ]
     },
     "metadata": {
      "needs_background": "light"
     },
     "output_type": "display_data"
    }
   ],
   "source": [
    "sns.kdeplot(data=df_manipulated[df_manipulated.Fare<150], x=\"Fare\", hue=\"Pclass\", multiple=\"fill\");"
   ]
  },
  {
   "cell_type": "markdown",
   "metadata": {},
   "source": [
    "#### 6. Scatter plot\n",
    "\n",
    "Scatter plot to show Age vs Fare based on survival\n",
    "\n",
    "<br>\n",
    "\n",
    "<b> Number in survived column represents: </b>\n",
    "<ol>\n",
    "<li>0 = Not Suvived </li>\n",
    "<li>1 = Survived</li>\n",
    "</ol>"
   ]
  },
  {
   "cell_type": "code",
   "execution_count": 30,
   "metadata": {},
   "outputs": [
    {
     "data": {
      "text/plain": [
       "<AxesSubplot:xlabel='Age', ylabel='Fare'>"
      ]
     },
     "execution_count": 30,
     "metadata": {},
     "output_type": "execute_result"
    },
    {
     "data": {
      "image/png": "[encoded data removed]",
      "text/plain": [
       "<Figure size 432x288 with 1 Axes>"
      ]
     },
     "metadata": {
      "needs_background": "light"
     },
     "output_type": "display_data"
    }
   ],
   "source": [
    "sns.scatterplot(data=df_manipulated[df_manipulated.Fare<150], x=\"Age\", y=\"Fare\", hue=\"Survived\")"
   ]
  },
  {
   "cell_type": "markdown",
   "metadata": {},
   "source": [
    "#### 7. Count plot\n",
    "\n",
    "Count plot to show number of passengers in dataset who survived or did not survived\n",
    "\n",
    "<br>\n",
    "\n",
    "<b> Number in survived column represents: </b>\n",
    "<ol>\n",
    "<li>0 = Not Suvived </li>\n",
    "<li>1 = Survived</li>\n",
    "</ol>"
   ]
  },
  {
   "cell_type": "code",
   "execution_count": 31,
   "metadata": {},
   "outputs": [
    {
     "data": {
      "image/png": "[encoded data removed]",
      "text/plain": [
       "<Figure size 432x288 with 1 Axes>"
      ]
     },
     "metadata": {
      "needs_background": "light"
     },
     "output_type": "display_data"
    }
   ],
   "source": [
    "sns.countplot(x = 'Survived', data=df_manipulated, palette='hls')\n",
    "plt.show() "
   ]
  },
  {
   "cell_type": "markdown",
   "metadata": {},
   "source": [
    "## Data Exploration using Tensorflow validator\n",
    "\n",
    "\n",
    "<br>\n",
    "<b> Data visualization using tensorflow data validation </b>\n",
    "<ul>\n",
    "<li>Tensorflow data validation offers quickly to look at missing values </li>\n",
    "<li>It is a combination of data exploration done with pandas and visualization shown above</li>\n",
    "<li>One can export schema of data and later can use it during inference for data validation</li>\n",
    "</ul>\n",
    "\n",
    "### Exploring raw data first\n"
   ]
  },
  {
   "cell_type": "code",
   "execution_count": 32,
   "metadata": {},
   "outputs": [
    {
     "data": {
      "application/javascript": [
       "\n",
       "        if (typeof window.interactive_beam_jquery == 'undefined') {\n",
       "          var jqueryScript = document.createElement('script');\n",
       "          jqueryScript.src = 'https://code.jquery.com/jquery-3.4.1.slim.min.js';\n",
       "          jqueryScript.type = 'text/javascript';\n",
       "          jqueryScript.onload = function() {\n",
       "            var datatableScript = document.createElement('script');\n",
       "            datatableScript.src = 'https://cdn.datatables.net/1.10.20/js/jquery.dataTables.min.js';\n",
       "            datatableScript.type = 'text/javascript';\n",
       "            datatableScript.onload = function() {\n",
       "              window.interactive_beam_jquery = jQuery.noConflict(true);\n",
       "              window.interactive_beam_jquery(document).ready(function($){\n",
       "                \n",
       "              });\n",
       "            }\n",
       "            document.head.appendChild(datatableScript);\n",
       "          };\n",
       "          document.head.appendChild(jqueryScript);\n",
       "        } else {\n",
       "          window.interactive_beam_jquery(document).ready(function($){\n",
       "            \n",
       "          });\n",
       "        }"
      ]
     },
     "metadata": {},
     "output_type": "display_data"
    },
    {
     "name": "stderr",
     "output_type": "stream",
     "text": [
      "WARNING:apache_beam.io.tfrecordio:Couldn't find python-snappy so the implementation of _TFRecordUtil._masked_crc32c is not as fast as it could be.\n"
     ]
    },
    {
     "name": "stdout",
     "output_type": "stream",
     "text": [
      "WARNING:tensorflow:From C:\\Users\\rahul\\.conda\\envs\\medium\\lib\\site-packages\\tensorflow_data_validation\\utils\\stats_util.py:247: tf_record_iterator (from tensorflow.python.lib.io.tf_record) is deprecated and will be removed in a future version.\n",
      "Instructions for updating:\n",
      "Use eager execution and: \n",
      "`tf.data.TFRecordDataset(path)`\n"
     ]
    },
    {
     "name": "stderr",
     "output_type": "stream",
     "text": [
      "WARNING:tensorflow:From C:\\Users\\rahul\\.conda\\envs\\medium\\lib\\site-packages\\tensorflow_data_validation\\utils\\stats_util.py:247: tf_record_iterator (from tensorflow.python.lib.io.tf_record) is deprecated and will be removed in a future version.\n",
      "Instructions for updating:\n",
      "Use eager execution and: \n",
      "`tf.data.TFRecordDataset(path)`\n"
     ]
    },
    {
     "data": {
      "text/html": [
       "<iframe id='facets-iframe' width=\"100%\" height=\"500px\"></iframe>\n",
       "        <script>\n",
       "        facets_iframe = document.getElementById('facets-iframe');\n",
       "        facets_html = '<script src=\"https://cdnjs.cloudflare.com/ajax/libs/webcomponentsjs/1.3.3/webcomponents-lite.js\"><\\/script><link rel=\"import\" href=\"https://raw.githubusercontent.com/PAIR-code/facets/master/facets-dist/facets-jupyter.html\"><facets-overview proto-input=\"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\"></facets-overview>';\n",
       "        facets_iframe.srcdoc = facets_html;\n",
       "         facets_iframe.id = \"\";\n",
       "         setTimeout(() => {\n",
       "           facets_iframe.setAttribute('height', facets_iframe.contentWindow.document.body.offsetHeight + 'px')\n",
       "         }, 1500)\n",
       "         </script>"
      ],
      "text/plain": [
       "<IPython.core.display.HTML object>"
      ]
     },
     "metadata": {},
     "output_type": "display_data"
    }
   ],
   "source": [
    "raw_data = tfdv.generate_statistics_from_csv(data_location=\"./Dataset/train.csv\");\n",
    "#visualize data\n",
    "tfdv.visualize_statistics(raw_data) "
   ]
  },
  {
   "cell_type": "markdown",
   "metadata": {},
   "source": [
    "<b> With 2 lines of code one can get the following informations: </b>\n",
    "<ul>\n",
    "<li>Data count</li>\n",
    "<li>Missing values</li>\n",
    "<li>Stats of numeric and categorical columns</li>\n",
    "<li>Stats of numeric and categorical columns</li>\n",
    "<li>Distribution of each feature</li>\n",
    "<li>Log transformation if data is skewed</li>\n",
    "</ul>\n",
    "\n",
    "<br>\n",
    "\n",
    "### Exploring cleaned data"
   ]
  },
  {
   "cell_type": "code",
   "execution_count": 33,
   "metadata": {},
   "outputs": [
    {
     "data": {
      "text/html": [
       "<iframe id='facets-iframe' width=\"100%\" height=\"500px\"></iframe>\n",
       "        <script>\n",
       "        facets_iframe = document.getElementById('facets-iframe');\n",
       "        facets_html = '<script src=\"https://cdnjs.cloudflare.com/ajax/libs/webcomponentsjs/1.3.3/webcomponents-lite.js\"><\\/script><link rel=\"import\" href=\"https://raw.githubusercontent.com/PAIR-code/facets/master/facets-dist/facets-jupyter.html\"><facets-overview proto-input=\"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\"></facets-overview>';\n",
       "        facets_iframe.srcdoc = facets_html;\n",
       "         facets_iframe.id = \"\";\n",
       "         setTimeout(() => {\n",
       "           facets_iframe.setAttribute('height', facets_iframe.contentWindow.document.body.offsetHeight + 'px')\n",
       "         }, 1500)\n",
       "         </script>"
      ],
      "text/plain": [
       "<IPython.core.display.HTML object>"
      ]
     },
     "metadata": {},
     "output_type": "display_data"
    }
   ],
   "source": [
    "cleaned_data = tfdv.generate_statistics_from_csv(data_location=\"./Dataset/train_cleaned.csv\");\n",
    "#visualize data\n",
    "tfdv.visualize_statistics(cleaned_data) "
   ]
  },
  {
   "cell_type": "markdown",
   "metadata": {},
   "source": [
    "<b> TFDV is not limited to data visulization during the start of Data prep but also it is also useful in the following scenarios: </b>\n",
    "\n",
    "<ul>\n",
    "<li>Validating new data during inference against bad features</li>\n",
    "<li>Validating if there exists any drift in the data during inference</li>\n",
    "<li>Validating data transformation</li>\n",
    "</ul>\n",
    "\n",
    "## Data Exploration using Lux\n",
    "\n",
    "\n",
    "<br>\n",
    "<b> Data visualization using Lux </b>\n",
    "<ul>\n",
    "<li>Lux brings interactive visualizations</li>\n",
    "<li>Powerful intent language</li>\n",
    "<li>Offers visualization recommendations</li>\n",
    "</ul>\n",
    "\n",
    "### Exploring raw data first"
   ]
  },
  {
   "cell_type": "code",
   "execution_count": 36,
   "metadata": {},
   "outputs": [
    {
     "data": {
      "application/vnd.jupyter.widget-view+json": {
       "model_id": "872cd9cd463e45eb857c76624c6e29b2",
       "version_major": 2,
       "version_minor": 0
      },
      "text/plain": [
       "Button(description='Toggle Pandas/Lux', layout=Layout(top='5px', width='140px'), style=ButtonStyle())"
      ]
     },
     "metadata": {},
     "output_type": "display_data"
    },
    {
     "data": {
      "application/vnd.jupyter.widget-view+json": {
       "model_id": "fb7fb4aa1e0f46088094e9d81dda59b5",
       "version_major": 2,
       "version_minor": 0
      },
      "text/plain": [
       "Output()"
      ]
     },
     "metadata": {},
     "output_type": "display_data"
    },
    {
     "data": {
      "text/plain": []
     },
     "execution_count": 36,
     "metadata": {},
     "output_type": "execute_result"
    }
   ],
   "source": [
    "import lux\n",
    "train_rawdata = pd.read_csv(\"./Dataset/train.csv\")\n",
    "train_rawdata"
   ]
  },
  {
   "cell_type": "markdown",
   "metadata": {},
   "source": [
    "<b> Importing Lux gives the capability to switch between Pandas and Lux: </b>\n",
    "<ul>\n",
    "<li>Correlation between features</li>\n",
    "<li>Distribution of features</li>\n",
    "<li>Occurance</li>\n",
    "</ul>\n",
    "\n",
    "<br>\n",
    "\n",
    "### Exploring cleaned data"
   ]
  },
  {
   "cell_type": "code",
   "execution_count": 35,
   "metadata": {},
   "outputs": [
    {
     "data": {
      "application/vnd.jupyter.widget-view+json": {
       "model_id": "d07dbd5187be4c72aacf3262ae68990a",
       "version_major": 2,
       "version_minor": 0
      },
      "text/plain": [
       "Button(description='Toggle Pandas/Lux', layout=Layout(top='5px', width='140px'), style=ButtonStyle())"
      ]
     },
     "metadata": {},
     "output_type": "display_data"
    },
    {
     "data": {
      "application/vnd.jupyter.widget-view+json": {
       "model_id": "8da1819815004ac19cc7c3e59948ccc6",
       "version_major": 2,
       "version_minor": 0
      },
      "text/plain": [
       "Output()"
      ]
     },
     "metadata": {},
     "output_type": "display_data"
    },
    {
     "data": {
      "text/plain": []
     },
     "execution_count": 35,
     "metadata": {},
     "output_type": "execute_result"
    }
   ],
   "source": [
    "train_cleaneddata = pd.read_csv(\"./Dataset/train_cleaned.csv\")\n",
    "train_cleaneddata"
   ]
  },
  {
   "cell_type": "code",
   "execution_count": 40,
   "metadata": {},
   "outputs": [
    {
     "data": {
      "application/vnd.jupyter.widget-view+json": {
       "model_id": "2cce68b6f8b4437bad8c06a39bf48d96",
       "version_major": 2,
       "version_minor": 0
      },
      "text/plain": [
       "Button(description='Toggle Pandas/Lux', layout=Layout(top='5px', width='140px'), style=ButtonStyle())"
      ]
     },
     "metadata": {},
     "output_type": "display_data"
    },
    {
     "data": {
      "application/vnd.jupyter.widget-view+json": {
       "model_id": "db2ee9cd3fa74e4c973068f0be8319cb",
       "version_major": 2,
       "version_minor": 0
      },
      "text/plain": [
       "Output()"
      ]
     },
     "metadata": {},
     "output_type": "display_data"
    },
    {
     "data": {
      "text/plain": []
     },
     "execution_count": 40,
     "metadata": {},
     "output_type": "execute_result"
    }
   ],
   "source": [
    "train_cleaneddata.intent = ['Fare','Pclass','Age']\n",
    "train_cleaneddata"
   ]
  },
  {
   "cell_type": "code",
   "execution_count": 38,
   "metadata": {},
   "outputs": [
    {
     "name": "stdout",
     "output_type": "stream",
     "text": [
      "Saved HTML to file.html\n"
     ]
    }
   ],
   "source": [
    "train_cleaneddata.save_as_html('file.html')"
   ]
  }
 ],
 "metadata": {
  "kernelspec": {
   "display_name": "medium kernel",
   "language": "python",
   "name": "medium"
  },
  "language_info": {
   "codemirror_mode": {
    "name": "ipython",
    "version": 3
   },
   "file_extension": ".py",
   "mimetype": "text/x-python",
   "name": "python",
   "nbconvert_exporter": "python",
   "pygments_lexer": "ipython3",
   "version": "3.8.5"
  }
 },
 "nbformat": 4,
 "nbformat_minor": 4
}
