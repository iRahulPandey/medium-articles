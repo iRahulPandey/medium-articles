{
 "metadata": {
  "language_info": {
   "codemirror_mode": {
    "name": "ipython",
    "version": 3
   },
   "file_extension": ".py",
   "mimetype": "text/x-python",
   "name": "python",
   "nbconvert_exporter": "python",
   "pygments_lexer": "ipython3",
   "version": "3.8.5"
  },
  "orig_nbformat": 2,
  "kernelspec": {
   "name": "python385jvsc74a57bd0827c4add5b6840af82bac3798a0b95f166191b93d572e79c1f3382d3c0dcc227",
   "display_name": "Python 3.8.5 64-bit ('medium': conda)"
  }
 },
 "nbformat": 4,
 "nbformat_minor": 2,
 "cells": [
  {
   "cell_type": "code",
   "execution_count": 1,
   "metadata": {},
   "outputs": [],
   "source": [
    "# import library\n",
    "import pandas as pd\n",
    "import numpy as np\n",
    "import re\n",
    "\n",
    "import warnings\n",
    "warnings.filterwarnings('ignore')"
   ]
  },
  {
   "cell_type": "code",
   "execution_count": 2,
   "metadata": {},
   "outputs": [],
   "source": [
    "# import dataset\n",
    "df = pd.read_csv('./input.txt', delimiter = \"\\t\", header=None)\n",
    "df.columns = ['Raw']"
   ]
  },
  {
   "cell_type": "code",
   "execution_count": 3,
   "metadata": {},
   "outputs": [],
   "source": [
    "# create new dataset\n",
    "# Grant Period\n",
    "new_dataset = pd.DataFrame(data = np.array(df.iloc[df[df['Raw'].str.match('Grant period')].index+1]), columns = ['Grant period'])\n",
    "\n",
    "# Appropriated budget\n",
    "new_dataset['Appropriated budget'] = np.array(df.iloc[df[df['Raw'].str.match('Appropriated budget')].index+1])\n",
    "\n",
    "# Executing entity\n",
    "new_dataset['Executing entity'] = np.array(df.iloc[df[df['Raw'].str.match('Executing entity')].index+1])\n",
    "\n",
    "# Reference number\n",
    "new_dataset['Reference number'] = np.array(df.iloc[df[df['Raw'].str.match('Reference number')].index+1])\n",
    "\n",
    "# Project\n",
    "new_dataset['Project'] = np.array(df[~df['Raw'].isin(new_dataset['Grant period'])][~df['Raw'].isin(new_dataset['Appropriated budget'])][~df['Raw'].isin(new_dataset['Executing entity'])][~df['Raw'].isin(new_dataset['Reference number'])][~df['Raw'].str.contains(\"Grant period\")][~df['Raw'].str.contains(\"Appropriated budget\")][~df['Raw'].str.contains(\"Executing entity\")][~df['Raw'].str.contains(\"Reference number\")]);\n"
   ]
  },
  {
   "cell_type": "code",
   "execution_count": 4,
   "metadata": {},
   "outputs": [],
   "source": [
    "# Create Desired Format\n",
    "\n",
    "# Date\n",
    "dataset = pd.DataFrame(new_dataset['Grant period'].str.split(' ',1).tolist(),\n",
    "                                 columns = ['Start Date','End Date'])\n",
    "\n",
    "# Budget\n",
    "dataset['Budget'] = new_dataset['Appropriated budget'].str.replace(',', '').str.replace('€', '').astype(float)\n",
    "\n",
    "# Institution\n",
    "dataset['Institution'] = new_dataset['Executing entity']\n",
    "\n",
    "# Reference Number\n",
    "dataset['FKZ'] = new_dataset['Reference number']\n",
    "\n",
    "# Project Type\n",
    "dataset['Project type'] = new_dataset['Project'].apply(lambda x: \"Joint Project\" if \"jointproject\" in x.lower().strip().replace(\" \", \"\") else \"\")\n",
    "\n",
    "# Project Type Binary\n",
    "dataset['Project type binary'] = new_dataset['Project'].apply(lambda x: 1 if \"jointproject\" in x.lower().strip().replace(\" \", \"\") else 0)\n",
    "\n",
    "# Project Name\n",
    "dataset['Project'] = new_dataset['Project'].str.replace('Joint projects', '').str.replace('Joint project', '').str.replace('[:,@]', '').str.strip()"
   ]
  },
  {
   "cell_type": "code",
   "execution_count": 5,
   "metadata": {},
   "outputs": [],
   "source": [
    "# data sources link\n",
    "excel_to_dir = './excel_data.csv'\n",
    "\n",
    "# read data from excel file\n",
    "# please make sure that xlrd package is installed\n",
    "# if xlrd > 2.0.1 then also install openpyxl package\n",
    "dataset.to_csv(excel_to_dir)"
   ]
  },
  {
   "cell_type": "code",
   "execution_count": 6,
   "metadata": {},
   "outputs": [
    {
     "output_type": "execute_result",
     "data": {
      "text/plain": [
       "   Start Date    End Date      Budget  \\\n",
       "0  2015-06-01  2017-02-28    61135.25   \n",
       "1  2012-11-01  2016-12-31   250250.00   \n",
       "2  2012-11-01  2013-09-30    33103.95   \n",
       "3  2012-11-01  2017-02-28  2724498.68   \n",
       "4  2012-07-01  2015-06-30   279261.00   \n",
       "\n",
       "                                         Institution        FKZ  \\\n",
       "0              Holzapfel Metallveredelung GmbH, Sinn   0325524D   \n",
       "1                Power-to-Gas Invest GmbH, Stuttgart   0325524B   \n",
       "2  ENERTRAG HyTec GmbH - project development, Sch...   0325524C   \n",
       "3  Center for Solar Energy and Hydrogen Research ...   0325524A   \n",
       "4            FUMATECH BWT GmbH, Bietigheim-Bissingen  03EK3012B   \n",
       "\n",
       "    Project type  Project type binary  \\\n",
       "0  Joint Project                    1   \n",
       "1  Joint Project                    1   \n",
       "2  Joint Project                    1   \n",
       "3  Joint Project                    1   \n",
       "4  Joint Project                    1   \n",
       "\n",
       "                                             Project  \n",
       "0  Development work on alkaline pressure electrol...  \n",
       "1  'Development work on alkaline pressure electro...  \n",
       "2  Development work on alkaline pressure electrol...  \n",
       "3  'Development work on alkaline pressure electro...  \n",
       "4  MaPEI Membrane electrode units for alkaline PE...  "
      ],
      "text/html": "<div>\n<style scoped>\n    .dataframe tbody tr th:only-of-type {\n        vertical-align: middle;\n    }\n\n    .dataframe tbody tr th {\n        vertical-align: top;\n    }\n\n    .dataframe thead th {\n        text-align: right;\n    }\n</style>\n<table border=\"1\" class=\"dataframe\">\n  <thead>\n    <tr style=\"text-align: right;\">\n      <th></th>\n      <th>Start Date</th>\n      <th>End Date</th>\n      <th>Budget</th>\n      <th>Institution</th>\n      <th>FKZ</th>\n      <th>Project type</th>\n      <th>Project type binary</th>\n      <th>Project</th>\n    </tr>\n  </thead>\n  <tbody>\n    <tr>\n      <th>0</th>\n      <td>2015-06-01</td>\n      <td>2017-02-28</td>\n      <td>61135.25</td>\n      <td>Holzapfel Metallveredelung GmbH, Sinn</td>\n      <td>0325524D</td>\n      <td>Joint Project</td>\n      <td>1</td>\n      <td>Development work on alkaline pressure electrol...</td>\n    </tr>\n    <tr>\n      <th>1</th>\n      <td>2012-11-01</td>\n      <td>2016-12-31</td>\n      <td>250250.00</td>\n      <td>Power-to-Gas Invest GmbH, Stuttgart</td>\n      <td>0325524B</td>\n      <td>Joint Project</td>\n      <td>1</td>\n      <td>'Development work on alkaline pressure electro...</td>\n    </tr>\n    <tr>\n      <th>2</th>\n      <td>2012-11-01</td>\n      <td>2013-09-30</td>\n      <td>33103.95</td>\n      <td>ENERTRAG HyTec GmbH - project development, Sch...</td>\n      <td>0325524C</td>\n      <td>Joint Project</td>\n      <td>1</td>\n      <td>Development work on alkaline pressure electrol...</td>\n    </tr>\n    <tr>\n      <th>3</th>\n      <td>2012-11-01</td>\n      <td>2017-02-28</td>\n      <td>2724498.68</td>\n      <td>Center for Solar Energy and Hydrogen Research ...</td>\n      <td>0325524A</td>\n      <td>Joint Project</td>\n      <td>1</td>\n      <td>'Development work on alkaline pressure electro...</td>\n    </tr>\n    <tr>\n      <th>4</th>\n      <td>2012-07-01</td>\n      <td>2015-06-30</td>\n      <td>279261.00</td>\n      <td>FUMATECH BWT GmbH, Bietigheim-Bissingen</td>\n      <td>03EK3012B</td>\n      <td>Joint Project</td>\n      <td>1</td>\n      <td>MaPEI Membrane electrode units for alkaline PE...</td>\n    </tr>\n  </tbody>\n</table>\n</div>"
     },
     "metadata": {},
     "execution_count": 6
    }
   ],
   "source": [
    "dataset.head()"
   ]
  }
 ]
}